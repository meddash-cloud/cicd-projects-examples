{
 "cells": [
  {
   "cell_type": "code",
   "execution_count": 6,
   "id": "11fca686-f998-47a0-8651-57d124c25190",
   "metadata": {},
   "outputs": [
    {
     "name": "stdout",
     "output_type": "stream",
     "text": [
      ".git/config\n",
      "[core]\n",
      "\tbare = false\n",
      "[remote \"origin\"]\n",
      "\turl = https://github.com/meddash-cloud/cicd-projects-examples.git\n",
      "\tfetch = +refs/heads/*:refs/remotes/origin/*\n",
      "[branch \"main\"]\n",
      "\tremote = origin\n",
      "\tmerge = refs/heads/main\n",
      "[branch \"datapipelines-019\"]\n",
      "\tremote = origin\n",
      "\tmerge = refs/heads/datapipelines-019\n"
     ]
    }
   ],
   "source": [
    "%%bash\n",
    "\n",
    "cd src\n",
    "ls .git/config\n",
    "cat .git/config"
   ]
  },
  {
   "cell_type": "code",
   "execution_count": 7,
   "id": "9e19e6e5-423a-4977-bca8-5290b66ce654",
   "metadata": {},
   "outputs": [
    {
     "name": "stderr",
     "output_type": "stream",
     "text": [
      "Cloning into 'cicd-projects'...\n"
     ]
    },
    {
     "name": "stdout",
     "output_type": "stream",
     "text": [
      "cicd-ex-001\n",
      "cicd-ex-002\n"
     ]
    }
   ],
   "source": [
    "%%bash\n",
    "\n",
    "git clone https://github.com/meddash-cloud/cicd-projects-examples.git cicd-projects\n",
    "cd cicd-projects\n",
    "ls"
   ]
  },
  {
   "cell_type": "code",
   "execution_count": 10,
   "id": "2d2306f5-dd7a-489c-b161-e7eb178cdfa1",
   "metadata": {},
   "outputs": [
    {
     "name": "stderr",
     "output_type": "stream",
     "text": [
      "Switched to a new branch 'datapipelines-021'\n"
     ]
    },
    {
     "name": "stdout",
     "output_type": "stream",
     "text": [
      "* datapipelines-021\n",
      "  main\n"
     ]
    }
   ],
   "source": [
    "%%bash\n",
    "cd cicd-projects\n",
    "git checkout -b datapipelines-021\n",
    "git branch"
   ]
  },
  {
   "cell_type": "code",
   "execution_count": 12,
   "id": "9638c606-9413-4c24-9a56-b445dbfe1d4e",
   "metadata": {},
   "outputs": [],
   "source": [
    "%%bash\n",
    "cd cicd-projects\n",
    "mkdir datapipelines-021\n",
    "cd datapipelines-021\n"
   ]
  },
  {
   "cell_type": "code",
   "execution_count": 13,
   "id": "2a9e7296-b87b-4f29-8977-f0c843eccd79",
   "metadata": {},
   "outputs": [
    {
     "name": "stdout",
     "output_type": "stream",
     "text": [
      "Collecting minio\n",
      "  Downloading minio-7.1.15-py3-none-any.whl (77 kB)\n",
      "\u001b[2K     \u001b[90m━━━━━━━━━━━━━━━━━━━━━━━━━━━━━━━━━━━━━━━━\u001b[0m \u001b[32m77.4/77.4 kB\u001b[0m \u001b[31m7.9 MB/s\u001b[0m eta \u001b[36m0:00:00\u001b[0m\n",
      "\u001b[?25hRequirement already satisfied: urllib3 in /opt/conda/lib/python3.8/site-packages (from minio) (1.26.9)\n",
      "Requirement already satisfied: certifi in /opt/conda/lib/python3.8/site-packages (from minio) (2022.6.15)\n",
      "Installing collected packages: minio\n",
      "Successfully installed minio-7.1.15\n"
     ]
    }
   ],
   "source": [
    "!pip3 install minio"
   ]
  },
  {
   "cell_type": "code",
   "execution_count": 25,
   "id": "d44a4f6e-4d6a-41aa-ab98-af00b248697e",
   "metadata": {},
   "outputs": [
    {
     "name": "stdout",
     "output_type": "stream",
     "text": [
      "e9e66f405890fe52bd0d51f8b710844f -\n",
      "63ab17ca082c2cf2df594f8d2c4be954 -\n",
      "f97673e6abcac710410fc4630d25d86d -\n",
      "2a03e143e6be5e2f870d944988e2ec66 -\n",
      "d46a88c4215fb3ededb0808ac282ab7d -\n"
     ]
    }
   ],
   "source": [
    "%%bash\n",
    "## create dummy files (sleep 1 to generated random string)\n",
    "echo `date| md5sum` > /tmp/file01 && sleep 1\n",
    "echo `date| md5sum` > /tmp/file02 && sleep 1\n",
    "echo `date| md5sum` > /tmp/file03 && sleep 1\n",
    "echo `date| md5sum` > /tmp/file04 && sleep 1\n",
    "echo `date| md5sum` > /tmp/file05\n",
    "cat /tmp/file0*"
   ]
  },
  {
   "cell_type": "code",
   "execution_count": 14,
   "id": "3914cbab-f3cb-47a1-acba-1588116985ba",
   "metadata": {},
   "outputs": [],
   "source": [
    "from minio import Minio\n",
    "\n",
    "def main():\n",
    "    # Create a client with the MinIO server playground, its access key\n",
    "    # and secret key.\n",
    "    client = Minio(\n",
    "        \"play.min.io\",\n",
    "        access_key=\"Q3AM3UQ867SPQQA43P2F\",\n",
    "        secret_key=\"zuf+tfteSlswRu7BJ86wekitnifILbZam1KYY3TG\",\n",
    "    )\n",
    "\n",
    "    # Make 'asiatrip' bucket if not exist.\n",
    "    found = client.bucket_exists(\"asiatrip\")\n",
    "    if not found:\n",
    "        client.make_bucket(\"asiatrip\")\n",
    "    else:\n",
    "        print(\"Bucket 'asiatrip' already exists\")\n",
    "\n",
    "    # Upload '/home/user/Photos/asiaphotos.zip' as object name\n",
    "    # 'asiaphotos-2015.zip' to bucket 'asiatrip'.\n",
    "    client.fput_object(\n",
    "        \"asiatrip\", \"asiaphotos-2015.zip\", \"/home/user/Photos/asiaphotos.zip\",\n",
    "    )\n",
    "    print(\n",
    "        \"'/home/user/Photos/asiaphotos.zip' is successfully uploaded as \"\n",
    "        \"object 'asiaphotos-2015.zip' to bucket 'asiatrip'.\"\n",
    "    )"
   ]
  },
  {
   "cell_type": "code",
   "execution_count": 37,
   "id": "d4d5379a-0d16-4e87-a47c-cf36133f0331",
   "metadata": {},
   "outputs": [
    {
     "name": "stdout",
     "output_type": "stream",
     "text": [
      "MINIO_SERVICE_SERVICE_PORT_HTTP=9000\n",
      "MINIO_SERVICE_PORT_9000_TCP_ADDR=10.152.183.238\n",
      "MINIO_SERVICE_PORT=tcp://10.152.183.238:9000\n",
      "MINIO_SERVICE_PORT_9000_TCP_PROTO=tcp\n",
      "MINIO_SERVICE_PORT_9000_TCP_PORT=9000\n",
      "MINIO_SERVICE_PORT_9000_TCP=tcp://10.152.183.238:9000\n",
      "MINIO_SERVICE_SERVICE_HOST=10.152.183.238\n",
      "MINIO_SERVICE_SERVICE_PORT=9000\n"
     ]
    }
   ],
   "source": [
    "%%bash\n",
    "env |grep -i minio"
   ]
  },
  {
   "cell_type": "code",
   "execution_count": 40,
   "id": "a9a97348-3c19-41f2-b02c-00036c11b91d",
   "metadata": {},
   "outputs": [
    {
     "name": "stdout",
     "output_type": "stream",
     "text": [
      "minio address:\n",
      "http://10.152.183.238:9000\n"
     ]
    }
   ],
   "source": [
    "%%bash\n",
    "echo minio address:\n",
    "echo http://$MINIO_SERVICE_SERVICE_HOST:$MINIO_SERVICE_SERVICE_PORT_HTTP"
   ]
  },
  {
   "cell_type": "code",
   "execution_count": 45,
   "id": "31924933-167c-409c-ae4d-614470c867d0",
   "metadata": {},
   "outputs": [
    {
     "name": "stdout",
     "output_type": "stream",
     "text": [
      "10.152.183.238:9000\n"
     ]
    }
   ],
   "source": [
    "import os\n",
    "minio_host, minio_port = os.environ[\"MINIO_SERVICE_SERVICE_HOST\"], os.environ[\"MINIO_SERVICE_SERVICE_PORT_HTTP\"]\n",
    "minio_url= \"{}:{}\".format(minio_host, minio_port)\n",
    "print(minio_url)"
   ]
  },
  {
   "cell_type": "code",
   "execution_count": 53,
   "id": "c97e3a2a-4cdf-451c-be3d-5ef8d066c3bd",
   "metadata": {},
   "outputs": [
    {
     "name": "stdout",
     "output_type": "stream",
     "text": [
      "connecting to minio 10.152.183.238:9000\n",
      "try to find bucket datapipeline-021\n",
      "found True\n",
      "Bucket 'datapipeline-021' already exists\n"
     ]
    }
   ],
   "source": [
    "from minio import Minio\n",
    "from minio.error import S3Error\n",
    "\n",
    "BUCKET_NAME=\"datapipeline-021\"\n",
    "\n",
    "config = {\n",
    "    \"endpoint\": minio_url,\n",
    "    \"access_key\": \"minio\",\n",
    "    \"secret_key\": \"minio123\",\n",
    "    \"secure\": False,\n",
    "    }\n",
    "\n",
    "\n",
    "# Create a client with the MinIO server playground, its access key\n",
    "# and secret key.\n",
    "print (\"connecting to minio {}\".format(minio_url))\n",
    "minio_client = Minio(**config)\n",
    "\n",
    "print(\"try to find bucket {}\".format(BUCKET_NAME))\n",
    "found = minio_client.bucket_exists(BUCKET_NAME)\n",
    "print(\"found\", found)\n",
    "if not found:\n",
    "    minio_client.make_bucket(BUCKET_NAME)\n",
    "else:\n",
    "    print(\"Bucket '{}' already exists\".format(BUCKET_NAME))\n",
    "\n",
    "# # Upload '/home/user/Photos/asiaphotos.zip' as object name\n",
    "# # 'asiaphotos-2015.zip' to bucket 'asiatrip'.\n",
    "# client.fput_object(\n",
    "# \"asiatrip\", \"asiaphotos-2015.zip\", \"/home/user/Photos/asiaphotos.zip\",\n",
    "# )\n",
    "# print(\n",
    "# \"'/home/user/Photos/asiaphotos.zip' is successfully uploaded as \"\n",
    "# \"object 'asiaphotos-2015.zip' to bucket 'asiatrip'.\"\n",
    "# )\n"
   ]
  },
  {
   "cell_type": "code",
   "execution_count": 57,
   "id": "b4d36626-9c50-42b7-849b-6fe5542031df",
   "metadata": {},
   "outputs": [],
   "source": [
    "import glob\n",
    "import os\n",
    "files=glob.glob(\"/tmp/file0*\")\n",
    "for filepath in files:\n",
    "    minio_client.fput_object(BUCKET_NAME, os.path.basename(filepath), filepath)"
   ]
  },
  {
   "cell_type": "code",
   "execution_count": 64,
   "id": "7e2f297f-09b4-4b44-9517-97954805b65d",
   "metadata": {},
   "outputs": [
    {
     "name": "stdout",
     "output_type": "stream",
     "text": [
      "file01\n",
      "<minio.datatypes.Object object at 0x7ff1c2b38250>\n",
      "file02\n",
      "<minio.datatypes.Object object at 0x7ff1c2a16fd0>\n",
      "file03\n",
      "<minio.datatypes.Object object at 0x7ff1c2b95250>\n",
      "file04\n",
      "<minio.datatypes.Object object at 0x7ff1d8489b20>\n",
      "file05\n",
      "<minio.datatypes.Object object at 0x7ff1c2b951c0>\n"
     ]
    }
   ],
   "source": [
    "\n",
    "def download_path(filename):\n",
    "    return \"/tmp/minio_download_{}\".format(filename)\n",
    "\n",
    "for item in minio_client.list_objects(BUCKET_NAME,recursive=False):\n",
    "    print(item.object_name)\n",
    "    obj=minio_client.fget_object(BUCKET_NAME,item.object_name,download_path(item.object_name))\n",
    "    print(obj)\n"
   ]
  },
  {
   "cell_type": "code",
   "execution_count": 68,
   "id": "1595df36-6597-422a-b398-363af151758f",
   "metadata": {},
   "outputs": [
    {
     "name": "stdout",
     "output_type": "stream",
     "text": [
      "/tmp/minio_download_file01\n",
      "e9e66f405890fe52bd0d51f8b710844f -\n",
      "/tmp/minio_download_file02\n",
      "63ab17ca082c2cf2df594f8d2c4be954 -\n",
      "/tmp/minio_download_file03\n",
      "f97673e6abcac710410fc4630d25d86d -\n",
      "/tmp/minio_download_file04\n",
      "2a03e143e6be5e2f870d944988e2ec66 -\n",
      "/tmp/minio_download_file05\n",
      "d46a88c4215fb3ededb0808ac282ab7d -\n"
     ]
    }
   ],
   "source": [
    "%%bash\n",
    "for f in `ls /tmp/minio_download*`; do\n",
    "    echo $f\n",
    "    cat $f\n",
    "done\n"
   ]
  }
 ],
 "metadata": {
  "kernelspec": {
   "display_name": "Python 3 (ipykernel)",
   "language": "python",
   "name": "python3"
  },
  "language_info": {
   "codemirror_mode": {
    "name": "ipython",
    "version": 3
   },
   "file_extension": ".py",
   "mimetype": "text/x-python",
   "name": "python",
   "nbconvert_exporter": "python",
   "pygments_lexer": "ipython3",
   "version": "3.8.10"
  }
 },
 "nbformat": 4,
 "nbformat_minor": 5
}
