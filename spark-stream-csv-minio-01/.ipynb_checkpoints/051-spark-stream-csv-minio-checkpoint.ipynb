{
 "cells": [
  {
   "cell_type": "markdown",
   "id": "e50c0824-c12b-4ad3-96ab-1e2f9b4f6229",
   "metadata": {},
   "source": [
    "# Initialization"
   ]
  },
  {
   "cell_type": "code",
   "execution_count": 31,
   "id": "e5f97dd7-a0c6-424d-b98d-f63c9dcc5e0f",
   "metadata": {},
   "outputs": [
    {
     "name": "stdout",
     "output_type": "stream",
     "text": [
      "Welcome to\n",
      "      ____              __\n",
      "     / __/__  ___ _____/ /__\n",
      "    _\\ \\/ _ \\/ _ `/ __/  '_/\n",
      "   /___/ .__/\\_,_/_/ /_/\\_\\   version 3.4.1\n",
      "      /_/\n",
      "                        \n",
      "Using Scala version 2.12.17, OpenJDK 64-Bit Server VM, 17.0.8\n",
      "Branch HEAD\n",
      "Compiled by user centos on 2023-06-19T23:01:01Z\n",
      "Revision 6b1ff22dde1ead51cbf370be6e48a802daae58b6\n",
      "Url https://github.com/apache/spark\n",
      "Type --help for more information.\n",
      "--2023-08-30 13:38:06--  https://raw.githubusercontent.com/meddash-cloud/meddash-public-datasets/main/data/hack_data.csv\n",
      "Resolving raw.githubusercontent.com (raw.githubusercontent.com)... 185.199.109.133, 185.199.110.133, 185.199.108.133, ...\n",
      "Connecting to raw.githubusercontent.com (raw.githubusercontent.com)|185.199.109.133|:443... connected.\n",
      "HTTP request sent, awaiting response... 200 OK\n",
      "Length: 14268 (14K) [text/plain]\n",
      "Saving to: ‘hack_data.csv.1’\n",
      "\n",
      "hack_data.csv.1     100%[===================>]  13.93K  --.-KB/s    in 0.001s  \n",
      "\n",
      "2023-08-30 13:38:06 (17.4 MB/s) - ‘hack_data.csv.1’ saved [14268/14268]\n",
      "\n",
      "connecting to minio minio-service.kubeflow.svc.cluster.local:9000\n",
      "try to find bucket jupyter-spark-16\n",
      "found True\n",
      "Bucket 'jupyter-spark-16' already exists\n",
      "upload file to minio...\n"
     ]
    }
   ],
   "source": [
    "%run 050-init.ipynb"
   ]
  },
  {
   "cell_type": "markdown",
   "id": "86355d4f-d25e-48fa-9c02-31495cc23872",
   "metadata": {},
   "source": [
    "# get csv file from remote"
   ]
  },
  {
   "cell_type": "code",
   "execution_count": null,
   "id": "82949879-2bd4-48a6-b8f1-08a6ec707100",
   "metadata": {},
   "outputs": [],
   "source": [
    "# Split CSV into chunks"
   ]
  },
  {
   "cell_type": "code",
   "execution_count": 8,
   "id": "d1628af9-fefc-4140-a5db-1b0c18dcca4b",
   "metadata": {},
   "outputs": [],
   "source": [
    "%%bash\n",
    "rm -rf csv_chunks\n",
    "mkdir -p csv_chunks\n",
    "split -d -l 40 walmart_stock.csv csv_chunks/chunk_\n",
    "for f in `ls csv_chunks`; do\n",
    "mv csv_chunks/$f csv_chunks/$f.csv\n",
    "done"
   ]
  },
  {
   "cell_type": "code",
   "execution_count": 18,
   "id": "f4180b56-c1f1-4cb4-a917-5c8f5765232a",
   "metadata": {},
   "outputs": [],
   "source": [
    "BUCKET_NAME=\"spark-steam-csv-minio-01\"\n",
    "minio_url = \"minio-service.kubeflow.svc.cluster.local:9000\"\n",
    "minio_key = \"minio\"\n",
    "minio_secret = \"minio123\"\n",
    "minio_config = {\n",
    "        \"endpoint\": minio_url,\n",
    "        \"access_key\": \"minio\",\n",
    "        \"secret_key\": \"minio123\",\n",
    "        \"secure\": False,\n",
    "        }"
   ]
  },
  {
   "cell_type": "code",
   "execution_count": 30,
   "id": "240151d6-9f06-4697-a896-46e350cedd57",
   "metadata": {},
   "outputs": [
    {
     "name": "stdout",
     "output_type": "stream",
     "text": [
      "['csv_chunks/chunk_00.csv', 'csv_chunks/chunk_01.csv', 'csv_chunks/chunk_02.csv', 'csv_chunks/chunk_03.csv', 'csv_chunks/chunk_04.csv', 'csv_chunks/chunk_05.csv', 'csv_chunks/chunk_06.csv', 'csv_chunks/chunk_07.csv', 'csv_chunks/chunk_08.csv', 'csv_chunks/chunk_09.csv', 'csv_chunks/chunk_10.csv', 'csv_chunks/chunk_11.csv', 'csv_chunks/chunk_12.csv', 'csv_chunks/chunk_13.csv', 'csv_chunks/chunk_14.csv', 'csv_chunks/chunk_15.csv', 'csv_chunks/chunk_16.csv', 'csv_chunks/chunk_17.csv', 'csv_chunks/chunk_18.csv', 'csv_chunks/chunk_19.csv', 'csv_chunks/chunk_20.csv', 'csv_chunks/chunk_21.csv', 'csv_chunks/chunk_22.csv', 'csv_chunks/chunk_23.csv', 'csv_chunks/chunk_24.csv', 'csv_chunks/chunk_25.csv', 'csv_chunks/chunk_26.csv', 'csv_chunks/chunk_27.csv', 'csv_chunks/chunk_28.csv', 'csv_chunks/chunk_29.csv', 'csv_chunks/chunk_30.csv', 'csv_chunks/chunk_31.csv']\n",
      "connecting to minio minio-service.kubeflow.svc.cluster.local:9000\n",
      "try to find bucket spark-steam-csv-minio-01\n",
      "found True\n",
      "Bucket 'spark-steam-csv-minio-01' already exists\n"
     ]
    }
   ],
   "source": [
    "import time\n",
    "from threading import Thread\n",
    "from minio import Minio\n",
    "from minio.error import S3Error\n",
    "import os\n",
    "import glob\n",
    "\n",
    "class UploadCSVChunksToMinio(Thread):\n",
    "    def __init__(self, csv_dir_path=None):\n",
    "        super(UploadCSVChunksToMinio, self).__init__()\n",
    "\n",
    "        self.csv_files = sorted(glob.glob(\"{}/*.csv\".format(\"csv_chunks\")))\n",
    "        print(self.csv_files)\n",
    "        print (\"connecting to minio {}\".format(minio_url))\n",
    "        self.minio_client = Minio(**minio_config)\n",
    "        \n",
    "        print(\"try to find bucket {}\".format(BUCKET_NAME))\n",
    "        found = self.minio_client.bucket_exists(BUCKET_NAME)\n",
    "        print(\"found\", found)\n",
    "        if not found:\n",
    "            self.minio_client.make_bucket(BUCKET_NAME)\n",
    "        else:\n",
    "            print(\"Bucket '{}' already exists\".format(BUCKET_NAME))\n",
    "\n",
    "\n",
    "    def upload_file_to_minio(self, upload_file_path):\n",
    "        file_name = os.path.basename(upload_file_path)\n",
    "        self.minio_client.fput_object(BUCKET_NAME, file_name, upload_file_path)\n",
    "    def  deleteAllCSVs(self):\n",
    "        # Delete using \"remove_object\"\n",
    "        objects_to_delete = self.minio_client.list_objects(BUCKET_NAME, prefix=\"/\", recursive=True)\n",
    "        for obj in objects_to_delete:\n",
    "            self.minio_client.remove_object(BUCKET_NAME, obj.object_name)\n",
    "    def run(self):\n",
    "        i=0\n",
    "        self.deleteAllCSVs()\n",
    "        for csv_file in self.csv_files:\n",
    "            self.upload_file_to_minio(csv_file)\n",
    "            time.sleep(10)\n",
    "UploadCSVChunksToMinio(csv_dir_path=\"csv_chunks\").start()"
   ]
  },
  {
   "cell_type": "code",
   "execution_count": 29,
   "id": "84b8c984-61a3-4b93-842c-d33fb9745ff9",
   "metadata": {},
   "outputs": [
    {
     "data": {
      "text/plain": [
       "['csv_chunks/chunk_00.csv',\n",
       " 'csv_chunks/chunk_01.csv',\n",
       " 'csv_chunks/chunk_02.csv',\n",
       " 'csv_chunks/chunk_03.csv',\n",
       " 'csv_chunks/chunk_04.csv',\n",
       " 'csv_chunks/chunk_05.csv',\n",
       " 'csv_chunks/chunk_06.csv',\n",
       " 'csv_chunks/chunk_07.csv',\n",
       " 'csv_chunks/chunk_08.csv',\n",
       " 'csv_chunks/chunk_09.csv',\n",
       " 'csv_chunks/chunk_10.csv',\n",
       " 'csv_chunks/chunk_11.csv',\n",
       " 'csv_chunks/chunk_12.csv',\n",
       " 'csv_chunks/chunk_13.csv',\n",
       " 'csv_chunks/chunk_14.csv',\n",
       " 'csv_chunks/chunk_15.csv',\n",
       " 'csv_chunks/chunk_16.csv',\n",
       " 'csv_chunks/chunk_17.csv',\n",
       " 'csv_chunks/chunk_18.csv',\n",
       " 'csv_chunks/chunk_19.csv',\n",
       " 'csv_chunks/chunk_20.csv',\n",
       " 'csv_chunks/chunk_21.csv',\n",
       " 'csv_chunks/chunk_22.csv',\n",
       " 'csv_chunks/chunk_23.csv',\n",
       " 'csv_chunks/chunk_24.csv',\n",
       " 'csv_chunks/chunk_25.csv',\n",
       " 'csv_chunks/chunk_26.csv',\n",
       " 'csv_chunks/chunk_27.csv',\n",
       " 'csv_chunks/chunk_28.csv',\n",
       " 'csv_chunks/chunk_29.csv',\n",
       " 'csv_chunks/chunk_30.csv',\n",
       " 'csv_chunks/chunk_31.csv']"
      ]
     },
     "execution_count": 29,
     "metadata": {},
     "output_type": "execute_result"
    }
   ],
   "source": [
    "\n",
    "\n",
    "data = spark\\\n",
    ".readStream\\\n",
    ".csv(minio_file_path)"
   ]
  }
 ],
 "metadata": {
  "kernelspec": {
   "display_name": "Python 3 (ipykernel)",
   "language": "python",
   "name": "python3"
  },
  "language_info": {
   "codemirror_mode": {
    "name": "ipython",
    "version": 3
   },
   "file_extension": ".py",
   "mimetype": "text/x-python",
   "name": "python",
   "nbconvert_exporter": "python",
   "pygments_lexer": "ipython3",
   "version": "3.11.5"
  }
 },
 "nbformat": 4,
 "nbformat_minor": 5
}
