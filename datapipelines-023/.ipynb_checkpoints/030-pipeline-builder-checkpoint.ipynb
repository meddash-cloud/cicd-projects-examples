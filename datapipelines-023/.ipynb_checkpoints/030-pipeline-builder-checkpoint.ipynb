{
 "cells": [
  {
   "cell_type": "code",
   "execution_count": 9,
   "id": "3006e2e8-9572-4a11-8085-cfcb7bb31a99",
   "metadata": {},
   "outputs": [],
   "source": [
    "import kfp\n",
    "from kfp import dsl\n",
    "import kfp.components as components\n",
    "from kfp.components import InputPath, InputTextFile, OutputPath, OutputTextFile\n",
    "\n",
    "from typing import NamedTuple"
   ]
  },
  {
   "cell_type": "code",
   "execution_count": null,
   "id": "eb76373a-1fdb-44eb-8567-d86e6e6ab227",
   "metadata": {},
   "outputs": [],
   "source": []
  },
  {
   "cell_type": "code",
   "execution_count": 18,
   "id": "0646fbe2-e0b5-42b0-b211-25a689119ef2",
   "metadata": {},
   "outputs": [
    {
     "name": "stdout",
     "output_type": "stream",
     "text": [
      "build_model.py\t  get_minio_url.py\t save_model.py\n",
      "compile_model.py  print_data.py\t\t upload_local_directory_to_minio.py\n",
      "fit_model.py\t  reshape_train_data.py  visualize_digit.py\n"
     ]
    }
   ],
   "source": [
    "!ls py_src"
   ]
  },
  {
   "cell_type": "code",
   "execution_count": 10,
   "id": "f5949c3f-3995-4cc7-831c-26d4a9604788",
   "metadata": {},
   "outputs": [],
   "source": [
    "# %load py_src/get_minio_url.py\n",
    "#%load py_src/get_minio_url.py\n",
    "#%%file\n",
    "import os\n",
    "def get_minio_url():\n",
    "    minio_host, minio_port = os.environ[\"MINIO_SERVICE_SERVICE_HOST\"], os.environ[\"MINIO_SERVICE_SERVICE_PORT_HTTP\"]\n",
    "    minio_url= \"{}:{}\".format(minio_host, minio_port)\n",
    "    return minio_url\n",
    "\n"
   ]
  },
  {
   "cell_type": "code",
   "execution_count": 2,
   "id": "e34e7aa5-40ca-48dd-8d92-9eb8bdd1431c",
   "metadata": {},
   "outputs": [
    {
     "name": "stderr",
     "output_type": "stream",
     "text": [
      "2023-08-10 00:25:38.169684: W tensorflow/stream_executor/platform/default/dso_loader.cc:59] Could not load dynamic library 'libcudart.so.10.1'; dlerror: libcudart.so.10.1: cannot open shared object file: No such file or directory\n",
      "2023-08-10 00:25:38.169735: I tensorflow/stream_executor/cuda/cudart_stub.cc:29] Ignore above cudart dlerror if you do not have a GPU set up on your machine.\n"
     ]
    }
   ],
   "source": [
    "import tensorflow.keras as keras\n",
    "# import keras\n",
    "(x_train, y_train), (x_test, y_test) = keras.datasets.mnist.load_data()\n"
   ]
  },
  {
   "cell_type": "code",
   "execution_count": 3,
   "id": "29f1d7c8-aff7-4d45-9669-8e4e42d6fc16",
   "metadata": {},
   "outputs": [
    {
     "data": {
      "text/plain": [
       "numpy.ndarray"
      ]
     },
     "execution_count": 3,
     "metadata": {},
     "output_type": "execute_result"
    }
   ],
   "source": [
    "type(x_train)"
   ]
  },
  {
   "cell_type": "code",
   "execution_count": 144,
   "id": "758191a0-a8eb-45d9-b0c9-0dee793a2c08",
   "metadata": {},
   "outputs": [],
   "source": [
    "with open(\"/tmp/tmp123\", \"wb\") as f:\n",
    "    f.write(x_train)\n",
    "    f.close()\n",
    "\n",
    "with open(\"/tmp/tmp123\", \"rb\") as f:\n",
    "    x = f.read()\n",
    "    "
   ]
  },
  {
   "cell_type": "code",
   "execution_count": 6,
   "id": "ee0b4aef-aaaa-4574-8922-986404db5e37",
   "metadata": {},
   "outputs": [
    {
     "data": {
      "text/plain": [
       "(60000, 28, 28)"
      ]
     },
     "execution_count": 6,
     "metadata": {},
     "output_type": "execute_result"
    }
   ],
   "source": [
    "import numpy as np\n",
    "np.save(\"/tmp/np123\", x_train)\n",
    "a=np.load(\"/tmp/np123.npy\")\n",
    "a.shape"
   ]
  },
  {
   "cell_type": "code",
   "execution_count": 19,
   "id": "c890176a-e531-49f4-8965-ed426489391a",
   "metadata": {},
   "outputs": [],
   "source": [
    "\n",
    "#-> NamedTuple(\"Output\", [(\"MnistInputDirPath\", str)])\n",
    "# mnist_input_dir_path: OutputPath(str)\n",
    "def put_public_mnist_to_local_minio() :\n",
    "    # import numpy as np\n",
    "    # import pandas as pd\n",
    "    # import matplotlib.pyplot as plt\n",
    "    # import tensorflow as tf\n",
    "    # from tensorflow import keras\n",
    "\n",
    "    import tempfile\n",
    "    import os\n",
    "    from minio import Minio\n",
    "    import numpy as np\n",
    "    import uuid\n",
    "\n",
    "    # from minio.error import S3Error\n",
    "\n",
    "    def get_minio_url():\n",
    "        minio_host, minio_port = os.environ[\"MINIO_SERVICE_SERVICE_HOST\"], os.environ[\"MINIO_SERVICE_SERVICE_PORT_HTTP\"]\n",
    "        minio_url= \"{}:{}\".format(minio_host, minio_port)\n",
    "        return minio_url\n",
    "    minio_url = get_minio_url()\n",
    "    \n",
    "    BUCKET_NAME=\"datapipeline-023\"\n",
    "    config = {\"endpoint\": minio_url,\n",
    "        \"access_key\": \"minio\",\n",
    "        \"secret_key\": \"minio123\",\n",
    "        \"secure\": False}\n",
    "    minio_client = Minio(**config)\n",
    "\n",
    "    print(\"try to find bucket {}\".format(BUCKET_NAME))\n",
    "    found = minio_client.bucket_exists(BUCKET_NAME)\n",
    "    print(\"found\", found)\n",
    "    if not found:\n",
    "        minio_client.make_bucket(BUCKET_NAME)\n",
    "    else:\n",
    "        print(\"Bucket '{}' already exists\".format(BUCKET_NAME))\n",
    "    \n",
    "    import tensorflow.keras as keras\n",
    "    # import keras\n",
    "    (x_train, y_train), (x_test, y_test) = keras.datasets.mnist.load_data()\n",
    "    #np.save generates file path with .npy suffix.\n",
    "    temp_file_paths= [\"/tmp/\"+str(uuid.uuid4()) for i in range(4)]\n",
    "    for file_path, data in zip(temp_file_paths,[x_train, y_train,x_test, y_test]):\n",
    "        print(\"writing to \",file_path+\".npy\")\n",
    "        np.save(file_path,data)\n",
    "\n",
    "    \n",
    "    \n",
    "    minio_client.fput_object(BUCKET_NAME, \"data/original/x_train.npy\", temp_file_paths[0]+\".npy\")\n",
    "    minio_client.fput_object(BUCKET_NAME, \"data/original/y_train.npy\", temp_file_paths[1]+\".npy\")\n",
    "    minio_client.fput_object(BUCKET_NAME, \"data/original/x_test.npy\", temp_file_paths[2]+\".npy\")\n",
    "    minio_client.fput_object(BUCKET_NAME, \"data/original/y_test.npy\", temp_file_paths[3]+\".npy\")\n",
    "    \n",
    "    for f in temp_file_paths:\n",
    "        os.remove(f+\".npy\")\n",
    "\n",
    "    # from collections import namedtuple\n",
    "    # output = namedtuple('Output', ['MnistInputDirPath'])\n",
    "    # return output(mnist_input_dir_path)\n",
    "    "
   ]
  },
  {
   "cell_type": "code",
   "execution_count": 25,
   "id": "24e5efcc-580a-4fd8-8934-f4fbe6bcd578",
   "metadata": {},
   "outputs": [],
   "source": [
    "\n",
    "#-> NamedTuple(\"Output\", [(\"MnistInputDirPath\", str)])\n",
    "# mnist_input_dir_path: OutputPath(str)\n",
    "def reshape_mnist_and_put_back() :\n",
    "    # import numpy as np\n",
    "    # import pandas as pd\n",
    "    # import matplotlib.pyplot as plt\n",
    "    # import tensorflow as tf\n",
    "    # from tensorflow import keras\n",
    "\n",
    "    import tempfile\n",
    "    import os\n",
    "    from minio import Minio\n",
    "    import numpy as np\n",
    "    import uuid\n",
    "    import glob\n",
    "    \n",
    "    def get_minio_url():\n",
    "        minio_host, minio_port = os.environ[\"MINIO_SERVICE_SERVICE_HOST\"], os.environ[\"MINIO_SERVICE_SERVICE_PORT_HTTP\"]\n",
    "        minio_url= \"{}:{}\".format(minio_host, minio_port)\n",
    "        return minio_url\n",
    "    minio_url = get_minio_url()\n",
    "    \n",
    "    BUCKET_NAME=\"datapipeline-023\"\n",
    "    config = {\"endpoint\": minio_url,\n",
    "        \"access_key\": \"minio\",\n",
    "        \"secret_key\": \"minio123\",\n",
    "        \"secure\": False}\n",
    "    minio_client = Minio(**config)\n",
    "\n",
    "    \n",
    "    random_prefix=str(uuid.uuid4())\n",
    "    \n",
    "    def download_path(filename):\n",
    "        return \"/tmp/{}_{}.npy\".format(random_prefix,filename)\n",
    "    \n",
    "    for file_name in [\"x_train\", \"x_test\"]:\n",
    "        minio_client.fget_object(BUCKET_NAME,  \"data/original/{}.npy\".format(file_name), download_path(file_name) )\n",
    "        reshaped = np.load(download_path(file_name)).reshape(-1,28,28,1) / 255\n",
    "        np.save(download_path(file_name+\".reshaped\"),reshaped)\n",
    "        minio_client.fput_object(BUCKET_NAME, \"data/original/{}.reshaped.npy\".format(file_name), download_path(file_name+\".reshaped\"))\n",
    "\n",
    "    \n",
    "\n",
    "    # minio_client.fput_object(BUCKET_NAME,  \"data/original/y_train.npy\", download_path(\"y_train\") )\n",
    "    # minio_client.fput_object(BUCKET_NAME,  \"data/original/y_test.npy\", download_path(\"y_test\") )\n",
    "    # y_train = np.load(download_path(\"y_train\")) / 255\n",
    "    # y_test = np.load(download_path(\"y_test\"))\n",
    "    \n",
    "   \n",
    "    for f in glob.glob(\"/tmp/{}_*\".format(random_prefix)):\n",
    "        os.remove(f)\n",
    "\n",
    "    # from collections import namedtuple\n",
    "    # output = namedtuple('Output', ['MnistInputDirPath'])\n",
    "    # return output(mnist_input_dir_path)\n",
    "    "
   ]
  },
  {
   "cell_type": "code",
   "execution_count": 18,
   "id": "7df06e82-9394-4f7e-9e5c-2666da8d6bed",
   "metadata": {},
   "outputs": [
    {
     "name": "stdout",
     "output_type": "stream",
     "text": [
      "['/tmp/tmphfo4dhw7.py', '/tmp/tmp_ccp7_34.py', '/tmp/tmpmfmwz4uq.py', '/tmp/tmpm1ukhzmw.py', '/tmp/tmp123']\n"
     ]
    }
   ],
   "source": [
    "import glob\n",
    "a=glob.glob(\"/tmp/tmp*\")\n",
    "print(a)"
   ]
  },
  {
   "cell_type": "code",
   "execution_count": 26,
   "id": "5d39679c-1526-497e-88bc-206abe95a539",
   "metadata": {},
   "outputs": [],
   "source": [
    "\n",
    "\n",
    "# step_put_public_mnist_to_local_minio = components.create_component_from_func(put_public_mnist_to_local_minio,base_image=\"public.ecr.aws/j1r0q0g6/notebooks/notebook-servers/jupyter-tensorflow-full:v1.5.0\")\n",
    "step_put_public_mnist_to_local_minio = components.create_component_from_func(put_public_mnist_to_local_minio,base_image=\"kubeflownotebookswg/jupyter-tensorflow-full\")\n",
    "step_reshape_mnist_and_put_back = components.create_component_from_func(reshape_mnist_and_put_back,base_image=\"kubeflownotebookswg/jupyter-tensorflow-full\")\n",
    "\n",
    "# docker pull kubeflownotebookswg/jupyter-tensorflow-full\n",
    "@dsl.pipeline(\n",
    "    name='kfp-pipeline-mnist-digits-classifir',\n",
    "    description='Classify digits'\n",
    ")\n",
    "def kfp_pipeline_start_point(no_epochs,optimizer):\n",
    "    step1 = step_put_public_mnist_to_local_minio()\n",
    "    step2 = step_reshape_mnist_and_put_back()\n",
    "    step2.after(step1)\n",
    "    \n",
    "#     step1_2 = comp_get_latest_data()\n",
    "    \n",
    "#     step2 = comp_reshape_data()\n",
    "#     step2.after(step1_1)\n",
    "#     step2.after(step1_2)\n",
    "    \n",
    "#     step3 = comp_model_building(no_epochs,optimizer)\n",
    "#     step3.after(step2)\n",
    "    \n",
    "#     step4 = comp_model_serving()\n",
    "#     step4.after(step3)"
   ]
  },
  {
   "cell_type": "code",
   "execution_count": 27,
   "id": "4a93fd91-ba15-4d39-a56f-297bed18b633",
   "metadata": {},
   "outputs": [
    {
     "data": {
      "text/html": [
       "<a href=\"http://10.152.183.145:8888/#/experiments/details/67257858-a105-4486-8f8e-38eb91af137e\" target=\"_blank\" >Experiment details</a>."
      ],
      "text/plain": [
       "<IPython.core.display.HTML object>"
      ]
     },
     "metadata": {},
     "output_type": "display_data"
    },
    {
     "data": {
      "text/html": [
       "<a href=\"http://10.152.183.145:8888/#/runs/details/b72d1f94-7aa9-466e-8dac-096403d5ba08\" target=\"_blank\" >Run details</a>."
      ],
      "text/plain": [
       "<IPython.core.display.HTML object>"
      ]
     },
     "metadata": {},
     "output_type": "display_data"
    }
   ],
   "source": [
    "import os\n",
    "host, port = os.environ[\"ML_PIPELINE_PORT_8888_TCP_ADDR\"],os.environ[\"ML_PIPELINE_SERVICE_PORT_HTTP\"]\n",
    "kfp_endpoint=\"http://{}:{}\".format(host,port)\n",
    "kfp_endpoint\n",
    "\n",
    "\n",
    "\n",
    "\n",
    "kfp_client = kfp.Client(host=kfp_endpoint)\n",
    "#,base_image=\"public.ecr.aws/j1r0q0g6/notebooks/notebook-servers/jupyter-tensorflow-full:v1.5.0\"\n",
    "pipeline_run = kfp_client.create_run_from_pipeline_func(kfp_pipeline_start_point, arguments={})\n"
   ]
  },
  {
   "cell_type": "code",
   "execution_count": 28,
   "id": "387757e6-c3c7-4c68-90a0-da8d924c0f00",
   "metadata": {},
   "outputs": [
    {
     "data": {
      "text/html": [
       "\n",
       "        <iframe\n",
       "            width=\"900\"\n",
       "            height=\"450\"\n",
       "            src=\"http://kf-ml-pipeline-ui.v1005r7c-bfef-4f0b-8028-99d5fdcf47de.hosted.meddash.cloud/#/runs/details/b72d1f94-7aa9-466e-8dac-096403d5ba08\"\n",
       "            frameborder=\"0\"\n",
       "            allowfullscreen\n",
       "            \n",
       "        ></iframe>\n",
       "        "
      ],
      "text/plain": [
       "<IPython.lib.display.IFrame at 0x7f5e56c40790>"
      ]
     },
     "execution_count": 28,
     "metadata": {},
     "output_type": "execute_result"
    }
   ],
   "source": [
    "import os\n",
    "from IPython.display import IFrame\n",
    "cluster_id= \"v1005r7c-bfef-4f0b-8028-99d5fdcf47de\" #os.environ[\"MEDDASH_CLUSTER_ID\"]\n",
    "run_id=pipeline_run.run_id\n",
    "\n",
    "pipeline_vis_endpoint=\"http://kf-ml-pipeline-ui.{}.hosted.meddash.cloud/#/runs/details/{}\".format(cluster_id,run_id)\n",
    "IFrame(pipeline_vis_endpoint, width=900, height=450)"
   ]
  },
  {
   "cell_type": "code",
   "execution_count": 51,
   "id": "581b91c3-f3c8-4d24-8164-68bd63801cee",
   "metadata": {},
   "outputs": [
    {
     "name": "stdout",
     "output_type": "stream",
     "text": [
      "http://kf-ml-pipeline-ui.${MEDDASH_CLUSTER_ID}.hosted.meddash.cloud/#/runs/details/0039aa00-b607-4d8f-80fe-e5cdd4195ba3\n"
     ]
    }
   ],
   "source": [
    "print(pipeline_vis_endpoint)"
   ]
  },
  {
   "cell_type": "code",
   "execution_count": null,
   "id": "d5893318-0443-46e5-9faa-0c8baac7b948",
   "metadata": {},
   "outputs": [],
   "source": []
  },
  {
   "cell_type": "code",
   "execution_count": null,
   "id": "13ece2f1-213d-4e15-b0a5-92fd5f6650c1",
   "metadata": {},
   "outputs": [],
   "source": []
  },
  {
   "cell_type": "code",
   "execution_count": null,
   "id": "a56809a1-510a-4bb6-b92f-aa1455a86402",
   "metadata": {},
   "outputs": [],
   "source": []
  },
  {
   "cell_type": "code",
   "execution_count": null,
   "id": "fe6ec51c-7a0a-4366-b41d-3d7effd4029f",
   "metadata": {},
   "outputs": [],
   "source": []
  },
  {
   "cell_type": "code",
   "execution_count": null,
   "id": "17ac2773-ccb6-495e-b5e7-2d03620b5e06",
   "metadata": {},
   "outputs": [],
   "source": []
  }
 ],
 "metadata": {
  "kernelspec": {
   "display_name": "Python 3 (ipykernel)",
   "language": "python",
   "name": "python3"
  },
  "language_info": {
   "codemirror_mode": {
    "name": "ipython",
    "version": 3
   },
   "file_extension": ".py",
   "mimetype": "text/x-python",
   "name": "python",
   "nbconvert_exporter": "python",
   "pygments_lexer": "ipython3",
   "version": "3.8.10"
  }
 },
 "nbformat": 4,
 "nbformat_minor": 5
}
