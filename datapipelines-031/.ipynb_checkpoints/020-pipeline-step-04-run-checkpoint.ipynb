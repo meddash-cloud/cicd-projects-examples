{
 "cells": [
  {
   "cell_type": "code",
   "execution_count": 1,
   "id": "f6927fa3-c7ca-41f8-b638-03935eb1812b",
   "metadata": {},
   "outputs": [],
   "source": [
    "%run 020-pipeline-step-01.ipynb"
   ]
  },
  {
   "cell_type": "code",
   "execution_count": 2,
   "id": "a5fca38c-2658-42ab-b508-e6c5d606d0f9",
   "metadata": {},
   "outputs": [
    {
     "name": "stdout",
     "output_type": "stream",
     "text": [
      "Overwriting py_src/mnist_model.py\n",
      "Overwriting py_src/handler.py\n"
     ]
    }
   ],
   "source": [
    "%run 020-pipeline-step-02.ipynb"
   ]
  },
  {
   "cell_type": "code",
   "execution_count": 3,
   "id": "a2768753-28c9-4413-8b16-27ca4de94432",
   "metadata": {},
   "outputs": [],
   "source": [
    "%run 020-pipeline-step-03.ipynb"
   ]
  },
  {
   "cell_type": "code",
   "execution_count": 4,
   "id": "5654edc2-2765-46cb-ad4a-82e1f7fb4764",
   "metadata": {},
   "outputs": [
    {
     "name": "stdout",
     "output_type": "stream",
     "text": [
      "mnist_model.py\n"
     ]
    }
   ],
   "source": [
    "%%bash\n",
    "py_src_path=/tmp/abc/test_py_src\n",
    "mkdir -p $py_src_path\n",
    "cp py_src/mnist_model.py $py_src_path\n",
    "ls $py_src_path"
   ]
  },
  {
   "cell_type": "code",
   "execution_count": null,
   "id": "757cfaeb-5372-412e-846c-8596be13fa2e",
   "metadata": {},
   "outputs": [],
   "source": []
  },
  {
   "cell_type": "code",
   "execution_count": 5,
   "id": "be28e504-a248-4a1e-beab-3610b206c5f7",
   "metadata": {},
   "outputs": [
    {
     "name": "stdout",
     "output_type": "stream",
     "text": [
      "minio url: 10.152.183.245:9000\n",
      "try to find bucket datapipelines-031\n",
      "found True\n",
      "Bucket 'datapipelines-031' already exists\n",
      "Downloading http://yann.lecun.com/exdb/mnist/train-images-idx3-ubyte.gz\n",
      "Downloading http://yann.lecun.com/exdb/mnist/train-images-idx3-ubyte.gz to /tmp/6e6c95d3-c9af-4660-bcc6-5566052bcdb3/MNIST/raw/train-images-idx3-ubyte.gz\n"
     ]
    },
    {
     "data": {
      "application/vnd.jupyter.widget-view+json": {
       "model_id": "2d06777a868740fda880b1b2eac22e92",
       "version_major": 2,
       "version_minor": 0
      },
      "text/plain": [
       "  0%|          | 0/9912422 [00:00<?, ?it/s]"
      ]
     },
     "metadata": {},
     "output_type": "display_data"
    },
    {
     "name": "stdout",
     "output_type": "stream",
     "text": [
      "Extracting /tmp/6e6c95d3-c9af-4660-bcc6-5566052bcdb3/MNIST/raw/train-images-idx3-ubyte.gz to /tmp/6e6c95d3-c9af-4660-bcc6-5566052bcdb3/MNIST/raw\n",
      "\n",
      "Downloading http://yann.lecun.com/exdb/mnist/train-labels-idx1-ubyte.gz\n",
      "Downloading http://yann.lecun.com/exdb/mnist/train-labels-idx1-ubyte.gz to /tmp/6e6c95d3-c9af-4660-bcc6-5566052bcdb3/MNIST/raw/train-labels-idx1-ubyte.gz\n"
     ]
    },
    {
     "data": {
      "application/vnd.jupyter.widget-view+json": {
       "model_id": "44df949a1f4c4e37abcfe9ecc61f2e82",
       "version_major": 2,
       "version_minor": 0
      },
      "text/plain": [
       "  0%|          | 0/28881 [00:00<?, ?it/s]"
      ]
     },
     "metadata": {},
     "output_type": "display_data"
    },
    {
     "name": "stdout",
     "output_type": "stream",
     "text": [
      "Extracting /tmp/6e6c95d3-c9af-4660-bcc6-5566052bcdb3/MNIST/raw/train-labels-idx1-ubyte.gz to /tmp/6e6c95d3-c9af-4660-bcc6-5566052bcdb3/MNIST/raw\n",
      "\n",
      "Downloading http://yann.lecun.com/exdb/mnist/t10k-images-idx3-ubyte.gz\n",
      "Downloading http://yann.lecun.com/exdb/mnist/t10k-images-idx3-ubyte.gz to /tmp/6e6c95d3-c9af-4660-bcc6-5566052bcdb3/MNIST/raw/t10k-images-idx3-ubyte.gz\n"
     ]
    },
    {
     "data": {
      "application/vnd.jupyter.widget-view+json": {
       "model_id": "8fc8828c84a84525837ea5def06c1493",
       "version_major": 2,
       "version_minor": 0
      },
      "text/plain": [
       "  0%|          | 0/1648877 [00:00<?, ?it/s]"
      ]
     },
     "metadata": {},
     "output_type": "display_data"
    },
    {
     "name": "stdout",
     "output_type": "stream",
     "text": [
      "Extracting /tmp/6e6c95d3-c9af-4660-bcc6-5566052bcdb3/MNIST/raw/t10k-images-idx3-ubyte.gz to /tmp/6e6c95d3-c9af-4660-bcc6-5566052bcdb3/MNIST/raw\n",
      "\n",
      "Downloading http://yann.lecun.com/exdb/mnist/t10k-labels-idx1-ubyte.gz\n",
      "Downloading http://yann.lecun.com/exdb/mnist/t10k-labels-idx1-ubyte.gz to /tmp/6e6c95d3-c9af-4660-bcc6-5566052bcdb3/MNIST/raw/t10k-labels-idx1-ubyte.gz\n"
     ]
    },
    {
     "data": {
      "application/vnd.jupyter.widget-view+json": {
       "model_id": "a3f8564fcd6b41a6be836d22e6878a32",
       "version_major": 2,
       "version_minor": 0
      },
      "text/plain": [
       "  0%|          | 0/4542 [00:00<?, ?it/s]"
      ]
     },
     "metadata": {},
     "output_type": "display_data"
    },
    {
     "name": "stdout",
     "output_type": "stream",
     "text": [
      "Extracting /tmp/6e6c95d3-c9af-4660-bcc6-5566052bcdb3/MNIST/raw/t10k-labels-idx1-ubyte.gz to /tmp/6e6c95d3-c9af-4660-bcc6-5566052bcdb3/MNIST/raw\n",
      "\n",
      "Processing...\n"
     ]
    },
    {
     "name": "stderr",
     "output_type": "stream",
     "text": [
      "/opt/conda/lib/python3.8/site-packages/torchvision/datasets/mnist.py:502: UserWarning: The given NumPy array is not writeable, and PyTorch does not support non-writeable tensors. This means you can write to the underlying (supposedly non-writeable) NumPy array using the tensor. You may want to copy the array to protect its data or make it writeable before converting it to a tensor. This type of warning will be suppressed for the rest of this program. (Triggered internally at  /pytorch/torch/csrc/utils/tensor_numpy.cpp:143.)\n",
      "  return torch.from_numpy(parsed.astype(m[2], copy=False)).view(*s)\n"
     ]
    },
    {
     "name": "stdout",
     "output_type": "stream",
     "text": [
      "Done!\n",
      "downlaod training data from the bucket: datapipelines-031\n",
      "remote name: data/original/MNIST/processed/test.pt\n",
      "local name: /tmp/data/original/MNIST/processed/test.pt\n",
      "remote name: data/original/MNIST/processed/training.pt\n",
      "local name: /tmp/data/original/MNIST/processed/training.pt\n",
      "remote name: data/original/MNIST/raw/t10k-images-idx3-ubyte\n",
      "local name: /tmp/data/original/MNIST/raw/t10k-images-idx3-ubyte\n",
      "remote name: data/original/MNIST/raw/t10k-images-idx3-ubyte.gz\n",
      "local name: /tmp/data/original/MNIST/raw/t10k-images-idx3-ubyte.gz\n",
      "remote name: data/original/MNIST/raw/t10k-labels-idx1-ubyte\n",
      "local name: /tmp/data/original/MNIST/raw/t10k-labels-idx1-ubyte\n",
      "remote name: data/original/MNIST/raw/t10k-labels-idx1-ubyte.gz\n",
      "local name: /tmp/data/original/MNIST/raw/t10k-labels-idx1-ubyte.gz\n",
      "remote name: data/original/MNIST/raw/train-images-idx3-ubyte\n",
      "local name: /tmp/data/original/MNIST/raw/train-images-idx3-ubyte\n",
      "remote name: data/original/MNIST/raw/train-images-idx3-ubyte.gz\n",
      "local name: /tmp/data/original/MNIST/raw/train-images-idx3-ubyte.gz\n",
      "remote name: data/original/MNIST/raw/train-labels-idx1-ubyte\n",
      "local name: /tmp/data/original/MNIST/raw/train-labels-idx1-ubyte\n",
      "remote name: data/original/MNIST/raw/train-labels-idx1-ubyte.gz\n",
      "local name: /tmp/data/original/MNIST/raw/train-labels-idx1-ubyte.gz\n",
      "local_mnist_data_rootdir: /tmp/data/original\n",
      "local_mnist_data_rootdir: ['MNIST']\n",
      "Train Epoch: 1 [0/600 (0%)]\tLoss: 2.314648\n",
      "datapipelines-031 models/trained/detect-digits/22/model_scripted.pt /tmp/models/trained/detect-digits/22/model_scripted.pt\n",
      "remote name: data/original/MNIST/processed/test.pt\n",
      "local name: /tmp/data/original/MNIST/processed/test.pt\n",
      "remote name: data/original/MNIST/processed/training.pt\n",
      "local name: /tmp/data/original/MNIST/processed/training.pt\n",
      "remote name: data/original/MNIST/raw/t10k-images-idx3-ubyte\n",
      "local name: /tmp/data/original/MNIST/raw/t10k-images-idx3-ubyte\n",
      "remote name: data/original/MNIST/raw/t10k-images-idx3-ubyte.gz\n",
      "local name: /tmp/data/original/MNIST/raw/t10k-images-idx3-ubyte.gz\n",
      "remote name: data/original/MNIST/raw/t10k-labels-idx1-ubyte\n",
      "local name: /tmp/data/original/MNIST/raw/t10k-labels-idx1-ubyte\n",
      "remote name: data/original/MNIST/raw/t10k-labels-idx1-ubyte.gz\n",
      "local name: /tmp/data/original/MNIST/raw/t10k-labels-idx1-ubyte.gz\n",
      "remote name: data/original/MNIST/raw/train-images-idx3-ubyte\n",
      "local name: /tmp/data/original/MNIST/raw/train-images-idx3-ubyte\n",
      "remote name: data/original/MNIST/raw/train-images-idx3-ubyte.gz\n",
      "local name: /tmp/data/original/MNIST/raw/train-images-idx3-ubyte.gz\n",
      "remote name: data/original/MNIST/raw/train-labels-idx1-ubyte\n",
      "local name: /tmp/data/original/MNIST/raw/train-labels-idx1-ubyte\n",
      "remote name: data/original/MNIST/raw/train-labels-idx1-ubyte.gz\n",
      "local name: /tmp/data/original/MNIST/raw/train-labels-idx1-ubyte.gz\n",
      "\n",
      "Test set: Average loss: 2.2244, Accuracy: 2196/10000 (22%)\n",
      "\n"
     ]
    },
    {
     "data": {
      "text/plain": [
       "Output(mlpipeline_ui_metadata='{\"outputs\": [{\"type\": \"confusion_matrix\", \"format\": \"csv\", \"schema\": [{\"name\": \"target\", \"type\": \"CATEGORY\"}, {\"name\": \"predicted\", \"type\": \"CATEGORY\"}, {\"name\": \"count\", \"type\": \"NUMBER\"}], \"target_col\": \"actual\", \"predicted_col\": \"predicted\", \"source\": \"0,0,96\\\\n0,1,0\\\\n0,2,0\\\\n0,3,872\\\\n0,4,4\\\\n0,5,1\\\\n0,6,0\\\\n0,7,7\\\\n0,8,0\\\\n0,9,0\\\\n1,0,0\\\\n1,1,1\\\\n1,2,0\\\\n1,3,1122\\\\n1,4,0\\\\n1,5,0\\\\n1,6,0\\\\n1,7,3\\\\n1,8,9\\\\n1,9,0\\\\n2,0,1\\\\n2,1,0\\\\n2,2,0\\\\n2,3,970\\\\n2,4,13\\\\n2,5,0\\\\n2,6,0\\\\n2,7,43\\\\n2,8,5\\\\n2,9,0\\\\n3,0,0\\\\n3,1,0\\\\n3,2,0\\\\n3,3,998\\\\n3,4,1\\\\n3,5,0\\\\n3,6,0\\\\n3,7,11\\\\n3,8,0\\\\n3,9,0\\\\n4,0,1\\\\n4,1,0\\\\n4,2,0\\\\n4,3,355\\\\n4,4,288\\\\n4,5,0\\\\n4,6,0\\\\n4,7,338\\\\n4,8,0\\\\n4,9,0\\\\n5,0,0\\\\n5,1,0\\\\n5,2,0\\\\n5,3,841\\\\n5,4,6\\\\n5,5,37\\\\n5,6,0\\\\n5,7,7\\\\n5,8,1\\\\n5,9,0\\\\n6,0,0\\\\n6,1,0\\\\n6,2,0\\\\n6,3,926\\\\n6,4,4\\\\n6,5,6\\\\n6,6,15\\\\n6,7,7\\\\n6,8,0\\\\n6,9,0\\\\n7,0,0\\\\n7,1,0\\\\n7,2,0\\\\n7,3,295\\\\n7,4,18\\\\n7,5,0\\\\n7,6,0\\\\n7,7,713\\\\n7,8,0\\\\n7,9,2\\\\n8,0,0\\\\n8,1,0\\\\n8,2,0\\\\n8,3,872\\\\n8,4,0\\\\n8,5,17\\\\n8,6,0\\\\n8,7,38\\\\n8,8,47\\\\n8,9,0\\\\n9,0,1\\\\n9,1,0\\\\n9,2,0\\\\n9,3,286\\\\n9,4,147\\\\n9,5,0\\\\n9,6,0\\\\n9,7,573\\\\n9,8,1\\\\n9,9,1\\\\n\", \"storage\": \"inline\", \"labels\": [0, 1, 2, 3, 4, 5, 6, 7, 8, 9]}, {\"type\": \"markdown\", \"storage\": \"inline\", \"source\": \"# Model Overview\\\\n## Model Summary\\\\n\\\\n```\\\\nRecursiveScriptModule (\\\\n  (conv1): RecursiveScriptModule(original_name=Conv2d), weights=((32, 1, 3, 3), (32,)), parameters=320\\\\n  (conv2): RecursiveScriptModule(original_name=Conv2d), weights=((64, 32, 3, 3), (64,)), parameters=18496\\\\n  (dropout1): RecursiveScriptModule(original_name=Dropout), weights=(), parameters=0\\\\n  (dropout2): RecursiveScriptModule(original_name=Dropout), weights=(), parameters=0\\\\n  (fc1): RecursiveScriptModule(original_name=Linear), weights=((128, 9216), (128,)), parameters=1179776\\\\n  (fc2): RecursiveScriptModule(original_name=Linear), weights=((10, 128), (10,)), parameters=1290\\\\n)\\\\n```\\\\n\\\\n## Model Performance\\\\n\\\\n**Accuracy**: 21.96\\\\n**Loss**: 2.224387109375\\\\n\\\\n\"}]}', mlpipeline_metrics='{\"metrics\": [{\"name\": \"model_accuracy\", \"numberValue\": 21.96, \"format\": \"PERCENTAGE\"}, {\"name\": \"model_loss\", \"numberValue\": 2.224387109375, \"format\": \"PERCENTAGE\"}]}')"
      ]
     },
     "execution_count": 5,
     "metadata": {},
     "output_type": "execute_result"
    }
   ],
   "source": [
    "args = {\n",
    "    \"epochs\": 1,\n",
    "    \"optimizer\": \"adam\",\n",
    "    \"batch_size\":64,\n",
    "    \"test_batch_size\":1000,\n",
    "    \"device_name\":\"cpu\",\n",
    "    \"epochs\":1,\n",
    "    \"lr\":0.03,\n",
    "    \"gamma\":0.7,\n",
    "    \"seed\":1,\n",
    "    \"log_interval\":100,\n",
    "    \"model_save_prefix\": \"models/trained/detect-digits\",\n",
    "    \"bucket_name\":\"datapipelines-031\",\n",
    "    \"take_nth_in_subset\":100,\n",
    "    # \"model_src_local_path\":\"/tmp/abc/test_py_src/mnist_model.py\",\n",
    "    # \"handler_src_local_path\":\"/tmp/abc/test_py_src/mnist_model.py\",\n",
    "    # \"model_src_minio_path\":\"mnist_model.py\", #it is concatenated as model_save_prefix+model_src_minio_path\n",
    "    # \"handler_src_minio_path\":\"handler.py\",#it is concatenated as model_save_prefix+model_src_minio_path\n",
    "    \"version\": \"22\"\n",
    "}\n",
    "\n",
    "\n",
    "put_public_mnist_to_local_minio(args)\n",
    "train_model(args)\n",
    "test_model_and_save_metrics(args)"
   ]
  },
  {
   "cell_type": "code",
   "execution_count": 6,
   "id": "9630e66e-3dd6-490b-bc5c-8acc1ad4aa51",
   "metadata": {},
   "outputs": [
    {
     "data": {
      "text/plain": [
       "Net(\n",
       "  (conv1): Conv2d(1, 32, kernel_size=(3, 3), stride=(1, 1))\n",
       "  (conv2): Conv2d(32, 64, kernel_size=(3, 3), stride=(1, 1))\n",
       "  (dropout1): Dropout(p=0.25, inplace=False)\n",
       "  (dropout2): Dropout(p=0.5, inplace=False)\n",
       "  (fc1): Linear(in_features=9216, out_features=128, bias=True)\n",
       "  (fc2): Linear(in_features=128, out_features=10, bias=True)\n",
       ")"
      ]
     },
     "execution_count": 6,
     "metadata": {},
     "output_type": "execute_result"
    }
   ],
   "source": [
    "import os\n",
    "import sys\n",
    "\n",
    "cwd_ = os.getcwd()    \n",
    "sys.path.append(cwd_+\"/py_src\") # go to parent dir\n",
    "import py_src.mnist_model as mnist_model\n",
    "\n",
    "Net = mnist_model.Net\n",
    "Net()"
   ]
  },
  {
   "cell_type": "code",
   "execution_count": 7,
   "id": "be1802fd-368b-458e-a4a4-000b6bc4e787",
   "metadata": {},
   "outputs": [
    {
     "name": "stdout",
     "output_type": "stream",
     "text": [
      "handler.py  mnist_model.py\n"
     ]
    }
   ],
   "source": []
  }
 ],
 "metadata": {
  "kernelspec": {
   "display_name": "Python 3 (ipykernel)",
   "language": "python",
   "name": "python3"
  },
  "language_info": {
   "codemirror_mode": {
    "name": "ipython",
    "version": 3
   },
   "file_extension": ".py",
   "mimetype": "text/x-python",
   "name": "python",
   "nbconvert_exporter": "python",
   "pygments_lexer": "ipython3",
   "version": "3.8.10"
  }
 },
 "nbformat": 4,
 "nbformat_minor": 5
}
