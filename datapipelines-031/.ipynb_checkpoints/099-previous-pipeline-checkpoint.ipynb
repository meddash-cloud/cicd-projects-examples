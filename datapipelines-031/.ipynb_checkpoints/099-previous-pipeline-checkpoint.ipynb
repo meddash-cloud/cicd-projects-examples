{
 "cells": [
  {
   "cell_type": "code",
   "execution_count": 1,
   "id": "6bc2c3ee-098a-444c-adc0-e0aafd34f20b",
   "metadata": {},
   "outputs": [
    {
     "name": "stdout",
     "output_type": "stream",
     "text": [
      "Requirement already satisfied: minio in /opt/conda/lib/python3.8/site-packages (7.1.15)\n",
      "Requirement already satisfied: urllib3 in /opt/conda/lib/python3.8/site-packages (from minio) (1.26.9)\n",
      "Requirement already satisfied: certifi in /opt/conda/lib/python3.8/site-packages (from minio) (2022.6.15)\n",
      "b6853fa7bafe84a36b390191d02a96c5 -\n",
      "14cdd742dab48b7e2af129af3aa1ec40 -\n",
      "c3117db24886e73d2bd24d393b3a7792 -\n",
      "8e85b87ef643ace3b5e23b6d2b85d37b -\n",
      "f17c9c8466feb9ae8282865698904542 -\n",
      "MINIO_SERVICE_SERVICE_PORT_HTTP=9000\n",
      "MINIO_SERVICE_PORT_9000_TCP_ADDR=10.152.183.142\n",
      "MINIO_SERVICE_PORT=tcp://10.152.183.142:9000\n",
      "MINIO_SERVICE_PORT_9000_TCP_PROTO=tcp\n",
      "MINIO_SERVICE_PORT_9000_TCP_PORT=9000\n",
      "MINIO_SERVICE_PORT_9000_TCP=tcp://10.152.183.142:9000\n",
      "MINIO_SERVICE_SERVICE_HOST=10.152.183.142\n",
      "MINIO_SERVICE_SERVICE_PORT=9000\n",
      "minio address:\n",
      "http://10.152.183.142:9000\n",
      "10.152.183.142:9000\n",
      "connecting to minio 10.152.183.142:9000\n",
      "try to find bucket datapipeline-021\n",
      "found True\n",
      "Bucket 'datapipeline-021' already exists\n",
      "file01\n",
      "<minio.datatypes.Object object at 0x7f850869dc40>\n",
      "file02\n",
      "<minio.datatypes.Object object at 0x7f8508649910>\n",
      "file03\n",
      "<minio.datatypes.Object object at 0x7f850869dc40>\n",
      "file04\n",
      "<minio.datatypes.Object object at 0x7f8508649580>\n",
      "file05\n",
      "<minio.datatypes.Object object at 0x7f850869dc40>\n",
      "/tmp/minio_download_file01\n",
      "b6853fa7bafe84a36b390191d02a96c5 -\n",
      "/tmp/minio_download_file02\n",
      "14cdd742dab48b7e2af129af3aa1ec40 -\n",
      "/tmp/minio_download_file03\n",
      "c3117db24886e73d2bd24d393b3a7792 -\n",
      "/tmp/minio_download_file04\n",
      "8e85b87ef643ace3b5e23b6d2b85d37b -\n",
      "/tmp/minio_download_file05\n",
      "f17c9c8466feb9ae8282865698904542 -\n"
     ]
    }
   ],
   "source": [
    "%run ./010-init-minio.ipynb"
   ]
  },
  {
   "cell_type": "code",
   "execution_count": 1,
   "id": "b6291c1e-5439-4bf3-96ee-ec66add24094",
   "metadata": {},
   "outputs": [
    {
     "name": "stdout",
     "output_type": "stream",
     "text": [
      "ML_PIPELINE_PORT_8887_TCP_PROTO=tcp\n",
      "ML_PIPELINE_PORT_8887_TCP_ADDR=10.152.183.227\n",
      "ML_PIPELINE_PORT_8888_TCP=tcp://10.152.183.227:8888\n",
      "PWD=/home/jovyan/git-volume/src/datapipelines-022\n",
      "ML_PIPELINE_PORT_8888_TCP_PROTO=tcp\n",
      "ML_PIPELINE_PORT_8887_TCP=tcp://10.152.183.227:8887\n",
      "ML_PIPELINE_SERVICE_PORT=8888\n",
      "ML_PIPELINE_PORT_8888_TCP_ADDR=10.152.183.227\n",
      "ML_PIPELINE_PORT=tcp://10.152.183.227:8888\n",
      "ML_PIPELINE_PORT_8887_TCP_PORT=8887\n",
      "ML_PIPELINE_SERVICE_PORT_HTTP=8888\n",
      "ML_PIPELINE_SERVICE_HOST=10.152.183.227\n",
      "ML_PIPELINE_SERVICE_PORT_GRPC=8887\n",
      "ML_PIPELINE_PORT_8888_TCP_PORT=8888\n"
     ]
    }
   ],
   "source": [
    "!env | grep -i pipe|grep -v -i ui|grep -v -i visual"
   ]
  },
  {
   "cell_type": "code",
   "execution_count": 2,
   "id": "d44a4f6e-4d6a-41aa-ab98-af00b248697e",
   "metadata": {},
   "outputs": [
    {
     "data": {
      "text/plain": [
       "'http://10.152.183.227:8888'"
      ]
     },
     "execution_count": 2,
     "metadata": {},
     "output_type": "execute_result"
    }
   ],
   "source": [
    "import os\n",
    "host, port = os.environ[\"ML_PIPELINE_PORT_8888_TCP_ADDR\"],os.environ[\"ML_PIPELINE_SERVICE_PORT_HTTP\"]\n",
    "kfp_endpoint=\"http://{}:{}\".format(host,port)\n",
    "kfp_endpoint"
   ]
  },
  {
   "cell_type": "code",
   "execution_count": 8,
   "id": "3f20ce12-23d9-4b56-8547-8abc88e85e4a",
   "metadata": {},
   "outputs": [],
   "source": [
    "# Install Kubeflow Pipelines SDK. Add the --user argument if you get permission errors.\n",
    "!PIP_DISABLE_PIP_VERSION_CHECK=1 /opt/conda/bin/pip3 install 'kfp==1.8.22' --quiet  --user\n",
    "\n"
   ]
  },
  {
   "cell_type": "code",
   "execution_count": 4,
   "id": "e0087665-a7c7-41f7-8912-df57c7a3f220",
   "metadata": {},
   "outputs": [],
   "source": [
    "# you might need to restart jupyter kernel after installation of kfp. If `import kfp` is not recognized, please restart."
   ]
  },
  {
   "cell_type": "code",
   "execution_count": 9,
   "id": "223b565c-e03b-4107-8c5c-0ed216ec8737",
   "metadata": {},
   "outputs": [],
   "source": [
    "from typing import NamedTuple\n",
    "\n",
    "import kfp\n",
    "from kfp.components import InputPath, InputTextFile, OutputPath, OutputTextFile\n",
    "from kfp.components import func_to_container_op\n",
    "\n"
   ]
  },
  {
   "cell_type": "code",
   "execution_count": 17,
   "id": "bed5834d-5425-402f-834d-6b78af00d56e",
   "metadata": {},
   "outputs": [
    {
     "data": {
      "text/html": [
       "<a href=\"http://10.152.183.227:8888/#/experiments/details/7fe4a661-65bf-45fc-ac24-c977255c769e\" target=\"_blank\" >Experiment details</a>."
      ],
      "text/plain": [
       "<IPython.core.display.HTML object>"
      ]
     },
     "metadata": {},
     "output_type": "display_data"
    },
    {
     "data": {
      "text/html": [
       "<a href=\"http://10.152.183.227:8888/#/runs/details/998f427c-49be-4c5b-ac49-9beb236fe5ca\" target=\"_blank\" >Run details</a>."
      ],
      "text/plain": [
       "<IPython.core.display.HTML object>"
      ]
     },
     "metadata": {},
     "output_type": "display_data"
    },
    {
     "data": {
      "text/plain": [
       "RunPipelineResult(run_id=998f427c-49be-4c5b-ac49-9beb236fe5ca)"
      ]
     },
     "execution_count": 17,
     "metadata": {},
     "output_type": "execute_result"
    }
   ],
   "source": [
    "# Reading bigger data\n",
    "@func_to_container_op\n",
    "def print_text(text_path: InputPath()): # The \"text\" input is untyped so that any data can be printed\n",
    "    '''Print text'''\n",
    "    with open(text_path, 'r') as reader:\n",
    "        for line in reader:\n",
    "            print(line, end = '')\n",
    "\n",
    "# Writing many numbers\n",
    "@func_to_container_op\n",
    "def write_numbers(numbers_path: OutputPath(str), start: int = 0, count: int = 10):\n",
    "    with open(numbers_path, 'w') as writer:\n",
    "        for i in range(start, count):\n",
    "            writer.write(str(i) + '\\n')\n",
    "\n",
    "\n",
    "# Reading and summing many numbers\n",
    "@func_to_container_op\n",
    "def sum_numbers(numbers_path: InputPath(str)) -> int:\n",
    "    sum = 0\n",
    "    with open(numbers_path, 'r') as reader:\n",
    "        for line in reader:\n",
    "            sum = sum + int(line)\n",
    "    return sum\n",
    "\n",
    "\n",
    "\n",
    "# Pipeline to sum 100000 numbers\n",
    "def sum_pipeline(count: 'Integer' = 100000):\n",
    "    numbers_task = write_numbers(count=count)\n",
    "    print_text(numbers_task.output)\n",
    "\n",
    "    sum_task = sum_numbers(numbers_task.outputs['numbers'])\n",
    "    print_text(sum_task.output)\n",
    "\n",
    "\n",
    "# Running the pipeline\n",
    "run_pipeline_result=kfp.Client(host=kfp_endpoint).create_run_from_pipeline_func(sum_pipeline, arguments={})\n",
    "run_pipeline_result\n"
   ]
  },
  {
   "cell_type": "code",
   "execution_count": 20,
   "id": "e419e1dd-0b3f-49ac-ab8f-c70366792c55",
   "metadata": {},
   "outputs": [
    {
     "data": {
      "text/plain": [
       "'998f427c-49be-4c5b-ac49-9beb236fe5ca'"
      ]
     },
     "execution_count": 20,
     "metadata": {},
     "output_type": "execute_result"
    }
   ],
   "source": [
    "run_pipeline_result.run_id"
   ]
  },
  {
   "cell_type": "code",
   "execution_count": 5,
   "id": "44a6ca12-b0db-4e9c-b09a-b7f7a58ad77c",
   "metadata": {},
   "outputs": [
    {
     "data": {
      "text/html": [
       "\n",
       "        <iframe\n",
       "            width=\"900\"\n",
       "            height=\"450\"\n",
       "            src=\"http://kf-ml-pipeline-ui.v1005r7c-bfef-4f0b-8028-99d5fdcf47de.hosted.meddash.cloud/#/runs/details/998f427c-49be-4c5b-ac49-9beb236fe5ca\"\n",
       "            frameborder=\"0\"\n",
       "            allowfullscreen\n",
       "            \n",
       "        ></iframe>\n",
       "        "
      ],
      "text/plain": [
       "<IPython.lib.display.IFrame at 0x7fc5b06c23d0>"
      ]
     },
     "execution_count": 5,
     "metadata": {},
     "output_type": "execute_result"
    }
   ],
   "source": [
    "import os\n",
    "from IPython.display import IFrame\n",
    "#\"v1005r7c-bfef-4f0b-8028-99d5fdcf47de\"\n",
    "cluster_id= os.environ[\"MEDDASH_CLUSTER_ID\"]\n",
    "run_id=run_pipeline_result.run_id\n",
    "\n",
    "pipeline_vis_endpoint=\"http://kf-ml-pipeline-ui.{}.hosted.meddash.cloud/#/runs/details/{}\".format(cluster_id,run_id)\n",
    "IFrame(pipeline_vis_endpoint, width=900, height=450)"
   ]
  }
 ],
 "metadata": {
  "kernelspec": {
   "display_name": "Python 3 (ipykernel)",
   "language": "python",
   "name": "python3"
  },
  "language_info": {
   "codemirror_mode": {
    "name": "ipython",
    "version": 3
   },
   "file_extension": ".py",
   "mimetype": "text/x-python",
   "name": "python",
   "nbconvert_exporter": "python",
   "pygments_lexer": "ipython3",
   "version": "3.8.10"
  }
 },
 "nbformat": 4,
 "nbformat_minor": 5
}
