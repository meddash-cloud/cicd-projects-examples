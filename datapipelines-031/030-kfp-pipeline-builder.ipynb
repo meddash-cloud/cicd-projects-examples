{
 "cells": [
  {
   "cell_type": "code",
   "execution_count": 1,
   "id": "57228fd2-08ae-4415-b5f2-e1aa5cc3e96e",
   "metadata": {},
   "outputs": [],
   "source": [
    "!pip install  --quiet kfp==1.8.22 "
   ]
  },
  {
   "cell_type": "code",
   "execution_count": 2,
   "id": "b3f4f5ef-adb1-4f9e-8af6-b5139bf66073",
   "metadata": {},
   "outputs": [],
   "source": [
    "# Restart the kernel to have the new kfp version installed"
   ]
  },
  {
   "cell_type": "code",
   "execution_count": 3,
   "id": "3006e2e8-9572-4a11-8085-cfcb7bb31a99",
   "metadata": {},
   "outputs": [],
   "source": [
    "import kfp\n",
    "from kfp import dsl\n",
    "import kfp.components as components\n",
    "# from kfp.components import InputPath, InputTextFile, OutputPath, OutputTextFile\n",
    "\n",
    "from typing import NamedTuple"
   ]
  },
  {
   "cell_type": "code",
   "execution_count": 4,
   "id": "813ea8e4-1616-45f4-b866-887933d8f257",
   "metadata": {},
   "outputs": [
    {
     "name": "stdout",
     "output_type": "stream",
     "text": [
      "Overwriting py_src/mnist_model.py\n"
     ]
    }
   ],
   "source": [
    "%run 020-pipeline-step-01.ipynb\n",
    "%run 020-pipeline-step-02.ipynb\n",
    "%run 020-pipeline-step-03.ipynb"
   ]
  },
  {
   "cell_type": "code",
   "execution_count": null,
   "id": "d954fd58-92d5-4e9a-95eb-8fd4ad9172ec",
   "metadata": {},
   "outputs": [],
   "source": []
  },
  {
   "cell_type": "code",
   "execution_count": null,
   "id": "bd2c0751-2239-4210-aaec-88a0264658cb",
   "metadata": {},
   "outputs": [],
   "source": []
  },
  {
   "cell_type": "code",
   "execution_count": 5,
   "id": "5d39679c-1526-497e-88bc-206abe95a539",
   "metadata": {},
   "outputs": [],
   "source": [
    "\n",
    "import kfp\n",
    "from kfp import dsl\n",
    "import kfp.components as components\n",
    "\n",
    "step_put_public_mnist_to_local_minio = components.create_component_from_func(put_public_mnist_to_local_minio,base_image=\"kubeflownotebookswg/jupyter-pytorch-full\")\n",
    "step_train_model = components.create_component_from_func(train_model,base_image=\"kubeflownotebookswg/jupyter-pytorch-full\")\n",
    "step_test_model_and_save_metrics = components.create_component_from_func(test_model_and_save_metrics,base_image=\"kubeflownotebookswg/jupyter-pytorch-full\")\n",
    "\n",
    "@dsl.pipeline(\n",
    "    name='kfp-pipeline-digits-clsfier',\n",
    "    description='Classify digits'\n",
    ")\n",
    "def kfp_pipeline_start(args:dict ):\n",
    "    # pipeline_arguments = arg_wrapper[\"pipeline_arguments\"]\n",
    "\n",
    "    step1 = step_put_public_mnist_to_local_minio(args)\n",
    "    step2 = step_train_model(args)\n",
    "    step3 = step_test_model_and_save_metrics(args)\n",
    "\n",
    "    step2.after(step1)\n",
    "    step3.after(step2)\n",
    "\n",
    "\n",
    "\n",
    "\n"
   ]
  },
  {
   "cell_type": "code",
   "execution_count": 6,
   "id": "4a93fd91-ba15-4d39-a56f-297bed18b633",
   "metadata": {},
   "outputs": [
    {
     "data": {
      "text/html": [
       "<a href=\"http://10.152.183.198:8888/#/experiments/details/58f74613-dc23-4de6-a48a-07773feefce3\" target=\"_blank\" >Experiment details</a>."
      ],
      "text/plain": [
       "<IPython.core.display.HTML object>"
      ]
     },
     "metadata": {},
     "output_type": "display_data"
    },
    {
     "data": {
      "text/html": [
       "<a href=\"http://10.152.183.198:8888/#/runs/details/7f1f7dc5-177a-4c40-a56a-27d90f9380fd\" target=\"_blank\" >Run details</a>."
      ],
      "text/plain": [
       "<IPython.core.display.HTML object>"
      ]
     },
     "metadata": {},
     "output_type": "display_data"
    }
   ],
   "source": [
    "import os\n",
    "host, port = os.environ[\"ML_PIPELINE_PORT_8888_TCP_ADDR\"],os.environ[\"ML_PIPELINE_SERVICE_PORT_HTTP\"]\n",
    "kfp_endpoint=\"http://{}:{}\".format(host,port)\n",
    "\n",
    "kfp_client = kfp.Client(host=kfp_endpoint)\n",
    "\n",
    "pipeline_arguments = {\n",
    "    \"args\" : {\n",
    "        \"epochs\": 1,\n",
    "        \"optimizer\": \"adam\",\n",
    "        \"batch_size\":64,\n",
    "        \"test_batch_size\":1000,\n",
    "        \"device_name\":\"cpu\",\n",
    "        \"epochs\":1,\n",
    "        \"lr\":0.03,\n",
    "        \"gamma\":0.7,\n",
    "        \"seed\":1,\n",
    "        \"log_interval\":100,\n",
    "        \"model_save_prefix\": \"models/trained/detect-digits\",\n",
    "        \"bucket_name\":\"datapipeline-031\",\n",
    "        \"take_nth_in_subset\":10,\n",
    "        \"version\": \"22\"\n",
    "    }\n",
    "}\n",
    "pipeline_run = kfp_client.create_run_from_pipeline_func(kfp_pipeline_start, arguments=pipeline_arguments)\n"
   ]
  },
  {
   "cell_type": "code",
   "execution_count": 7,
   "id": "387757e6-c3c7-4c68-90a0-da8d924c0f00",
   "metadata": {},
   "outputs": [
    {
     "name": "stdout",
     "output_type": "stream",
     "text": [
      "pipeline.run_id: 7f1f7dc5-177a-4c40-a56a-27d90f9380fd\n"
     ]
    },
    {
     "data": {
      "text/html": [
       "\n",
       "        <iframe\n",
       "            width=\"1200\"\n",
       "            height=\"600\"\n",
       "            src=\"http://kf-ml-pipeline-ui.v1005r7c-bfef-4f0b-8028-99d5fdcf47de.hosted.meddash.cloud/#/runs/details/7f1f7dc5-177a-4c40-a56a-27d90f9380fd\"\n",
       "            frameborder=\"0\"\n",
       "            allowfullscreen\n",
       "            \n",
       "        ></iframe>\n",
       "        "
      ],
      "text/plain": [
       "<IPython.lib.display.IFrame at 0x7f612d473d00>"
      ]
     },
     "execution_count": 7,
     "metadata": {},
     "output_type": "execute_result"
    }
   ],
   "source": [
    "import os\n",
    "from IPython.display import IFrame\n",
    "cluster_id= os.environ[\"MEDDASH_CLUSTER_ID\"]\n",
    "run_id=pipeline_run.run_id\n",
    "print(\"pipeline.run_id:\", run_id)\n",
    "pipeline_vis_endpoint=\"http://kf-ml-pipeline-ui.{}.hosted.meddash.cloud/#/runs/details/{}\".format(cluster_id,run_id)\n",
    "IFrame(pipeline_vis_endpoint, width=1200, height=600)"
   ]
  },
  {
   "cell_type": "code",
   "execution_count": null,
   "id": "d5893318-0443-46e5-9faa-0c8baac7b948",
   "metadata": {},
   "outputs": [],
   "source": []
  },
  {
   "cell_type": "code",
   "execution_count": null,
   "id": "13ece2f1-213d-4e15-b0a5-92fd5f6650c1",
   "metadata": {},
   "outputs": [],
   "source": []
  },
  {
   "cell_type": "code",
   "execution_count": null,
   "id": "a56809a1-510a-4bb6-b92f-aa1455a86402",
   "metadata": {},
   "outputs": [],
   "source": []
  },
  {
   "cell_type": "code",
   "execution_count": null,
   "id": "fe6ec51c-7a0a-4366-b41d-3d7effd4029f",
   "metadata": {},
   "outputs": [],
   "source": []
  }
 ],
 "metadata": {
  "kernelspec": {
   "display_name": "Python 3 (ipykernel)",
   "language": "python",
   "name": "python3"
  },
  "language_info": {
   "codemirror_mode": {
    "name": "ipython",
    "version": 3
   },
   "file_extension": ".py",
   "mimetype": "text/x-python",
   "name": "python",
   "nbconvert_exporter": "python",
   "pygments_lexer": "ipython3",
   "version": "3.8.10"
  }
 },
 "nbformat": 4,
 "nbformat_minor": 5
}
