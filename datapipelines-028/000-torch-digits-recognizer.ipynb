{
 "cells": [
  {
   "cell_type": "code",
   "execution_count": null,
   "id": "17d82506-b1fb-49a4-bc80-7ce9a333cd58",
   "metadata": {},
   "outputs": [],
   "source": []
  },
  {
   "cell_type": "code",
   "execution_count": 5,
   "id": "004f0352-a6de-47a3-a6fa-26afb10f0395",
   "metadata": {},
   "outputs": [],
   "source": [
    "from __future__ import print_function\n",
    "import argparse\n",
    "import torch\n",
    "import torch.nn as nn\n",
    "import torch.nn.functional as F\n",
    "import torch.optim as optim\n",
    "from torchvision import datasets, transforms\n",
    "from torch.optim.lr_scheduler import StepLR\n",
    "\n",
    "\n",
    "class Net(nn.Module):\n",
    "    def __init__(self):\n",
    "        super(Net, self).__init__()\n",
    "        self.conv1 = nn.Conv2d(1, 32, 3, 1)\n",
    "        self.conv2 = nn.Conv2d(32, 64, 3, 1)\n",
    "        self.dropout1 = nn.Dropout(0.25)\n",
    "        self.dropout2 = nn.Dropout(0.5)\n",
    "        self.fc1 = nn.Linear(9216, 128)\n",
    "        self.fc2 = nn.Linear(128, 10)\n",
    "\n",
    "    def forward(self, x):\n",
    "        x = self.conv1(x)\n",
    "        x = F.relu(x)\n",
    "        x = self.conv2(x)\n",
    "        x = F.relu(x)\n",
    "        x = F.max_pool2d(x, 2)\n",
    "        x = self.dropout1(x)\n",
    "        x = torch.flatten(x, 1)\n",
    "        x = self.fc1(x)\n",
    "        x = F.relu(x)\n",
    "        x = self.dropout2(x)\n",
    "        x = self.fc2(x)\n",
    "        output = F.log_softmax(x, dim=1)\n",
    "        return output"
   ]
  },
  {
   "cell_type": "code",
   "execution_count": 3,
   "id": "2b89df6c-ed62-46be-a71a-cf356b9fdfd3",
   "metadata": {},
   "outputs": [],
   "source": [
    "def train(args, model, device, train_loader, optimizer, epoch):\n",
    "    model.train()\n",
    "    for batch_idx, (data, target) in enumerate(train_loader):\n",
    "        data, target = data.to(device), target.to(device)\n",
    "        optimizer.zero_grad()\n",
    "        output = model(data)\n",
    "        loss = F.nll_loss(output, target)\n",
    "        loss.backward()\n",
    "        optimizer.step()\n",
    "        if batch_idx % args[\"log_interval\"] == 0:\n",
    "            print('Train Epoch: {} [{}/{} ({:.0f}%)]\\tLoss: {:.6f}'.format(\n",
    "                epoch, batch_idx * len(data), len(train_loader.dataset),\n",
    "                100. * batch_idx / len(train_loader), loss.item()))\n"
   ]
  },
  {
   "cell_type": "code",
   "execution_count": 7,
   "id": "ab36c47e-5359-42d5-ab6f-584cfef071e8",
   "metadata": {},
   "outputs": [],
   "source": [
    "def test(model, device, test_loader):\n",
    "    model.eval()\n",
    "    test_loss = 0\n",
    "    correct = 0\n",
    "    with torch.no_grad():\n",
    "        for data, target in test_loader:\n",
    "            data, target = data.to(device), target.to(device)\n",
    "            output = model(data)\n",
    "            test_loss += F.nll_loss(output, target, reduction='sum').item()  # sum up batch loss\n",
    "            pred = output.argmax(dim=1, keepdim=True)  # get the index of the max log-probability\n",
    "            correct += pred.eq(target.view_as(pred)).sum().item()\n",
    "\n",
    "    test_loss /= len(test_loader.dataset)\n",
    "\n",
    "    print('\\nTest set: Average loss: {:.4f}, Accuracy: {}/{} ({:.0f}%)\\n'.format(\n",
    "        test_loss, correct, len(test_loader.dataset),\n",
    "        100. * correct / len(test_loader.dataset)))"
   ]
  },
  {
   "cell_type": "code",
   "execution_count": 11,
   "id": "0b9801b9-ff72-4aae-abac-df56998420bb",
   "metadata": {},
   "outputs": [],
   "source": [
    "args={\"batch_size\":64,\n",
    "\"test_batch_size\":1000,\n",
    "\"epochs\":1,\n",
    "\"lr\":0.03,\n",
    "\"gamma\":0.7,\n",
    "\"seed\":1,\n",
    "\"log_interval\":100}"
   ]
  },
  {
   "cell_type": "code",
   "execution_count": 8,
   "id": "2977c6c2-cdde-438f-9ebc-f09c6b19d3e4",
   "metadata": {},
   "outputs": [],
   "source": [
    "device = torch.device(\"cpu\")"
   ]
  },
  {
   "cell_type": "code",
   "execution_count": 12,
   "id": "93c9bd5a-5103-4ea0-ba48-2cd6e6afb776",
   "metadata": {},
   "outputs": [],
   "source": [
    "train_kwargs = {'batch_size': args[\"batch_size\"]}\n",
    "test_kwargs = {'batch_size': args[\"test_batch_size\"]}\n",
    "\n",
    "transform=transforms.Compose([\n",
    "    transforms.ToTensor(),\n",
    "    transforms.Normalize((0.1307,), (0.3081,))\n",
    "    ])\n",
    "dataset1 = datasets.MNIST('../data', train=True, download=True,\n",
    "                   transform=transform)\n",
    "dataset2 = datasets.MNIST('../data', train=False,\n",
    "                   transform=transform)\n",
    "train_loader = torch.utils.data.DataLoader(dataset1,**train_kwargs)\n",
    "test_loader = torch.utils.data.DataLoader(dataset2, **test_kwargs)\n"
   ]
  },
  {
   "cell_type": "code",
   "execution_count": 14,
   "id": "b87efe53-9e55-485a-a9f5-69266ba6569d",
   "metadata": {},
   "outputs": [
    {
     "name": "stdout",
     "output_type": "stream",
     "text": [
      "Train Epoch: 1 [0/60000 (0%)]\tLoss: 2.312112\n",
      "Train Epoch: 1 [6400/60000 (11%)]\tLoss: 0.610514\n",
      "Train Epoch: 1 [12800/60000 (21%)]\tLoss: 0.356229\n",
      "Train Epoch: 1 [19200/60000 (32%)]\tLoss: 0.568896\n",
      "Train Epoch: 1 [25600/60000 (43%)]\tLoss: 0.300628\n",
      "Train Epoch: 1 [32000/60000 (53%)]\tLoss: 0.357014\n",
      "Train Epoch: 1 [38400/60000 (64%)]\tLoss: 0.270445\n",
      "Train Epoch: 1 [44800/60000 (75%)]\tLoss: 0.472591\n",
      "Train Epoch: 1 [51200/60000 (85%)]\tLoss: 0.429579\n",
      "Train Epoch: 1 [57600/60000 (96%)]\tLoss: 0.450574\n",
      "\n",
      "Test set: Average loss: 0.1949, Accuracy: 9416/10000 (94%)\n",
      "\n"
     ]
    }
   ],
   "source": [
    "model = Net().to(device)\n",
    "optimizer = optim.Adadelta(model.parameters(), lr=args[\"lr\"])\n",
    "\n",
    "scheduler = StepLR(optimizer, step_size=1, gamma=args[\"gamma\"])\n",
    "for epoch in range(1, args[\"epochs\"] + 1):\n",
    "    train(args, model, device, train_loader, optimizer, epoch)\n",
    "    test(model, device, test_loader)\n",
    "    scheduler.step()\n",
    "\n",
    "\n"
   ]
  },
  {
   "cell_type": "code",
   "execution_count": 18,
   "id": "5729ff35-7da2-47ec-ad03-ce2a1b8ccc48",
   "metadata": {},
   "outputs": [],
   "source": [
    "import os\n",
    "\n",
    "model_save_dir=\"pytorch_models\"\n",
    "model_save_path=\"{}/{}\".format(model_save_dir, \"mnist.pt\")\n",
    "model_script_save_path=\"{}/{}\".format(model_save_dir, \"model_scripted.pt\")\n",
    "os.makedirs(model_save_dir, exist_ok=True)\n",
    "torch.save(model.state_dict(), model_save_path)\n",
    "\n",
    "model_scripted = torch.jit.script(model) # Export to TorchScript\n",
    "model_scripted.save(model_script_save_path) # Save"
   ]
  },
  {
   "cell_type": "code",
   "execution_count": 20,
   "id": "1b7013ee-03e4-4d69-ab8f-b1297a743e68",
   "metadata": {},
   "outputs": [
    {
     "name": "stdout",
     "output_type": "stream",
     "text": [
      "\n",
      "Test set: Average loss: 0.1806, Accuracy: 9439/10000 (94%)\n",
      "\n"
     ]
    }
   ],
   "source": [
    "from __future__ import print_function\n",
    "import argparse\n",
    "import torch\n",
    "import torch.nn as nn\n",
    "import torch.nn.functional as F\n",
    "import torch.optim as optim\n",
    "from torchvision import datasets, transforms\n",
    "from torch.optim.lr_scheduler import StepLR\n",
    "import os\n",
    "\n",
    "\n",
    "#this loading method needs model class code, so avoid.\n",
    "# model = Net()\n",
    "# model.load_state_dict(torch.load(model_save_path))\n",
    "# model.eval()\n",
    "\n",
    "\n",
    "#load model without class prototype\n",
    "model = torch.jit.load(model_script_save_path)\n",
    "model.eval()\n",
    "\n",
    "test(model, device, test_loader)"
   ]
  }
 ],
 "metadata": {
  "kernelspec": {
   "display_name": "Python 3 (ipykernel)",
   "language": "python",
   "name": "python3"
  },
  "language_info": {
   "codemirror_mode": {
    "name": "ipython",
    "version": 3
   },
   "file_extension": ".py",
   "mimetype": "text/x-python",
   "name": "python",
   "nbconvert_exporter": "python",
   "pygments_lexer": "ipython3",
   "version": "3.8.10"
  }
 },
 "nbformat": 4,
 "nbformat_minor": 5
}
