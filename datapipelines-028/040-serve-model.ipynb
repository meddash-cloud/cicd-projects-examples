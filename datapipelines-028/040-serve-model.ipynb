{
 "cells": [
  {
   "cell_type": "code",
   "execution_count": 26,
   "id": "8492d9ab-5395-48f7-96ea-9a7c6488b8b6",
   "metadata": {},
   "outputs": [],
   "source": [
    "import requests\n",
    "import numpy as np\n",
    "    \n",
    "def test_prediction(url, inference_input ):\n",
    "    data=None\n",
    "    with open(inference_input, 'rb') as f:\n",
    "        data = f.read()\n",
    "    r = requests.put(url, data=data)\n",
    "    return r.json()"
   ]
  },
  {
   "cell_type": "markdown",
   "id": "10dc3460-c2f7-4ccd-ade2-911684571633",
   "metadata": {},
   "source": [
    "# Test prediction service from inside of the cluster"
   ]
  },
  {
   "cell_type": "code",
   "execution_count": 3,
   "id": "4fd4da21-6d49-44fb-8518-384f22965647",
   "metadata": {},
   "outputs": [
    {
     "name": "stdout",
     "output_type": "stream",
     "text": [
      "3"
     ]
    }
   ],
   "source": [
    "!curl  http://torch-model-service.kubeflow.svc.cluster.local/predictions/detect-digits -T 5.png"
   ]
  },
  {
   "cell_type": "code",
   "execution_count": 25,
   "id": "38d39f99-08f1-41cb-8b46-ceee5cb09908",
   "metadata": {},
   "outputs": [
    {
     "name": "stdout",
     "output_type": "stream",
     "text": [
      "3\n"
     ]
    }
   ],
   "source": [
    "import requests\n",
    "\n",
    "url=\"http://torch-model-service.kubeflow.svc.cluster.local/predictions/detect-digits\"\n",
    "res = test_prediction(url, \"5.png\")\n",
    "print(res)"
   ]
  },
  {
   "cell_type": "markdown",
   "id": "15e96269-e73f-4d47-85cd-34f41632545b",
   "metadata": {},
   "source": [
    "# Test prediction service from the internet"
   ]
  },
  {
   "cell_type": "code",
   "execution_count": 31,
   "id": "9c2f7c6e-9c4d-46b5-ba14-1a0fd49a1e3a",
   "metadata": {},
   "outputs": [
    {
     "name": "stdout",
     "output_type": "stream",
     "text": [
      "3\n"
     ]
    }
   ],
   "source": [
    "import os\n",
    "MEDDASH_CLUSTER_ID = os.environ[\"MEDDASH_CLUSTER_ID\"]\n",
    "\n",
    "url = \"http://app.{}.hosted.meddash.cloud/predictions/detect-digits\".format(MEDDASH_CLUSTER_ID)\n",
    "res = test_prediction(url, \"5.png\")\n",
    "print(res)\n"
   ]
  }
 ],
 "metadata": {
  "kernelspec": {
   "display_name": "Python 3 (ipykernel)",
   "language": "python",
   "name": "python3"
  },
  "language_info": {
   "codemirror_mode": {
    "name": "ipython",
    "version": 3
   },
   "file_extension": ".py",
   "mimetype": "text/x-python",
   "name": "python",
   "nbconvert_exporter": "python",
   "pygments_lexer": "ipython3",
   "version": "3.8.10"
  }
 },
 "nbformat": 4,
 "nbformat_minor": 5
}
