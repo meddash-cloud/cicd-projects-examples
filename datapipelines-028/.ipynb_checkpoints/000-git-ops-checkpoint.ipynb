{
 "cells": [
  {
   "cell_type": "code",
   "execution_count": 6,
   "id": "11fca686-f998-47a0-8651-57d124c25190",
   "metadata": {},
   "outputs": [
    {
     "name": "stdout",
     "output_type": "stream",
     "text": [
      ".git/config\n",
      "[core]\n",
      "\tbare = false\n",
      "[remote \"origin\"]\n",
      "\turl = https://github.com/meddash-cloud/cicd-projects-examples.git\n",
      "\tfetch = +refs/heads/*:refs/remotes/origin/*\n",
      "[branch \"main\"]\n",
      "\tremote = origin\n",
      "\tmerge = refs/heads/main\n",
      "[branch \"datapipelines-019\"]\n",
      "\tremote = origin\n",
      "\tmerge = refs/heads/datapipelines-019\n"
     ]
    }
   ],
   "source": [
    "%%bash\n",
    "\n",
    "cd src\n",
    "ls .git/config\n",
    "cat .git/config"
   ]
  },
  {
   "cell_type": "code",
   "execution_count": 7,
   "id": "9e19e6e5-423a-4977-bca8-5290b66ce654",
   "metadata": {},
   "outputs": [
    {
     "name": "stderr",
     "output_type": "stream",
     "text": [
      "Cloning into 'cicd-projects'...\n"
     ]
    },
    {
     "name": "stdout",
     "output_type": "stream",
     "text": [
      "cicd-ex-001\n",
      "cicd-ex-002\n"
     ]
    }
   ],
   "source": [
    "%%bash\n",
    "\n",
    "git clone https://github.com/meddash-cloud/cicd-projects-examples.git cicd-projects\n",
    "cd cicd-projects\n",
    "ls"
   ]
  },
  {
   "cell_type": "code",
   "execution_count": 10,
   "id": "2d2306f5-dd7a-489c-b161-e7eb178cdfa1",
   "metadata": {},
   "outputs": [
    {
     "name": "stderr",
     "output_type": "stream",
     "text": [
      "Switched to a new branch 'datapipelines-021'\n"
     ]
    },
    {
     "name": "stdout",
     "output_type": "stream",
     "text": [
      "* datapipelines-021\n",
      "  main\n"
     ]
    }
   ],
   "source": [
    "%%bash\n",
    "cd cicd-projects\n",
    "git checkout -b datapipelines-021\n",
    "git branch"
   ]
  },
  {
   "cell_type": "code",
   "execution_count": 12,
   "id": "9638c606-9413-4c24-9a56-b445dbfe1d4e",
   "metadata": {},
   "outputs": [],
   "source": [
    "%%bash\n",
    "# cd cicd-projects\n",
    "# mkdir datapipelines-021\n",
    "# cd datapipelines-021\n"
   ]
  },
  {
   "cell_type": "code",
   "execution_count": null,
   "id": "2697bee5-5eae-4dff-814a-eceaf93589e6",
   "metadata": {},
   "outputs": [],
   "source": []
  }
 ],
 "metadata": {
  "kernelspec": {
   "display_name": "Python 3 (ipykernel)",
   "language": "python",
   "name": "python3"
  },
  "language_info": {
   "codemirror_mode": {
    "name": "ipython",
    "version": 3
   },
   "file_extension": ".py",
   "mimetype": "text/x-python",
   "name": "python",
   "nbconvert_exporter": "python",
   "pygments_lexer": "ipython3",
   "version": "3.8.10"
  }
 },
 "nbformat": 4,
 "nbformat_minor": 5
}
