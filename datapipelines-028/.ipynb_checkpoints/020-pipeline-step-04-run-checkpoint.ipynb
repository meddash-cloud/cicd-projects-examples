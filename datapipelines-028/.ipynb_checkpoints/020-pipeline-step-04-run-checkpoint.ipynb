{
 "cells": [
  {
   "cell_type": "code",
   "execution_count": 1,
   "id": "f6927fa3-c7ca-41f8-b638-03935eb1812b",
   "metadata": {},
   "outputs": [],
   "source": [
    "%run 020-pipeline-step-01.ipynb"
   ]
  },
  {
   "cell_type": "code",
   "execution_count": 2,
   "id": "a5fca38c-2658-42ab-b508-e6c5d606d0f9",
   "metadata": {},
   "outputs": [
    {
     "name": "stdout",
     "output_type": "stream",
     "text": [
      "Overwriting py_src/mnist_model.py\n"
     ]
    }
   ],
   "source": [
    "%run 020-pipeline-step-02.ipynb"
   ]
  },
  {
   "cell_type": "code",
   "execution_count": 3,
   "id": "a2768753-28c9-4413-8b16-27ca4de94432",
   "metadata": {},
   "outputs": [],
   "source": [
    "%run 020-pipeline-step-03.ipynb"
   ]
  },
  {
   "cell_type": "code",
   "execution_count": 4,
   "id": "be28e504-a248-4a1e-beab-3610b206c5f7",
   "metadata": {},
   "outputs": [
    {
     "name": "stdout",
     "output_type": "stream",
     "text": [
      "minio url: 10.152.183.245:9000\n",
      "try to find bucket datapipelines-028\n",
      "found True\n",
      "Bucket 'datapipelines-028' already exists\n",
      "Downloading http://yann.lecun.com/exdb/mnist/train-images-idx3-ubyte.gz\n",
      "Downloading http://yann.lecun.com/exdb/mnist/train-images-idx3-ubyte.gz to /tmp/e39daa9b-d726-4aa0-ac09-36b398e113c2/MNIST/raw/train-images-idx3-ubyte.gz\n"
     ]
    },
    {
     "data": {
      "application/vnd.jupyter.widget-view+json": {
       "model_id": "5a8871518a00492d96384e2def050a0e",
       "version_major": 2,
       "version_minor": 0
      },
      "text/plain": [
       "  0%|          | 0/9912422 [00:00<?, ?it/s]"
      ]
     },
     "metadata": {},
     "output_type": "display_data"
    },
    {
     "name": "stdout",
     "output_type": "stream",
     "text": [
      "Extracting /tmp/e39daa9b-d726-4aa0-ac09-36b398e113c2/MNIST/raw/train-images-idx3-ubyte.gz to /tmp/e39daa9b-d726-4aa0-ac09-36b398e113c2/MNIST/raw\n",
      "\n",
      "Downloading http://yann.lecun.com/exdb/mnist/train-labels-idx1-ubyte.gz\n",
      "Downloading http://yann.lecun.com/exdb/mnist/train-labels-idx1-ubyte.gz to /tmp/e39daa9b-d726-4aa0-ac09-36b398e113c2/MNIST/raw/train-labels-idx1-ubyte.gz\n"
     ]
    },
    {
     "data": {
      "application/vnd.jupyter.widget-view+json": {
       "model_id": "01515d2fb8914aa3a80b5332f7bb1be5",
       "version_major": 2,
       "version_minor": 0
      },
      "text/plain": [
       "  0%|          | 0/28881 [00:00<?, ?it/s]"
      ]
     },
     "metadata": {},
     "output_type": "display_data"
    },
    {
     "name": "stdout",
     "output_type": "stream",
     "text": [
      "Extracting /tmp/e39daa9b-d726-4aa0-ac09-36b398e113c2/MNIST/raw/train-labels-idx1-ubyte.gz to /tmp/e39daa9b-d726-4aa0-ac09-36b398e113c2/MNIST/raw\n",
      "\n",
      "Downloading http://yann.lecun.com/exdb/mnist/t10k-images-idx3-ubyte.gz\n",
      "Downloading http://yann.lecun.com/exdb/mnist/t10k-images-idx3-ubyte.gz to /tmp/e39daa9b-d726-4aa0-ac09-36b398e113c2/MNIST/raw/t10k-images-idx3-ubyte.gz\n"
     ]
    },
    {
     "data": {
      "application/vnd.jupyter.widget-view+json": {
       "model_id": "a46c5998d2334531885e3da64109f672",
       "version_major": 2,
       "version_minor": 0
      },
      "text/plain": [
       "  0%|          | 0/1648877 [00:00<?, ?it/s]"
      ]
     },
     "metadata": {},
     "output_type": "display_data"
    },
    {
     "name": "stdout",
     "output_type": "stream",
     "text": [
      "Extracting /tmp/e39daa9b-d726-4aa0-ac09-36b398e113c2/MNIST/raw/t10k-images-idx3-ubyte.gz to /tmp/e39daa9b-d726-4aa0-ac09-36b398e113c2/MNIST/raw\n",
      "\n",
      "Downloading http://yann.lecun.com/exdb/mnist/t10k-labels-idx1-ubyte.gz\n",
      "Downloading http://yann.lecun.com/exdb/mnist/t10k-labels-idx1-ubyte.gz to /tmp/e39daa9b-d726-4aa0-ac09-36b398e113c2/MNIST/raw/t10k-labels-idx1-ubyte.gz\n"
     ]
    },
    {
     "data": {
      "application/vnd.jupyter.widget-view+json": {
       "model_id": "881ceb23719b45279527a1f516a64fd2",
       "version_major": 2,
       "version_minor": 0
      },
      "text/plain": [
       "  0%|          | 0/4542 [00:00<?, ?it/s]"
      ]
     },
     "metadata": {},
     "output_type": "display_data"
    },
    {
     "name": "stdout",
     "output_type": "stream",
     "text": [
      "Extracting /tmp/e39daa9b-d726-4aa0-ac09-36b398e113c2/MNIST/raw/t10k-labels-idx1-ubyte.gz to /tmp/e39daa9b-d726-4aa0-ac09-36b398e113c2/MNIST/raw\n",
      "\n",
      "Processing...\n",
      "Done!\n"
     ]
    },
    {
     "name": "stderr",
     "output_type": "stream",
     "text": [
      "/opt/conda/lib/python3.8/site-packages/torchvision/datasets/mnist.py:502: UserWarning: The given NumPy array is not writeable, and PyTorch does not support non-writeable tensors. This means you can write to the underlying (supposedly non-writeable) NumPy array using the tensor. You may want to copy the array to protect its data or make it writeable before converting it to a tensor. This type of warning will be suppressed for the rest of this program. (Triggered internally at  /pytorch/torch/csrc/utils/tensor_numpy.cpp:143.)\n",
      "  return torch.from_numpy(parsed.astype(m[2], copy=False)).view(*s)\n"
     ]
    },
    {
     "name": "stdout",
     "output_type": "stream",
     "text": [
      "downlaod training data from the bucket: datapipelines-028\n",
      "remote name: data/original/MNIST/processed/test.pt\n",
      "local name: /tmp/data/original/MNIST/processed/test.pt\n",
      "remote name: data/original/MNIST/processed/training.pt\n",
      "local name: /tmp/data/original/MNIST/processed/training.pt\n",
      "remote name: data/original/MNIST/raw/t10k-images-idx3-ubyte\n",
      "local name: /tmp/data/original/MNIST/raw/t10k-images-idx3-ubyte\n",
      "remote name: data/original/MNIST/raw/t10k-images-idx3-ubyte.gz\n",
      "local name: /tmp/data/original/MNIST/raw/t10k-images-idx3-ubyte.gz\n",
      "remote name: data/original/MNIST/raw/t10k-labels-idx1-ubyte\n",
      "local name: /tmp/data/original/MNIST/raw/t10k-labels-idx1-ubyte\n",
      "remote name: data/original/MNIST/raw/t10k-labels-idx1-ubyte.gz\n",
      "local name: /tmp/data/original/MNIST/raw/t10k-labels-idx1-ubyte.gz\n",
      "remote name: data/original/MNIST/raw/train-images-idx3-ubyte\n",
      "local name: /tmp/data/original/MNIST/raw/train-images-idx3-ubyte\n",
      "remote name: data/original/MNIST/raw/train-images-idx3-ubyte.gz\n",
      "local name: /tmp/data/original/MNIST/raw/train-images-idx3-ubyte.gz\n",
      "remote name: data/original/MNIST/raw/train-labels-idx1-ubyte\n",
      "local name: /tmp/data/original/MNIST/raw/train-labels-idx1-ubyte\n",
      "remote name: data/original/MNIST/raw/train-labels-idx1-ubyte.gz\n",
      "local name: /tmp/data/original/MNIST/raw/train-labels-idx1-ubyte.gz\n",
      "local_mnist_data_rootdir: /tmp/data/original\n",
      "local_mnist_data_rootdir: ['MNIST']\n",
      "Train Epoch: 1 [0/600 (0%)]\tLoss: 2.302489\n",
      "datapipelines-028 models/trained/detect-digits/21/model_scripted.pt /tmp/models/trained/detect-digits/21/model_scripted.pt\n",
      "remote name: data/original/MNIST/processed/test.pt\n",
      "local name: /tmp/data/original/MNIST/processed/test.pt\n",
      "remote name: data/original/MNIST/processed/training.pt\n",
      "local name: /tmp/data/original/MNIST/processed/training.pt\n",
      "remote name: data/original/MNIST/raw/t10k-images-idx3-ubyte\n",
      "local name: /tmp/data/original/MNIST/raw/t10k-images-idx3-ubyte\n",
      "remote name: data/original/MNIST/raw/t10k-images-idx3-ubyte.gz\n",
      "local name: /tmp/data/original/MNIST/raw/t10k-images-idx3-ubyte.gz\n",
      "remote name: data/original/MNIST/raw/t10k-labels-idx1-ubyte\n",
      "local name: /tmp/data/original/MNIST/raw/t10k-labels-idx1-ubyte\n",
      "remote name: data/original/MNIST/raw/t10k-labels-idx1-ubyte.gz\n",
      "local name: /tmp/data/original/MNIST/raw/t10k-labels-idx1-ubyte.gz\n",
      "remote name: data/original/MNIST/raw/train-images-idx3-ubyte\n",
      "local name: /tmp/data/original/MNIST/raw/train-images-idx3-ubyte\n",
      "remote name: data/original/MNIST/raw/train-images-idx3-ubyte.gz\n",
      "local name: /tmp/data/original/MNIST/raw/train-images-idx3-ubyte.gz\n",
      "remote name: data/original/MNIST/raw/train-labels-idx1-ubyte\n",
      "local name: /tmp/data/original/MNIST/raw/train-labels-idx1-ubyte\n",
      "remote name: data/original/MNIST/raw/train-labels-idx1-ubyte.gz\n",
      "local name: /tmp/data/original/MNIST/raw/train-labels-idx1-ubyte.gz\n",
      "\n",
      "Test set: Average loss: 2.1729, Accuracy: 2431/10000 (24%)\n",
      "\n"
     ]
    },
    {
     "data": {
      "text/plain": [
       "Output(mlpipeline_ui_metadata='{\"outputs\": [{\"type\": \"confusion_matrix\", \"format\": \"csv\", \"schema\": [{\"name\": \"target\", \"type\": \"CATEGORY\"}, {\"name\": \"predicted\", \"type\": \"CATEGORY\"}, {\"name\": \"count\", \"type\": \"NUMBER\"}], \"target_col\": \"actual\", \"predicted_col\": \"predicted\", \"source\": \"0,0,460\\\\n0,1,0\\\\n0,2,0\\\\n0,3,519\\\\n0,4,0\\\\n0,5,0\\\\n0,6,1\\\\n0,7,0\\\\n0,8,0\\\\n0,9,0\\\\n1,0,0\\\\n1,1,0\\\\n1,2,0\\\\n1,3,1124\\\\n1,4,0\\\\n1,5,0\\\\n1,6,11\\\\n1,7,0\\\\n1,8,0\\\\n1,9,0\\\\n2,0,6\\\\n2,1,0\\\\n2,2,0\\\\n2,3,1011\\\\n2,4,0\\\\n2,5,0\\\\n2,6,14\\\\n2,7,1\\\\n2,8,0\\\\n2,9,0\\\\n3,0,0\\\\n3,1,0\\\\n3,2,0\\\\n3,3,1009\\\\n3,4,0\\\\n3,5,0\\\\n3,6,0\\\\n3,7,1\\\\n3,8,0\\\\n3,9,0\\\\n4,0,9\\\\n4,1,0\\\\n4,2,1\\\\n4,3,723\\\\n4,4,75\\\\n4,5,16\\\\n4,6,100\\\\n4,7,26\\\\n4,8,31\\\\n4,9,1\\\\n5,0,1\\\\n5,1,0\\\\n5,2,0\\\\n5,3,869\\\\n5,4,0\\\\n5,5,21\\\\n5,6,1\\\\n5,7,0\\\\n5,8,0\\\\n5,9,0\\\\n6,0,46\\\\n6,1,0\\\\n6,2,0\\\\n6,3,550\\\\n6,4,0\\\\n6,5,0\\\\n6,6,362\\\\n6,7,0\\\\n6,8,0\\\\n6,9,0\\\\n7,0,3\\\\n7,1,0\\\\n7,2,0\\\\n7,3,529\\\\n7,4,0\\\\n7,5,1\\\\n7,6,13\\\\n7,7,481\\\\n7,8,0\\\\n7,9,1\\\\n8,0,1\\\\n8,1,0\\\\n8,2,0\\\\n8,3,967\\\\n8,4,0\\\\n8,5,1\\\\n8,6,3\\\\n8,7,0\\\\n8,8,2\\\\n8,9,0\\\\n9,0,6\\\\n9,1,0\\\\n9,2,2\\\\n9,3,630\\\\n9,4,52\\\\n9,5,34\\\\n9,6,136\\\\n9,7,122\\\\n9,8,6\\\\n9,9,21\\\\n\", \"storage\": \"inline\", \"labels\": [0, 1, 2, 3, 4, 5, 6, 7, 8, 9]}, {\"type\": \"markdown\", \"storage\": \"inline\", \"source\": \"# Model Overview\\\\n## Model Summary\\\\n\\\\n```\\\\nRecursiveScriptModule (\\\\n  (conv1): RecursiveScriptModule(original_name=Conv2d), weights=((32, 1, 3, 3), (32,)), parameters=320\\\\n  (conv2): RecursiveScriptModule(original_name=Conv2d), weights=((64, 32, 3, 3), (64,)), parameters=18496\\\\n  (dropout1): RecursiveScriptModule(original_name=Dropout), weights=(), parameters=0\\\\n  (dropout2): RecursiveScriptModule(original_name=Dropout), weights=(), parameters=0\\\\n  (fc1): RecursiveScriptModule(original_name=Linear), weights=((128, 9216), (128,)), parameters=1179776\\\\n  (fc2): RecursiveScriptModule(original_name=Linear), weights=((10, 128), (10,)), parameters=1290\\\\n)\\\\n```\\\\n\\\\n## Model Performance\\\\n\\\\n**Accuracy**: 24.31\\\\n**Loss**: 2.172880615234375\\\\n\\\\n\"}]}', mlpipeline_metrics='{\"metrics\": [{\"name\": \"model_accuracy\", \"numberValue\": 24.31, \"format\": \"PERCENTAGE\"}, {\"name\": \"model_loss\", \"numberValue\": 2.172880615234375, \"format\": \"PERCENTAGE\"}]}')"
      ]
     },
     "execution_count": 4,
     "metadata": {},
     "output_type": "execute_result"
    }
   ],
   "source": [
    "args = {\n",
    "    \"epochs\": 1,\n",
    "    \"optimizer\": \"adam\",\n",
    "    \"batch_size\":64,\n",
    "    \"test_batch_size\":1000,\n",
    "    \"device_name\":\"cpu\",\n",
    "    \"epochs\":1,\n",
    "    \"lr\":0.03,\n",
    "    \"gamma\":0.7,\n",
    "    \"seed\":1,\n",
    "    \"log_interval\":100,\n",
    "    \"model_save_prefix\": \"models/trained/detect-digits\",\n",
    "    \"bucket_name\":\"datapipelines-028\",\n",
    "    \"take_nth_in_subset\":100,\n",
    "    \"version\": \"22\"\n",
    "}\n",
    "\n",
    "\n",
    "put_public_mnist_to_local_minio(args)\n",
    "train_model(args)\n",
    "test_model_and_save_metrics(args)"
   ]
  },
  {
   "cell_type": "code",
   "execution_count": 5,
   "id": "9630e66e-3dd6-490b-bc5c-8acc1ad4aa51",
   "metadata": {},
   "outputs": [
    {
     "data": {
      "text/plain": [
       "Net(\n",
       "  (conv1): Conv2d(1, 32, kernel_size=(3, 3), stride=(1, 1))\n",
       "  (conv2): Conv2d(32, 64, kernel_size=(3, 3), stride=(1, 1))\n",
       "  (dropout1): Dropout(p=0.25, inplace=False)\n",
       "  (dropout2): Dropout(p=0.5, inplace=False)\n",
       "  (fc1): Linear(in_features=9216, out_features=128, bias=True)\n",
       "  (fc2): Linear(in_features=128, out_features=10, bias=True)\n",
       ")"
      ]
     },
     "execution_count": 5,
     "metadata": {},
     "output_type": "execute_result"
    }
   ],
   "source": [
    "import os\n",
    "import sys\n",
    "\n",
    "cwd_ = os.getcwd()    \n",
    "sys.path.append(cwd_+\"/py_src\") # go to parent dir\n",
    "import py_src.mnist_model as mnist_model\n",
    "\n",
    "Net = mnist_model.Net\n",
    "Net()"
   ]
  }
 ],
 "metadata": {
  "kernelspec": {
   "display_name": "Python 3 (ipykernel)",
   "language": "python",
   "name": "python3"
  },
  "language_info": {
   "codemirror_mode": {
    "name": "ipython",
    "version": 3
   },
   "file_extension": ".py",
   "mimetype": "text/x-python",
   "name": "python",
   "nbconvert_exporter": "python",
   "pygments_lexer": "ipython3",
   "version": "3.8.10"
  }
 },
 "nbformat": 4,
 "nbformat_minor": 5
}
