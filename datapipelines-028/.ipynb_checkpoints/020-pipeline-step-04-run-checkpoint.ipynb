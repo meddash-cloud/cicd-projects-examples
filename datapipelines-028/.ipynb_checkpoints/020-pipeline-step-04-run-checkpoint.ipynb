{
 "cells": [
  {
   "cell_type": "code",
   "execution_count": null,
   "id": "8c32c8f9-8c45-440a-a17f-361c33306d53",
   "metadata": {},
   "outputs": [],
   "source": [
    "%run 020-pipeline-step-00.ipynb"
   ]
  },
  {
   "cell_type": "code",
   "execution_count": null,
   "id": "f6927fa3-c7ca-41f8-b638-03935eb1812b",
   "metadata": {},
   "outputs": [],
   "source": [
    "%run 020-pipeline-step-01.ipynb"
   ]
  },
  {
   "cell_type": "code",
   "execution_count": null,
   "id": "a5fca38c-2658-42ab-b508-e6c5d606d0f9",
   "metadata": {},
   "outputs": [],
   "source": [
    "%run 020-pipeline-step-02.ipynb"
   ]
  },
  {
   "cell_type": "code",
   "execution_count": null,
   "id": "a2768753-28c9-4413-8b16-27ca4de94432",
   "metadata": {},
   "outputs": [],
   "source": [
    "%run 020-pipeline-step-03.ipynb"
   ]
  },
  {
   "cell_type": "code",
   "execution_count": null,
   "id": "be28e504-a248-4a1e-beab-3610b206c5f7",
   "metadata": {},
   "outputs": [],
   "source": [
    "args = {\n",
    "    \"epochs\": 1,\n",
    "    \"optimizer\": \"adam\",\n",
    "    \"batch_size\":64,\n",
    "    \"test_batch_size\":1000,\n",
    "    \"device_name\":\"cpu\",\n",
    "    \"epochs\":1,\n",
    "    \"lr\":0.03,\n",
    "    \"gamma\":0.7,\n",
    "    \"seed\":1,\n",
    "    \"log_interval\":100,\n",
    "    \"model_save_prefix\": \"models/trained/detect-digits\",\n",
    "    \"bucket_name\":\"datapipeline-028\",\n",
    "    \"take_nth_in_subset\":100,\n",
    "    \"version\": \"16\"\n",
    "}\n",
    "\n",
    "\n",
    "put_public_mnist_to_local_minio(args)\n",
    "train_model(args)\n",
    "test_model_and_save_metrics(args)"
   ]
  }
 ],
 "metadata": {
  "kernelspec": {
   "display_name": "Python 3 (ipykernel)",
   "language": "python",
   "name": "python3"
  },
  "language_info": {
   "codemirror_mode": {
    "name": "ipython",
    "version": 3
   },
   "file_extension": ".py",
   "mimetype": "text/x-python",
   "name": "python",
   "nbconvert_exporter": "python",
   "pygments_lexer": "ipython3",
   "version": "3.8.10"
  }
 },
 "nbformat": 4,
 "nbformat_minor": 5
}
