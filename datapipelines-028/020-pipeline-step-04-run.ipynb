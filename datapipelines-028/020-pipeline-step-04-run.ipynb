{
 "cells": [
  {
   "cell_type": "code",
   "execution_count": 2,
   "id": "f6927fa3-c7ca-41f8-b638-03935eb1812b",
   "metadata": {},
   "outputs": [],
   "source": [
    "%run 020-pipeline-step-01.ipynb"
   ]
  },
  {
   "cell_type": "code",
   "execution_count": 3,
   "id": "a5fca38c-2658-42ab-b508-e6c5d606d0f9",
   "metadata": {},
   "outputs": [],
   "source": [
    "%run 020-pipeline-step-02.ipynb"
   ]
  },
  {
   "cell_type": "code",
   "execution_count": 4,
   "id": "a2768753-28c9-4413-8b16-27ca4de94432",
   "metadata": {},
   "outputs": [],
   "source": [
    "%run 020-pipeline-step-03.ipynb"
   ]
  },
  {
   "cell_type": "code",
   "execution_count": 6,
   "id": "be28e504-a248-4a1e-beab-3610b206c5f7",
   "metadata": {},
   "outputs": [
    {
     "name": "stdout",
     "output_type": "stream",
     "text": [
      "minio url: 10.152.183.245:9000\n",
      "try to find bucket datapipeline-028\n",
      "found True\n",
      "Bucket 'datapipeline-028' already exists\n",
      "Downloading http://yann.lecun.com/exdb/mnist/train-images-idx3-ubyte.gz\n",
      "Downloading http://yann.lecun.com/exdb/mnist/train-images-idx3-ubyte.gz to /tmp/e069249a-b992-431c-92cc-ee0da5ebce6a/MNIST/raw/train-images-idx3-ubyte.gz\n"
     ]
    },
    {
     "data": {
      "application/vnd.jupyter.widget-view+json": {
       "model_id": "2813190865ce46c1838f394cd802b5a5",
       "version_major": 2,
       "version_minor": 0
      },
      "text/plain": [
       "  0%|          | 0/9912422 [00:00<?, ?it/s]"
      ]
     },
     "metadata": {},
     "output_type": "display_data"
    },
    {
     "name": "stdout",
     "output_type": "stream",
     "text": [
      "Extracting /tmp/e069249a-b992-431c-92cc-ee0da5ebce6a/MNIST/raw/train-images-idx3-ubyte.gz to /tmp/e069249a-b992-431c-92cc-ee0da5ebce6a/MNIST/raw\n",
      "\n",
      "Downloading http://yann.lecun.com/exdb/mnist/train-labels-idx1-ubyte.gz\n",
      "Downloading http://yann.lecun.com/exdb/mnist/train-labels-idx1-ubyte.gz to /tmp/e069249a-b992-431c-92cc-ee0da5ebce6a/MNIST/raw/train-labels-idx1-ubyte.gz\n"
     ]
    },
    {
     "data": {
      "application/vnd.jupyter.widget-view+json": {
       "model_id": "fb6bd42f0f6a48de99917475f0f1f3e6",
       "version_major": 2,
       "version_minor": 0
      },
      "text/plain": [
       "  0%|          | 0/28881 [00:00<?, ?it/s]"
      ]
     },
     "metadata": {},
     "output_type": "display_data"
    },
    {
     "name": "stdout",
     "output_type": "stream",
     "text": [
      "Extracting /tmp/e069249a-b992-431c-92cc-ee0da5ebce6a/MNIST/raw/train-labels-idx1-ubyte.gz to /tmp/e069249a-b992-431c-92cc-ee0da5ebce6a/MNIST/raw\n",
      "\n",
      "Downloading http://yann.lecun.com/exdb/mnist/t10k-images-idx3-ubyte.gz\n",
      "Downloading http://yann.lecun.com/exdb/mnist/t10k-images-idx3-ubyte.gz to /tmp/e069249a-b992-431c-92cc-ee0da5ebce6a/MNIST/raw/t10k-images-idx3-ubyte.gz\n"
     ]
    },
    {
     "data": {
      "application/vnd.jupyter.widget-view+json": {
       "model_id": "6ff2daa7b21c4decadafd6c9da22cba8",
       "version_major": 2,
       "version_minor": 0
      },
      "text/plain": [
       "  0%|          | 0/1648877 [00:00<?, ?it/s]"
      ]
     },
     "metadata": {},
     "output_type": "display_data"
    },
    {
     "name": "stdout",
     "output_type": "stream",
     "text": [
      "Extracting /tmp/e069249a-b992-431c-92cc-ee0da5ebce6a/MNIST/raw/t10k-images-idx3-ubyte.gz to /tmp/e069249a-b992-431c-92cc-ee0da5ebce6a/MNIST/raw\n",
      "\n",
      "Downloading http://yann.lecun.com/exdb/mnist/t10k-labels-idx1-ubyte.gz\n",
      "Downloading http://yann.lecun.com/exdb/mnist/t10k-labels-idx1-ubyte.gz to /tmp/e069249a-b992-431c-92cc-ee0da5ebce6a/MNIST/raw/t10k-labels-idx1-ubyte.gz\n"
     ]
    },
    {
     "data": {
      "application/vnd.jupyter.widget-view+json": {
       "model_id": "bb436e5b184541c88496dac35bcd0aaa",
       "version_major": 2,
       "version_minor": 0
      },
      "text/plain": [
       "  0%|          | 0/4542 [00:00<?, ?it/s]"
      ]
     },
     "metadata": {},
     "output_type": "display_data"
    },
    {
     "name": "stdout",
     "output_type": "stream",
     "text": [
      "Extracting /tmp/e069249a-b992-431c-92cc-ee0da5ebce6a/MNIST/raw/t10k-labels-idx1-ubyte.gz to /tmp/e069249a-b992-431c-92cc-ee0da5ebce6a/MNIST/raw\n",
      "\n",
      "Processing...\n",
      "Done!\n",
      "downlaod training data from the bucket: datapipeline-028\n",
      "remote name: data/original/MNIST/processed/test.pt\n",
      "local name: /tmp/data/original/MNIST/processed/test.pt\n",
      "remote name: data/original/MNIST/processed/training.pt\n",
      "local name: /tmp/data/original/MNIST/processed/training.pt\n",
      "remote name: data/original/MNIST/raw/t10k-images-idx3-ubyte\n",
      "local name: /tmp/data/original/MNIST/raw/t10k-images-idx3-ubyte\n",
      "remote name: data/original/MNIST/raw/t10k-images-idx3-ubyte.gz\n",
      "local name: /tmp/data/original/MNIST/raw/t10k-images-idx3-ubyte.gz\n",
      "remote name: data/original/MNIST/raw/t10k-labels-idx1-ubyte\n",
      "local name: /tmp/data/original/MNIST/raw/t10k-labels-idx1-ubyte\n",
      "remote name: data/original/MNIST/raw/t10k-labels-idx1-ubyte.gz\n",
      "local name: /tmp/data/original/MNIST/raw/t10k-labels-idx1-ubyte.gz\n",
      "remote name: data/original/MNIST/raw/train-images-idx3-ubyte\n",
      "local name: /tmp/data/original/MNIST/raw/train-images-idx3-ubyte\n",
      "remote name: data/original/MNIST/raw/train-images-idx3-ubyte.gz\n",
      "local name: /tmp/data/original/MNIST/raw/train-images-idx3-ubyte.gz\n",
      "remote name: data/original/MNIST/raw/train-labels-idx1-ubyte\n",
      "local name: /tmp/data/original/MNIST/raw/train-labels-idx1-ubyte\n",
      "remote name: data/original/MNIST/raw/train-labels-idx1-ubyte.gz\n",
      "local name: /tmp/data/original/MNIST/raw/train-labels-idx1-ubyte.gz\n",
      "local_mnist_data_rootdir: /tmp/data/original\n",
      "local_mnist_data_rootdir: ['MNIST']\n",
      "Train Epoch: 1 [0/600 (0%)]\tLoss: 2.308589\n",
      "datapipeline-028 models/trained/detect-digits/21/model_scripted.pt /tmp/models/trained/detect-digits/21/model_scripted.pt\n",
      "remote name: data/original/MNIST/processed/test.pt\n",
      "local name: /tmp/data/original/MNIST/processed/test.pt\n",
      "remote name: data/original/MNIST/processed/training.pt\n",
      "local name: /tmp/data/original/MNIST/processed/training.pt\n",
      "remote name: data/original/MNIST/raw/t10k-images-idx3-ubyte\n",
      "local name: /tmp/data/original/MNIST/raw/t10k-images-idx3-ubyte\n",
      "remote name: data/original/MNIST/raw/t10k-images-idx3-ubyte.gz\n",
      "local name: /tmp/data/original/MNIST/raw/t10k-images-idx3-ubyte.gz\n",
      "remote name: data/original/MNIST/raw/t10k-labels-idx1-ubyte\n",
      "local name: /tmp/data/original/MNIST/raw/t10k-labels-idx1-ubyte\n",
      "remote name: data/original/MNIST/raw/t10k-labels-idx1-ubyte.gz\n",
      "local name: /tmp/data/original/MNIST/raw/t10k-labels-idx1-ubyte.gz\n",
      "remote name: data/original/MNIST/raw/train-images-idx3-ubyte\n",
      "local name: /tmp/data/original/MNIST/raw/train-images-idx3-ubyte\n",
      "remote name: data/original/MNIST/raw/train-images-idx3-ubyte.gz\n",
      "local name: /tmp/data/original/MNIST/raw/train-images-idx3-ubyte.gz\n",
      "remote name: data/original/MNIST/raw/train-labels-idx1-ubyte\n",
      "local name: /tmp/data/original/MNIST/raw/train-labels-idx1-ubyte\n",
      "remote name: data/original/MNIST/raw/train-labels-idx1-ubyte.gz\n",
      "local name: /tmp/data/original/MNIST/raw/train-labels-idx1-ubyte.gz\n",
      "\n",
      "Test set: Average loss: 2.2385, Accuracy: 2209/10000 (22%)\n",
      "\n"
     ]
    },
    {
     "data": {
      "text/plain": [
       "Output(mlpipeline_ui_metadata='{\"outputs\": [{\"type\": \"confusion_matrix\", \"format\": \"csv\", \"schema\": [{\"name\": \"target\", \"type\": \"CATEGORY\"}, {\"name\": \"predicted\", \"type\": \"CATEGORY\"}, {\"name\": \"count\", \"type\": \"NUMBER\"}], \"target_col\": \"actual\", \"predicted_col\": \"predicted\", \"source\": \"0,0,235\\\\n0,1,0\\\\n0,2,0\\\\n0,3,94\\\\n0,4,2\\\\n0,5,639\\\\n0,6,10\\\\n0,7,0\\\\n0,8,0\\\\n0,9,0\\\\n1,0,0\\\\n1,1,0\\\\n1,2,0\\\\n1,3,446\\\\n1,4,354\\\\n1,5,335\\\\n1,6,0\\\\n1,7,0\\\\n1,8,0\\\\n1,9,0\\\\n2,0,3\\\\n2,1,0\\\\n2,2,0\\\\n2,3,724\\\\n2,4,78\\\\n2,5,200\\\\n2,6,27\\\\n2,7,0\\\\n2,8,0\\\\n2,9,0\\\\n3,0,0\\\\n3,1,0\\\\n3,2,0\\\\n3,3,535\\\\n3,4,9\\\\n3,5,466\\\\n3,6,0\\\\n3,7,0\\\\n3,8,0\\\\n3,9,0\\\\n4,0,4\\\\n4,1,0\\\\n4,2,0\\\\n4,3,9\\\\n4,4,240\\\\n4,5,728\\\\n4,6,1\\\\n4,7,0\\\\n4,8,0\\\\n4,9,0\\\\n5,0,0\\\\n5,1,0\\\\n5,2,0\\\\n5,3,71\\\\n5,4,13\\\\n5,5,804\\\\n5,6,4\\\\n5,7,0\\\\n5,8,0\\\\n5,9,0\\\\n6,0,54\\\\n6,1,0\\\\n6,2,0\\\\n6,3,78\\\\n6,4,27\\\\n6,5,437\\\\n6,6,361\\\\n6,7,1\\\\n6,8,0\\\\n6,9,0\\\\n7,0,0\\\\n7,1,0\\\\n7,2,0\\\\n7,3,26\\\\n7,4,22\\\\n7,5,946\\\\n7,6,0\\\\n7,7,34\\\\n7,8,0\\\\n7,9,0\\\\n8,0,0\\\\n8,1,0\\\\n8,2,0\\\\n8,3,62\\\\n8,4,10\\\\n8,5,901\\\\n8,6,1\\\\n8,7,0\\\\n8,8,0\\\\n8,9,0\\\\n9,0,1\\\\n9,1,0\\\\n9,2,0\\\\n9,3,1\\\\n9,4,24\\\\n9,5,983\\\\n9,6,0\\\\n9,7,0\\\\n9,8,0\\\\n9,9,0\\\\n\", \"storage\": \"inline\", \"labels\": [0, 1, 2, 3, 4, 5, 6, 7, 8, 9]}, {\"type\": \"markdown\", \"storage\": \"inline\", \"source\": \"# Model Overview\\\\n## Model Summary\\\\n\\\\n```\\\\nRecursiveScriptModule (\\\\n  (conv1): RecursiveScriptModule(original_name=Conv2d), weights=((32, 1, 3, 3), (32,)), parameters=320\\\\n  (conv2): RecursiveScriptModule(original_name=Conv2d), weights=((64, 32, 3, 3), (64,)), parameters=18496\\\\n  (dropout1): RecursiveScriptModule(original_name=Dropout), weights=(), parameters=0\\\\n  (dropout2): RecursiveScriptModule(original_name=Dropout), weights=(), parameters=0\\\\n  (fc1): RecursiveScriptModule(original_name=Linear), weights=((128, 9216), (128,)), parameters=1179776\\\\n  (fc2): RecursiveScriptModule(original_name=Linear), weights=((10, 128), (10,)), parameters=1290\\\\n)\\\\n```\\\\n\\\\n## Model Performance\\\\n\\\\n**Accuracy**: 22.09\\\\n**Loss**: 2.2384844482421875\\\\n\\\\n\"}]}', mlpipeline_metrics='{\"metrics\": [{\"name\": \"model_accuracy\", \"numberValue\": 22.09, \"format\": \"PERCENTAGE\"}, {\"name\": \"model_loss\", \"numberValue\": 2.2384844482421875, \"format\": \"PERCENTAGE\"}]}')"
      ]
     },
     "execution_count": 6,
     "metadata": {},
     "output_type": "execute_result"
    }
   ],
   "source": [
    "args = {\n",
    "    \"epochs\": 1,\n",
    "    \"optimizer\": \"adam\",\n",
    "    \"batch_size\":64,\n",
    "    \"test_batch_size\":1000,\n",
    "    \"device_name\":\"cpu\",\n",
    "    \"epochs\":1,\n",
    "    \"lr\":0.03,\n",
    "    \"gamma\":0.7,\n",
    "    \"seed\":1,\n",
    "    \"log_interval\":100,\n",
    "    \"model_save_prefix\": \"models/trained/detect-digits\",\n",
    "    \"bucket_name\":\"datapipeline-028\",\n",
    "    \"take_nth_in_subset\":100,\n",
    "    \"version\": \"21\"\n",
    "}\n",
    "\n",
    "\n",
    "put_public_mnist_to_local_minio(args)\n",
    "train_model(args)\n",
    "test_model_and_save_metrics(args)"
   ]
  }
 ],
 "metadata": {
  "kernelspec": {
   "display_name": "Python 3 (ipykernel)",
   "language": "python",
   "name": "python3"
  },
  "language_info": {
   "codemirror_mode": {
    "name": "ipython",
    "version": 3
   },
   "file_extension": ".py",
   "mimetype": "text/x-python",
   "name": "python",
   "nbconvert_exporter": "python",
   "pygments_lexer": "ipython3",
   "version": "3.8.10"
  }
 },
 "nbformat": 4,
 "nbformat_minor": 5
}
