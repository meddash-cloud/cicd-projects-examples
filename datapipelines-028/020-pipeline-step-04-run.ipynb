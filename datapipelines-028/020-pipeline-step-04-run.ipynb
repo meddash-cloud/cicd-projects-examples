{
 "cells": [
  {
   "cell_type": "code",
   "execution_count": 1,
   "id": "f6927fa3-c7ca-41f8-b638-03935eb1812b",
   "metadata": {},
   "outputs": [],
   "source": [
    "%run 020-pipeline-step-01.ipynb"
   ]
  },
  {
   "cell_type": "code",
   "execution_count": 2,
   "id": "a5fca38c-2658-42ab-b508-e6c5d606d0f9",
   "metadata": {},
   "outputs": [
    {
     "name": "stdout",
     "output_type": "stream",
     "text": [
      "Overwriting py_src/mnist_model.py\n"
     ]
    }
   ],
   "source": [
    "%run 020-pipeline-step-02.ipynb"
   ]
  },
  {
   "cell_type": "code",
   "execution_count": 3,
   "id": "a2768753-28c9-4413-8b16-27ca4de94432",
   "metadata": {},
   "outputs": [],
   "source": [
    "%run 020-pipeline-step-03.ipynb"
   ]
  },
  {
   "cell_type": "code",
   "execution_count": 4,
   "id": "5654edc2-2765-46cb-ad4a-82e1f7fb4764",
   "metadata": {},
   "outputs": [
    {
     "name": "stdout",
     "output_type": "stream",
     "text": [
      "mnist_model.py\n"
     ]
    }
   ],
   "source": [
    "%%bash\n",
    "py_src_path=/tmp/abc/test_py_src\n",
    "mkdir -p $py_src_path\n",
    "cp py_src/mnist_model.py $py_src_path\n",
    "ls $py_src_path"
   ]
  },
  {
   "cell_type": "code",
   "execution_count": null,
   "id": "757cfaeb-5372-412e-846c-8596be13fa2e",
   "metadata": {},
   "outputs": [],
   "source": []
  },
  {
   "cell_type": "code",
   "execution_count": 5,
   "id": "be28e504-a248-4a1e-beab-3610b206c5f7",
   "metadata": {},
   "outputs": [
    {
     "name": "stdout",
     "output_type": "stream",
     "text": [
      "minio url: 10.152.183.245:9000\n",
      "try to find bucket datapipelines-028\n",
      "found True\n",
      "Bucket 'datapipelines-028' already exists\n",
      "Downloading http://yann.lecun.com/exdb/mnist/train-images-idx3-ubyte.gz\n",
      "Downloading http://yann.lecun.com/exdb/mnist/train-images-idx3-ubyte.gz to /tmp/6f6b3465-0617-4ee0-88ba-fc6f808e8dc6/MNIST/raw/train-images-idx3-ubyte.gz\n"
     ]
    },
    {
     "data": {
      "application/vnd.jupyter.widget-view+json": {
       "model_id": "93346a7d52a04924ae009577917d469b",
       "version_major": 2,
       "version_minor": 0
      },
      "text/plain": [
       "  0%|          | 0/9912422 [00:00<?, ?it/s]"
      ]
     },
     "metadata": {},
     "output_type": "display_data"
    },
    {
     "name": "stdout",
     "output_type": "stream",
     "text": [
      "Extracting /tmp/6f6b3465-0617-4ee0-88ba-fc6f808e8dc6/MNIST/raw/train-images-idx3-ubyte.gz to /tmp/6f6b3465-0617-4ee0-88ba-fc6f808e8dc6/MNIST/raw\n",
      "\n",
      "Downloading http://yann.lecun.com/exdb/mnist/train-labels-idx1-ubyte.gz\n",
      "Downloading http://yann.lecun.com/exdb/mnist/train-labels-idx1-ubyte.gz to /tmp/6f6b3465-0617-4ee0-88ba-fc6f808e8dc6/MNIST/raw/train-labels-idx1-ubyte.gz\n"
     ]
    },
    {
     "data": {
      "application/vnd.jupyter.widget-view+json": {
       "model_id": "eb180ef68aab4eba9e5b2400f20adb6b",
       "version_major": 2,
       "version_minor": 0
      },
      "text/plain": [
       "  0%|          | 0/28881 [00:00<?, ?it/s]"
      ]
     },
     "metadata": {},
     "output_type": "display_data"
    },
    {
     "name": "stdout",
     "output_type": "stream",
     "text": [
      "Extracting /tmp/6f6b3465-0617-4ee0-88ba-fc6f808e8dc6/MNIST/raw/train-labels-idx1-ubyte.gz to /tmp/6f6b3465-0617-4ee0-88ba-fc6f808e8dc6/MNIST/raw\n",
      "\n",
      "Downloading http://yann.lecun.com/exdb/mnist/t10k-images-idx3-ubyte.gz\n",
      "Downloading http://yann.lecun.com/exdb/mnist/t10k-images-idx3-ubyte.gz to /tmp/6f6b3465-0617-4ee0-88ba-fc6f808e8dc6/MNIST/raw/t10k-images-idx3-ubyte.gz\n"
     ]
    },
    {
     "data": {
      "application/vnd.jupyter.widget-view+json": {
       "model_id": "d2ec9b8e57d44ccb878a95088e57cf11",
       "version_major": 2,
       "version_minor": 0
      },
      "text/plain": [
       "  0%|          | 0/1648877 [00:00<?, ?it/s]"
      ]
     },
     "metadata": {},
     "output_type": "display_data"
    },
    {
     "name": "stdout",
     "output_type": "stream",
     "text": [
      "Extracting /tmp/6f6b3465-0617-4ee0-88ba-fc6f808e8dc6/MNIST/raw/t10k-images-idx3-ubyte.gz to /tmp/6f6b3465-0617-4ee0-88ba-fc6f808e8dc6/MNIST/raw\n",
      "\n",
      "Downloading http://yann.lecun.com/exdb/mnist/t10k-labels-idx1-ubyte.gz\n",
      "Downloading http://yann.lecun.com/exdb/mnist/t10k-labels-idx1-ubyte.gz to /tmp/6f6b3465-0617-4ee0-88ba-fc6f808e8dc6/MNIST/raw/t10k-labels-idx1-ubyte.gz\n"
     ]
    },
    {
     "data": {
      "application/vnd.jupyter.widget-view+json": {
       "model_id": "f862fd9f26a64854b954a550457803d6",
       "version_major": 2,
       "version_minor": 0
      },
      "text/plain": [
       "  0%|          | 0/4542 [00:00<?, ?it/s]"
      ]
     },
     "metadata": {},
     "output_type": "display_data"
    },
    {
     "name": "stdout",
     "output_type": "stream",
     "text": [
      "Extracting /tmp/6f6b3465-0617-4ee0-88ba-fc6f808e8dc6/MNIST/raw/t10k-labels-idx1-ubyte.gz to /tmp/6f6b3465-0617-4ee0-88ba-fc6f808e8dc6/MNIST/raw\n",
      "\n",
      "Processing...\n"
     ]
    },
    {
     "name": "stderr",
     "output_type": "stream",
     "text": [
      "/opt/conda/lib/python3.8/site-packages/torchvision/datasets/mnist.py:502: UserWarning: The given NumPy array is not writeable, and PyTorch does not support non-writeable tensors. This means you can write to the underlying (supposedly non-writeable) NumPy array using the tensor. You may want to copy the array to protect its data or make it writeable before converting it to a tensor. This type of warning will be suppressed for the rest of this program. (Triggered internally at  /pytorch/torch/csrc/utils/tensor_numpy.cpp:143.)\n",
      "  return torch.from_numpy(parsed.astype(m[2], copy=False)).view(*s)\n"
     ]
    },
    {
     "name": "stdout",
     "output_type": "stream",
     "text": [
      "Done!\n",
      "downlaod training data from the bucket: datapipelines-028\n",
      "remote name: data/original/MNIST/processed/test.pt\n",
      "local name: /tmp/data/original/MNIST/processed/test.pt\n",
      "remote name: data/original/MNIST/processed/training.pt\n",
      "local name: /tmp/data/original/MNIST/processed/training.pt\n",
      "remote name: data/original/MNIST/raw/t10k-images-idx3-ubyte\n",
      "local name: /tmp/data/original/MNIST/raw/t10k-images-idx3-ubyte\n",
      "remote name: data/original/MNIST/raw/t10k-images-idx3-ubyte.gz\n",
      "local name: /tmp/data/original/MNIST/raw/t10k-images-idx3-ubyte.gz\n",
      "remote name: data/original/MNIST/raw/t10k-labels-idx1-ubyte\n",
      "local name: /tmp/data/original/MNIST/raw/t10k-labels-idx1-ubyte\n",
      "remote name: data/original/MNIST/raw/t10k-labels-idx1-ubyte.gz\n",
      "local name: /tmp/data/original/MNIST/raw/t10k-labels-idx1-ubyte.gz\n",
      "remote name: data/original/MNIST/raw/train-images-idx3-ubyte\n",
      "local name: /tmp/data/original/MNIST/raw/train-images-idx3-ubyte\n",
      "remote name: data/original/MNIST/raw/train-images-idx3-ubyte.gz\n",
      "local name: /tmp/data/original/MNIST/raw/train-images-idx3-ubyte.gz\n",
      "remote name: data/original/MNIST/raw/train-labels-idx1-ubyte\n",
      "local name: /tmp/data/original/MNIST/raw/train-labels-idx1-ubyte\n",
      "remote name: data/original/MNIST/raw/train-labels-idx1-ubyte.gz\n",
      "local name: /tmp/data/original/MNIST/raw/train-labels-idx1-ubyte.gz\n",
      "local_mnist_data_rootdir: /tmp/data/original\n",
      "local_mnist_data_rootdir: ['MNIST']\n",
      "Train Epoch: 1 [0/600 (0%)]\tLoss: 2.279086\n",
      "datapipelines-028 models/trained/detect-digits/22/model_scripted.pt /tmp/models/trained/detect-digits/22/model_scripted.pt\n"
     ]
    },
    {
     "ename": "RuntimeError",
     "evalue": "[enforce fail at inline_container.cc:222] . file not found: archive/constants.pkl",
     "output_type": "error",
     "traceback": [
      "\u001b[0;31m---------------------------------------------------------------------------\u001b[0m",
      "\u001b[0;31mRuntimeError\u001b[0m                              Traceback (most recent call last)",
      "Cell \u001b[0;32mIn[5], line 23\u001b[0m\n\u001b[1;32m     21\u001b[0m put_public_mnist_to_local_minio(args)\n\u001b[1;32m     22\u001b[0m train_model(args)\n\u001b[0;32m---> 23\u001b[0m \u001b[43mtest_model_and_save_metrics\u001b[49m\u001b[43m(\u001b[49m\u001b[43margs\u001b[49m\u001b[43m)\u001b[49m\n",
      "File \u001b[0;32m/tmp/ipykernel_1305/926351683.py:121\u001b[0m, in \u001b[0;36mtest_model_and_save_metrics\u001b[0;34m(args)\u001b[0m\n\u001b[1;32m    119\u001b[0m minio_client\u001b[38;5;241m.\u001b[39mfget_object(bucket_name,model_script_remote_path,model_script_save_path)\n\u001b[1;32m    120\u001b[0m \u001b[38;5;66;03m#load model without class prototype\u001b[39;00m\n\u001b[0;32m--> 121\u001b[0m model \u001b[38;5;241m=\u001b[39m \u001b[43mtorch\u001b[49m\u001b[38;5;241;43m.\u001b[39;49m\u001b[43mjit\u001b[49m\u001b[38;5;241;43m.\u001b[39;49m\u001b[43mload\u001b[49m\u001b[43m(\u001b[49m\u001b[43mmodel_script_save_path\u001b[49m\u001b[43m)\u001b[49m\n\u001b[1;32m    122\u001b[0m model\u001b[38;5;241m.\u001b[39meval()\n\u001b[1;32m    125\u001b[0m transform\u001b[38;5;241m=\u001b[39mtransforms\u001b[38;5;241m.\u001b[39mCompose([\n\u001b[1;32m    126\u001b[0m transforms\u001b[38;5;241m.\u001b[39mToTensor(),\n\u001b[1;32m    127\u001b[0m transforms\u001b[38;5;241m.\u001b[39mNormalize((\u001b[38;5;241m0.1307\u001b[39m,), (\u001b[38;5;241m0.3081\u001b[39m,))\n\u001b[1;32m    128\u001b[0m ])\n",
      "File \u001b[0;32m/opt/conda/lib/python3.8/site-packages/torch/jit/_serialization.py:161\u001b[0m, in \u001b[0;36mload\u001b[0;34m(f, map_location, _extra_files)\u001b[0m\n\u001b[1;32m    159\u001b[0m cu \u001b[38;5;241m=\u001b[39m torch\u001b[38;5;241m.\u001b[39m_C\u001b[38;5;241m.\u001b[39mCompilationUnit()\n\u001b[1;32m    160\u001b[0m \u001b[38;5;28;01mif\u001b[39;00m \u001b[38;5;28misinstance\u001b[39m(f, \u001b[38;5;28mstr\u001b[39m) \u001b[38;5;129;01mor\u001b[39;00m \u001b[38;5;28misinstance\u001b[39m(f, pathlib\u001b[38;5;241m.\u001b[39mPath):\n\u001b[0;32m--> 161\u001b[0m     cpp_module \u001b[38;5;241m=\u001b[39m \u001b[43mtorch\u001b[49m\u001b[38;5;241;43m.\u001b[39;49m\u001b[43m_C\u001b[49m\u001b[38;5;241;43m.\u001b[39;49m\u001b[43mimport_ir_module\u001b[49m\u001b[43m(\u001b[49m\u001b[43mcu\u001b[49m\u001b[43m,\u001b[49m\u001b[43m \u001b[49m\u001b[38;5;28;43mstr\u001b[39;49m\u001b[43m(\u001b[49m\u001b[43mf\u001b[49m\u001b[43m)\u001b[49m\u001b[43m,\u001b[49m\u001b[43m \u001b[49m\u001b[43mmap_location\u001b[49m\u001b[43m,\u001b[49m\u001b[43m \u001b[49m\u001b[43m_extra_files\u001b[49m\u001b[43m)\u001b[49m\n\u001b[1;32m    162\u001b[0m \u001b[38;5;28;01melse\u001b[39;00m:\n\u001b[1;32m    163\u001b[0m     cpp_module \u001b[38;5;241m=\u001b[39m torch\u001b[38;5;241m.\u001b[39m_C\u001b[38;5;241m.\u001b[39mimport_ir_module_from_buffer(\n\u001b[1;32m    164\u001b[0m         cu, f\u001b[38;5;241m.\u001b[39mread(), map_location, _extra_files\n\u001b[1;32m    165\u001b[0m     )\n",
      "\u001b[0;31mRuntimeError\u001b[0m: [enforce fail at inline_container.cc:222] . file not found: archive/constants.pkl"
     ]
    }
   ],
   "source": [
    "args = {\n",
    "    \"epochs\": 1,\n",
    "    \"optimizer\": \"adam\",\n",
    "    \"batch_size\":64,\n",
    "    \"test_batch_size\":1000,\n",
    "    \"device_name\":\"cpu\",\n",
    "    \"epochs\":1,\n",
    "    \"lr\":0.03,\n",
    "    \"gamma\":0.7,\n",
    "    \"seed\":1,\n",
    "    \"log_interval\":100,\n",
    "    \"model_save_prefix\": \"models/trained/detect-digits\",\n",
    "    \"bucket_name\":\"datapipelines-028\",\n",
    "    \"take_nth_in_subset\":100,\n",
    "    # \"model_src_local_path\":\"/tmp/abc/test_py_src/mnist_model.py\",\n",
    "    \"model_src_minio_path\":\"mnist_model.py\", #it is concatenated as model_save_prefix+model_src_minio_path\n",
    "    \"version\": \"22\"\n",
    "}\n",
    "\n",
    "\n",
    "put_public_mnist_to_local_minio(args)\n",
    "train_model(args)\n",
    "test_model_and_save_metrics(args)"
   ]
  },
  {
   "cell_type": "code",
   "execution_count": null,
   "id": "9630e66e-3dd6-490b-bc5c-8acc1ad4aa51",
   "metadata": {},
   "outputs": [],
   "source": [
    "import os\n",
    "import sys\n",
    "\n",
    "cwd_ = os.getcwd()    \n",
    "sys.path.append(cwd_+\"/py_src\") # go to parent dir\n",
    "import py_src.mnist_model as mnist_model\n",
    "\n",
    "Net = mnist_model.Net\n",
    "Net()"
   ]
  },
  {
   "cell_type": "code",
   "execution_count": null,
   "id": "be1802fd-368b-458e-a4a4-000b6bc4e787",
   "metadata": {},
   "outputs": [],
   "source": []
  }
 ],
 "metadata": {
  "kernelspec": {
   "display_name": "Python 3 (ipykernel)",
   "language": "python",
   "name": "python3"
  },
  "language_info": {
   "codemirror_mode": {
    "name": "ipython",
    "version": 3
   },
   "file_extension": ".py",
   "mimetype": "text/x-python",
   "name": "python",
   "nbconvert_exporter": "python",
   "pygments_lexer": "ipython3",
   "version": "3.8.10"
  }
 },
 "nbformat": 4,
 "nbformat_minor": 5
}
