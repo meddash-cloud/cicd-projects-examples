{
 "cells": [
  {
   "cell_type": "code",
   "execution_count": 1,
   "id": "f6927fa3-c7ca-41f8-b638-03935eb1812b",
   "metadata": {},
   "outputs": [],
   "source": [
    "%run 020-pipeline-step-01.ipynb"
   ]
  },
  {
   "cell_type": "code",
   "execution_count": 2,
   "id": "a5fca38c-2658-42ab-b508-e6c5d606d0f9",
   "metadata": {},
   "outputs": [
    {
     "name": "stdout",
     "output_type": "stream",
     "text": [
      "Overwriting py_src/mnist_model.py\n"
     ]
    }
   ],
   "source": [
    "%run 020-pipeline-step-02.ipynb"
   ]
  },
  {
   "cell_type": "code",
   "execution_count": 3,
   "id": "a2768753-28c9-4413-8b16-27ca4de94432",
   "metadata": {},
   "outputs": [],
   "source": [
    "%run 020-pipeline-step-03.ipynb"
   ]
  },
  {
   "cell_type": "code",
   "execution_count": 4,
   "id": "5654edc2-2765-46cb-ad4a-82e1f7fb4764",
   "metadata": {},
   "outputs": [
    {
     "name": "stdout",
     "output_type": "stream",
     "text": [
      "mnist_model.py\n"
     ]
    }
   ],
   "source": [
    "%%bash\n",
    "py_src_path=/tmp/abc/test_py_src\n",
    "mkdir -p $py_src_path\n",
    "cp py_src/mnist_model.py $py_src_path\n",
    "ls $py_src_path"
   ]
  },
  {
   "cell_type": "code",
   "execution_count": null,
   "id": "757cfaeb-5372-412e-846c-8596be13fa2e",
   "metadata": {},
   "outputs": [],
   "source": []
  },
  {
   "cell_type": "code",
   "execution_count": 5,
   "id": "be28e504-a248-4a1e-beab-3610b206c5f7",
   "metadata": {},
   "outputs": [
    {
     "name": "stdout",
     "output_type": "stream",
     "text": [
      "minio url: 10.152.183.245:9000\n",
      "try to find bucket datapipelines-028\n",
      "found True\n",
      "Bucket 'datapipelines-028' already exists\n",
      "Downloading http://yann.lecun.com/exdb/mnist/train-images-idx3-ubyte.gz\n",
      "Downloading http://yann.lecun.com/exdb/mnist/train-images-idx3-ubyte.gz to /tmp/646ecf18-6505-4229-b993-98e583a96dc8/MNIST/raw/train-images-idx3-ubyte.gz\n"
     ]
    },
    {
     "data": {
      "application/vnd.jupyter.widget-view+json": {
       "model_id": "31296eec67ef4fb497855b7acbeb3d16",
       "version_major": 2,
       "version_minor": 0
      },
      "text/plain": [
       "  0%|          | 0/9912422 [00:00<?, ?it/s]"
      ]
     },
     "metadata": {},
     "output_type": "display_data"
    },
    {
     "name": "stdout",
     "output_type": "stream",
     "text": [
      "Extracting /tmp/646ecf18-6505-4229-b993-98e583a96dc8/MNIST/raw/train-images-idx3-ubyte.gz to /tmp/646ecf18-6505-4229-b993-98e583a96dc8/MNIST/raw\n",
      "\n",
      "Downloading http://yann.lecun.com/exdb/mnist/train-labels-idx1-ubyte.gz\n",
      "Downloading http://yann.lecun.com/exdb/mnist/train-labels-idx1-ubyte.gz to /tmp/646ecf18-6505-4229-b993-98e583a96dc8/MNIST/raw/train-labels-idx1-ubyte.gz\n"
     ]
    },
    {
     "data": {
      "application/vnd.jupyter.widget-view+json": {
       "model_id": "5e5519bba7d442729e0a4368e8e82b2e",
       "version_major": 2,
       "version_minor": 0
      },
      "text/plain": [
       "  0%|          | 0/28881 [00:00<?, ?it/s]"
      ]
     },
     "metadata": {},
     "output_type": "display_data"
    },
    {
     "name": "stdout",
     "output_type": "stream",
     "text": [
      "Extracting /tmp/646ecf18-6505-4229-b993-98e583a96dc8/MNIST/raw/train-labels-idx1-ubyte.gz to /tmp/646ecf18-6505-4229-b993-98e583a96dc8/MNIST/raw\n",
      "\n",
      "Downloading http://yann.lecun.com/exdb/mnist/t10k-images-idx3-ubyte.gz\n",
      "Downloading http://yann.lecun.com/exdb/mnist/t10k-images-idx3-ubyte.gz to /tmp/646ecf18-6505-4229-b993-98e583a96dc8/MNIST/raw/t10k-images-idx3-ubyte.gz\n"
     ]
    },
    {
     "data": {
      "application/vnd.jupyter.widget-view+json": {
       "model_id": "4f9dfd0ceed84950bd98be62641177ec",
       "version_major": 2,
       "version_minor": 0
      },
      "text/plain": [
       "  0%|          | 0/1648877 [00:00<?, ?it/s]"
      ]
     },
     "metadata": {},
     "output_type": "display_data"
    },
    {
     "name": "stdout",
     "output_type": "stream",
     "text": [
      "Extracting /tmp/646ecf18-6505-4229-b993-98e583a96dc8/MNIST/raw/t10k-images-idx3-ubyte.gz to /tmp/646ecf18-6505-4229-b993-98e583a96dc8/MNIST/raw\n",
      "\n",
      "Downloading http://yann.lecun.com/exdb/mnist/t10k-labels-idx1-ubyte.gz\n",
      "Downloading http://yann.lecun.com/exdb/mnist/t10k-labels-idx1-ubyte.gz to /tmp/646ecf18-6505-4229-b993-98e583a96dc8/MNIST/raw/t10k-labels-idx1-ubyte.gz\n"
     ]
    },
    {
     "data": {
      "application/vnd.jupyter.widget-view+json": {
       "model_id": "298916c747f644a2924f914b0640362a",
       "version_major": 2,
       "version_minor": 0
      },
      "text/plain": [
       "  0%|          | 0/4542 [00:00<?, ?it/s]"
      ]
     },
     "metadata": {},
     "output_type": "display_data"
    },
    {
     "name": "stdout",
     "output_type": "stream",
     "text": [
      "Extracting /tmp/646ecf18-6505-4229-b993-98e583a96dc8/MNIST/raw/t10k-labels-idx1-ubyte.gz to /tmp/646ecf18-6505-4229-b993-98e583a96dc8/MNIST/raw\n",
      "\n",
      "Processing...\n"
     ]
    },
    {
     "name": "stderr",
     "output_type": "stream",
     "text": [
      "/opt/conda/lib/python3.8/site-packages/torchvision/datasets/mnist.py:502: UserWarning: The given NumPy array is not writeable, and PyTorch does not support non-writeable tensors. This means you can write to the underlying (supposedly non-writeable) NumPy array using the tensor. You may want to copy the array to protect its data or make it writeable before converting it to a tensor. This type of warning will be suppressed for the rest of this program. (Triggered internally at  /pytorch/torch/csrc/utils/tensor_numpy.cpp:143.)\n",
      "  return torch.from_numpy(parsed.astype(m[2], copy=False)).view(*s)\n"
     ]
    },
    {
     "name": "stdout",
     "output_type": "stream",
     "text": [
      "Done!\n",
      "downlaod training data from the bucket: datapipelines-028\n",
      "remote name: data/original/MNIST/processed/test.pt\n",
      "local name: /tmp/data/original/MNIST/processed/test.pt\n",
      "remote name: data/original/MNIST/processed/training.pt\n",
      "local name: /tmp/data/original/MNIST/processed/training.pt\n",
      "remote name: data/original/MNIST/raw/t10k-images-idx3-ubyte\n",
      "local name: /tmp/data/original/MNIST/raw/t10k-images-idx3-ubyte\n",
      "remote name: data/original/MNIST/raw/t10k-images-idx3-ubyte.gz\n",
      "local name: /tmp/data/original/MNIST/raw/t10k-images-idx3-ubyte.gz\n",
      "remote name: data/original/MNIST/raw/t10k-labels-idx1-ubyte\n",
      "local name: /tmp/data/original/MNIST/raw/t10k-labels-idx1-ubyte\n",
      "remote name: data/original/MNIST/raw/t10k-labels-idx1-ubyte.gz\n",
      "local name: /tmp/data/original/MNIST/raw/t10k-labels-idx1-ubyte.gz\n",
      "remote name: data/original/MNIST/raw/train-images-idx3-ubyte\n",
      "local name: /tmp/data/original/MNIST/raw/train-images-idx3-ubyte\n",
      "remote name: data/original/MNIST/raw/train-images-idx3-ubyte.gz\n",
      "local name: /tmp/data/original/MNIST/raw/train-images-idx3-ubyte.gz\n",
      "remote name: data/original/MNIST/raw/train-labels-idx1-ubyte\n",
      "local name: /tmp/data/original/MNIST/raw/train-labels-idx1-ubyte\n",
      "remote name: data/original/MNIST/raw/train-labels-idx1-ubyte.gz\n",
      "local name: /tmp/data/original/MNIST/raw/train-labels-idx1-ubyte.gz\n",
      "local_mnist_data_rootdir: /tmp/data/original\n",
      "local_mnist_data_rootdir: ['MNIST']\n",
      "Train Epoch: 1 [0/600 (0%)]\tLoss: 2.274517\n",
      "datapipelines-028 models/trained/detect-digits/22/model_scripted.pt /tmp/models/trained/detect-digits/22/model_scripted.pt\n",
      "remote name: data/original/MNIST/processed/test.pt\n",
      "local name: /tmp/data/original/MNIST/processed/test.pt\n",
      "remote name: data/original/MNIST/processed/training.pt\n",
      "local name: /tmp/data/original/MNIST/processed/training.pt\n",
      "remote name: data/original/MNIST/raw/t10k-images-idx3-ubyte\n",
      "local name: /tmp/data/original/MNIST/raw/t10k-images-idx3-ubyte\n",
      "remote name: data/original/MNIST/raw/t10k-images-idx3-ubyte.gz\n",
      "local name: /tmp/data/original/MNIST/raw/t10k-images-idx3-ubyte.gz\n",
      "remote name: data/original/MNIST/raw/t10k-labels-idx1-ubyte\n",
      "local name: /tmp/data/original/MNIST/raw/t10k-labels-idx1-ubyte\n",
      "remote name: data/original/MNIST/raw/t10k-labels-idx1-ubyte.gz\n",
      "local name: /tmp/data/original/MNIST/raw/t10k-labels-idx1-ubyte.gz\n",
      "remote name: data/original/MNIST/raw/train-images-idx3-ubyte\n",
      "local name: /tmp/data/original/MNIST/raw/train-images-idx3-ubyte\n",
      "remote name: data/original/MNIST/raw/train-images-idx3-ubyte.gz\n",
      "local name: /tmp/data/original/MNIST/raw/train-images-idx3-ubyte.gz\n",
      "remote name: data/original/MNIST/raw/train-labels-idx1-ubyte\n",
      "local name: /tmp/data/original/MNIST/raw/train-labels-idx1-ubyte\n",
      "remote name: data/original/MNIST/raw/train-labels-idx1-ubyte.gz\n",
      "local name: /tmp/data/original/MNIST/raw/train-labels-idx1-ubyte.gz\n",
      "\n",
      "Test set: Average loss: 2.1637, Accuracy: 3831/10000 (38%)\n",
      "\n"
     ]
    },
    {
     "data": {
      "text/plain": [
       "Output(mlpipeline_ui_metadata='{\"outputs\": [{\"type\": \"confusion_matrix\", \"format\": \"csv\", \"schema\": [{\"name\": \"target\", \"type\": \"CATEGORY\"}, {\"name\": \"predicted\", \"type\": \"CATEGORY\"}, {\"name\": \"count\", \"type\": \"NUMBER\"}], \"target_col\": \"actual\", \"predicted_col\": \"predicted\", \"source\": \"0,0,768\\\\n0,1,0\\\\n0,2,0\\\\n0,3,66\\\\n0,4,15\\\\n0,5,130\\\\n0,6,0\\\\n0,7,1\\\\n0,8,0\\\\n0,9,0\\\\n1,0,0\\\\n1,1,91\\\\n1,2,0\\\\n1,3,5\\\\n1,4,0\\\\n1,5,1021\\\\n1,6,0\\\\n1,7,0\\\\n1,8,18\\\\n1,9,0\\\\n2,0,41\\\\n2,1,0\\\\n2,2,26\\\\n2,3,655\\\\n2,4,78\\\\n2,5,208\\\\n2,6,0\\\\n2,7,19\\\\n2,8,5\\\\n2,9,0\\\\n3,0,0\\\\n3,1,0\\\\n3,2,0\\\\n3,3,760\\\\n3,4,1\\\\n3,5,233\\\\n3,6,0\\\\n3,7,16\\\\n3,8,0\\\\n3,9,0\\\\n4,0,1\\\\n4,1,0\\\\n4,2,0\\\\n4,3,21\\\\n4,4,618\\\\n4,5,323\\\\n4,6,0\\\\n4,7,16\\\\n4,8,1\\\\n4,9,2\\\\n5,0,7\\\\n5,1,0\\\\n5,2,0\\\\n5,3,127\\\\n5,4,15\\\\n5,5,740\\\\n5,6,0\\\\n5,7,2\\\\n5,8,1\\\\n5,9,0\\\\n6,0,58\\\\n6,1,0\\\\n6,2,2\\\\n6,3,522\\\\n6,4,159\\\\n6,5,197\\\\n6,6,20\\\\n6,7,0\\\\n6,8,0\\\\n6,9,0\\\\n7,0,1\\\\n7,1,0\\\\n7,2,0\\\\n7,3,12\\\\n7,4,32\\\\n7,5,178\\\\n7,6,0\\\\n7,7,803\\\\n7,8,2\\\\n7,9,0\\\\n8,0,1\\\\n8,1,0\\\\n8,2,0\\\\n8,3,174\\\\n8,4,7\\\\n8,5,782\\\\n8,6,0\\\\n8,7,8\\\\n8,8,2\\\\n8,9,0\\\\n9,0,1\\\\n9,1,0\\\\n9,2,0\\\\n9,3,10\\\\n9,4,329\\\\n9,5,576\\\\n9,6,0\\\\n9,7,89\\\\n9,8,1\\\\n9,9,3\\\\n\", \"storage\": \"inline\", \"labels\": [0, 1, 2, 3, 4, 5, 6, 7, 8, 9]}, {\"type\": \"markdown\", \"storage\": \"inline\", \"source\": \"# Model Overview\\\\n## Model Summary\\\\n\\\\n```\\\\nRecursiveScriptModule (\\\\n  (conv1): RecursiveScriptModule(original_name=Conv2d), weights=((32, 1, 3, 3), (32,)), parameters=320\\\\n  (conv2): RecursiveScriptModule(original_name=Conv2d), weights=((64, 32, 3, 3), (64,)), parameters=18496\\\\n  (dropout1): RecursiveScriptModule(original_name=Dropout), weights=(), parameters=0\\\\n  (dropout2): RecursiveScriptModule(original_name=Dropout), weights=(), parameters=0\\\\n  (fc1): RecursiveScriptModule(original_name=Linear), weights=((128, 9216), (128,)), parameters=1179776\\\\n  (fc2): RecursiveScriptModule(original_name=Linear), weights=((10, 128), (10,)), parameters=1290\\\\n)\\\\n```\\\\n\\\\n## Model Performance\\\\n\\\\n**Accuracy**: 38.31\\\\n**Loss**: 2.16369111328125\\\\n\\\\n\"}]}', mlpipeline_metrics='{\"metrics\": [{\"name\": \"model_accuracy\", \"numberValue\": 38.31, \"format\": \"PERCENTAGE\"}, {\"name\": \"model_loss\", \"numberValue\": 2.16369111328125, \"format\": \"PERCENTAGE\"}]}')"
      ]
     },
     "execution_count": 5,
     "metadata": {},
     "output_type": "execute_result"
    }
   ],
   "source": [
    "args = {\n",
    "    \"epochs\": 1,\n",
    "    \"optimizer\": \"adam\",\n",
    "    \"batch_size\":64,\n",
    "    \"test_batch_size\":1000,\n",
    "    \"device_name\":\"cpu\",\n",
    "    \"epochs\":1,\n",
    "    \"lr\":0.03,\n",
    "    \"gamma\":0.7,\n",
    "    \"seed\":1,\n",
    "    \"log_interval\":100,\n",
    "    \"model_save_prefix\": \"models/trained/detect-digits\",\n",
    "    \"bucket_name\":\"datapipelines-028\",\n",
    "    \"take_nth_in_subset\":100,\n",
    "    # \"model_src_local_path\":\"/tmp/abc/test_py_src/mnist_model.py\",\n",
    "    \"model_src_minio_path\":\"mnist_model.py\", #it is concatenated as model_save_prefix+model_src_minio_path\n",
    "    \"version\": \"22\"\n",
    "}\n",
    "\n",
    "\n",
    "put_public_mnist_to_local_minio(args)\n",
    "train_model(args)\n",
    "test_model_and_save_metrics(args)"
   ]
  },
  {
   "cell_type": "code",
   "execution_count": 6,
   "id": "9630e66e-3dd6-490b-bc5c-8acc1ad4aa51",
   "metadata": {},
   "outputs": [
    {
     "data": {
      "text/plain": [
       "Net(\n",
       "  (conv1): Conv2d(1, 32, kernel_size=(3, 3), stride=(1, 1))\n",
       "  (conv2): Conv2d(32, 64, kernel_size=(3, 3), stride=(1, 1))\n",
       "  (dropout1): Dropout(p=0.25, inplace=False)\n",
       "  (dropout2): Dropout(p=0.5, inplace=False)\n",
       "  (fc1): Linear(in_features=9216, out_features=128, bias=True)\n",
       "  (fc2): Linear(in_features=128, out_features=10, bias=True)\n",
       ")"
      ]
     },
     "execution_count": 6,
     "metadata": {},
     "output_type": "execute_result"
    }
   ],
   "source": [
    "import os\n",
    "import sys\n",
    "\n",
    "cwd_ = os.getcwd()    \n",
    "sys.path.append(cwd_+\"/py_src\") # go to parent dir\n",
    "import py_src.mnist_model as mnist_model\n",
    "\n",
    "Net = mnist_model.Net\n",
    "Net()"
   ]
  },
  {
   "cell_type": "code",
   "execution_count": null,
   "id": "be1802fd-368b-458e-a4a4-000b6bc4e787",
   "metadata": {},
   "outputs": [],
   "source": []
  }
 ],
 "metadata": {
  "kernelspec": {
   "display_name": "Python 3 (ipykernel)",
   "language": "python",
   "name": "python3"
  },
  "language_info": {
   "codemirror_mode": {
    "name": "ipython",
    "version": 3
   },
   "file_extension": ".py",
   "mimetype": "text/x-python",
   "name": "python",
   "nbconvert_exporter": "python",
   "pygments_lexer": "ipython3",
   "version": "3.8.10"
  }
 },
 "nbformat": 4,
 "nbformat_minor": 5
}
