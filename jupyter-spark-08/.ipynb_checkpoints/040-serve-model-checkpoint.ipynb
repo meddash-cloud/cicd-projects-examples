{
 "cells": [
  {
   "cell_type": "code",
   "execution_count": 26,
   "id": "8492d9ab-5395-48f7-96ea-9a7c6488b8b6",
   "metadata": {},
   "outputs": [],
   "source": [
    "import requests\n",
    "import numpy as np\n",
    "    \n",
    "def test_prediction(url, inference_input ):\n",
    "    data=None\n",
    "    with open(inference_input, 'rb') as f:\n",
    "        data = f.read()\n",
    "    r = requests.put(url, data=data)\n",
    "    return r.json()"
   ]
  },
  {
   "cell_type": "markdown",
   "id": "10dc3460-c2f7-4ccd-ade2-911684571633",
   "metadata": {},
   "source": [
    "# Test prediction service from inside of the cluster"
   ]
  },
  {
   "cell_type": "code",
   "execution_count": 31,
   "id": "c220955e-9154-463e-af78-e7bbfa47502c",
   "metadata": {},
   "outputs": [],
   "source": [
    "data = {\n",
    "  \"inputs\": [\n",
    "    {\n",
    "      \"name\": \"input-0\",\n",
    "      \"shape\": [2, 4],\n",
    "      \"datatype\": \"FP32\",\n",
    "      \"data\": [\n",
    "        [6.8, 2.8, 4.8, 1.4],\n",
    "        [6.0, 3.4, 4.5, 1.6]\n",
    "      ]\n",
    "    }\n",
    "  ]\n",
    "}"
   ]
  },
  {
   "cell_type": "code",
   "execution_count": 32,
   "id": "7f82a13a-075b-41af-8fb1-1e2d0947bb78",
   "metadata": {},
   "outputs": [
    {
     "name": "stdout",
     "output_type": "stream",
     "text": [
      "{'model_name': 'iris', 'model_version': '4', 'id': '0d771db8-ebb5-4c78-b023-5f6760c40535', 'parameters': {}, 'outputs': [{'name': 'predict', 'shape': [2, 1], 'datatype': 'INT64', 'parameters': {'content_type': 'np'}, 'data': [1, 1]}]}\n"
     ]
    }
   ],
   "source": [
    "import requests\n",
    "import numpy as np\n",
    "import json\n",
    "\n",
    "url = \"http://sklearn-serve-iris.kubeflow.svc.cluster.local/v2/models/iris/versions/4/infer\"\n",
    "r = requests.post(url, data=json.dumps(data))\n",
    "print(r.json())"
   ]
  },
  {
   "cell_type": "markdown",
   "id": "15e96269-e73f-4d47-85cd-34f41632545b",
   "metadata": {},
   "source": [
    "# Test prediction service from the internet"
   ]
  },
  {
   "cell_type": "code",
   "execution_count": 34,
   "id": "9c2f7c6e-9c4d-46b5-ba14-1a0fd49a1e3a",
   "metadata": {},
   "outputs": [
    {
     "name": "stdout",
     "output_type": "stream",
     "text": [
      "{'model_name': 'iris', 'model_version': '4', 'id': '0b6f7b0f-e4e4-445c-a49f-c2152b7b0c00', 'parameters': {}, 'outputs': [{'name': 'predict', 'shape': [2, 1], 'datatype': 'INT64', 'parameters': {'content_type': 'np'}, 'data': [1, 1]}]}\n"
     ]
    }
   ],
   "source": [
    "import os\n",
    "import requests\n",
    "import numpy as np\n",
    "import json\n",
    "\n",
    "MEDDASH_CLUSTER_ID = os.environ[\"MEDDASH_CLUSTER_ID\"]\n",
    "\n",
    "\n",
    "url = \"http://app.{}.hosted.meddash.cloud/v2/models/iris/versions/4/infer\".format(MEDDASH_CLUSTER_ID)\n",
    "r = requests.post(url, data=json.dumps(data))\n",
    "print(r.json())\n"
   ]
  }
 ],
 "metadata": {
  "kernelspec": {
   "display_name": "Python 3 (ipykernel)",
   "language": "python",
   "name": "python3"
  },
  "language_info": {
   "codemirror_mode": {
    "name": "ipython",
    "version": 3
   },
   "file_extension": ".py",
   "mimetype": "text/x-python",
   "name": "python",
   "nbconvert_exporter": "python",
   "pygments_lexer": "ipython3",
   "version": "3.8.10"
  }
 },
 "nbformat": 4,
 "nbformat_minor": 5
}
