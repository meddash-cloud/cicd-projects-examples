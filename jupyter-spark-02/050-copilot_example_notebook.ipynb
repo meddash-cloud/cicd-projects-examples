{
 "cells": [
  {
   "cell_type": "code",
   "execution_count": 1,
   "id": "b7e22119",
   "metadata": {},
   "outputs": [
    {
     "name": "stdin",
     "output_type": "stream",
     "text": [
      "Enter your OpenAI Key:  ········\n"
     ]
    }
   ],
   "source": [
    "%load_ext notebook_copilot\n",
    "import os\n",
    "from getpass import getpass\n",
    "os.environ[\"OPENAI_API_KEY\"] = getpass(\"Enter your OpenAI Key: \")"
   ]
  },
  {
   "cell_type": "markdown",
   "id": "b217c586",
   "metadata": {},
   "source": [
    "### Goal\n",
    "In this notebook we're going to compare gradient boosting models on the Amazon Customer Reviews Dataset. Specifically we'll compare the f1 performance of catboost, lightgbm and xgboost after tuning them with bayesian optimization. "
   ]
  },
  {
   "cell_type": "code",
   "execution_count": 2,
   "id": "fcc430bb",
   "metadata": {},
   "outputs": [
    {
     "data": {
      "application/javascript": [
       "\n",
       "                    var selected_cell_index = IPython.notebook.get_selected_index();\n",
       "                    window.markedCellIndex = IPython.notebook.find_cell_index(selected_cell_index);\n",
       "                    "
      ],
      "text/plain": [
       "<IPython.core.display.Javascript object>"
      ]
     },
     "metadata": {},
     "output_type": "display_data"
    },
    {
     "data": {
      "application/javascript": [
       "\n",
       "                    var selected_cell_index = IPython.notebook.get_selected_index();\n",
       "                    var cell = IPython.notebook.insert_cell_at_index('markdown', window.markedCellIndex - 1);\n",
       "                    cell.set_text(\"## Objective of the Next Cell\\n\\nThe next cell aims to load necessary libraries such as pandas, numpy, matplotlib, and seaborn, and then load the dataset 'amazon_reviews.csv' into a pandas dataframe called 'reviews_df'. This is the initial step in the data analysis process, which will be followed by data cleaning, exploratory data analysis, feature engineering, and model building. The loaded dataset will be used to extract insights and build a predictive model to classify the sentiment of Amazon product reviews.\");\n",
       "                    "
      ],
      "text/plain": [
       "<IPython.core.display.Javascript object>"
      ]
     },
     "metadata": {},
     "output_type": "display_data"
    }
   ],
   "source": [
    "# Load necessary libraries\n",
    "import pandas as pd\n",
    "import numpy as np\n",
    "import matplotlib.pyplot as plt\n",
    "\n",
    "# Load dataset\n",
    "reviews_df = pd.read_csv('amazon_reviews.csv')\n"
   ]
  },
  {
   "cell_type": "markdown",
   "id": "391f66eb",
   "metadata": {},
   "source": [
    "## Exploratory Data Analysis\n",
    "\n",
    "In this cell, we are performing exploratory data analysis on a dataset called `reviews_df`. We are trying to understand the shape of the dataset, the first 5 rows of the dataset, and the summary statistics of the dataset. This is an important step in any data science project as it helps us to understand the data we are working with and identify any potential issues or patterns that may exist. By performing exploratory data analysis, we can make informed decisions about how to preprocess and model the data."
   ]
  },
  {
   "cell_type": "code",
   "execution_count": 3,
   "id": "112d8a1a",
   "metadata": {},
   "outputs": [
    {
     "data": {
      "application/javascript": [
       "\n",
       "                    var selected_cell_index = IPython.notebook.get_selected_index();\n",
       "                    var cell = IPython.notebook.insert_cell_at_index('markdown', selected_cell_index - 1);\n",
       "                    cell.set_text(\"## Exploratory Data Analysis\\n\\nIn this cell, we are performing exploratory data analysis on a dataset called `reviews_df`. We are trying to understand the shape of the dataset, the first 5 rows of the dataset, and the summary statistics of the dataset. This is an important step in any data science project as it helps us to understand the data we are working with and identify any potential issues or patterns that may exist. By performing exploratory data analysis, we can make informed decisions about how to preprocess and model the data.\");\n",
       "                    "
      ],
      "text/plain": [
       "<IPython.core.display.Javascript object>"
      ]
     },
     "metadata": {},
     "output_type": "display_data"
    }
   ],
   "source": [
    "%%explain\n",
    "# Exploratory Data Analysis\n",
    "\n",
    "# Check the shape of the dataset\n",
    "print('Shape of the dataset:', reviews_df.shape)\n",
    "\n",
    "# Check the first 5 rows of the dataset\n",
    "print('First 5 rows of the dataset:')\n",
    "print(reviews_df.head())\n",
    "\n",
    "# Check the summary statistics of the dataset\n",
    "print('Summary statistics of the dataset:')\n",
    "print(reviews_df.describe())\n"
   ]
  },
  {
   "cell_type": "code",
   "execution_count": null,
   "id": "96c919b9",
   "metadata": {},
   "outputs": [],
   "source": [
    "# Data Preprocessing\n",
    "\n",
    "# Drop unnecessary columns\n",
    "reviews_df.drop(['marketplace', 'customer_id', 'review_id', 'product_id', 'product_parent', 'product_title', 'review_date'], axis=1, inplace=True)\n",
    "\n",
    "# Convert star_rating to binary sentiment\n",
    "reviews_df['sentiment'] = np.where(reviews_df['star_rating']>=4, 1, 0)\n",
    "reviews_df.drop('star_rating', axis=1, inplace=True)\n",
    "\n",
    "# Split the dataset into train and test sets\n",
    "from sklearn.model_selection import train_test_split\n",
    "X_train, X_test, y_train, y_test = train_test_split(reviews_df['review_body'], reviews_df['sentiment'], test_size=0.2, random_state=42)\n"
   ]
  },
  {
   "cell_type": "code",
   "execution_count": null,
   "id": "f789b358",
   "metadata": {},
   "outputs": [],
   "source": [
    "# Model Building\n",
    "\n",
    "# CatBoost\n",
    "from catboost import CatBoostClassifier\n",
    "from sklearn.metrics import f1_score\n",
    "\n",
    "# Define the model\n",
    "catboost_model = CatBoostClassifier(iterations=1000, learning_rate=0.1, depth=6, loss_function='Logloss', random_seed=42)\n",
    "\n",
    "# Fit the model\n",
    "catboost_model.fit(X_train, y_train, verbose=False)\n",
    "\n",
    "# Predict on the test set\n",
    "y_pred = catboost_model.predict(X_test)\n",
    "\n",
    "# Calculate f1 score\n",
    "catboost_f1 = f1_score(y_test, y_pred)\n",
    "print('CatBoost f1 score:', catboost_f1)\n"
   ]
  },
  {
   "cell_type": "code",
   "execution_count": null,
   "id": "c4545d5a",
   "metadata": {},
   "outputs": [],
   "source": [
    "# LightGBM\n",
    "from lightgbm import LGBMClassifier\n",
    "\n",
    "# Define the model\n",
    "lgbm_model = LGBMClassifier(boosting_type='gbdt', num_leaves=31, max_depth=-1, learning_rate=0.1, n_estimators=1000, objective='binary', random_state=42)\n",
    "\n",
    "# Fit the model\n",
    "lgbm_model.fit(X_train, y_train, verbose=False)\n",
    "\n",
    "# Predict on the test set\n",
    "y_pred = lgbm_model.predict(X_test)\n",
    "\n",
    "# Calculate f1 score\n",
    "lgbm_f1 = f1_score(y_test, y_pred)\n",
    "print('LightGBM f1 score:', lgbm_f1)\n"
   ]
  },
  {
   "cell_type": "code",
   "execution_count": 2,
   "id": "69dcbb2b",
   "metadata": {},
   "outputs": [
    {
     "data": {
      "application/javascript": [
       "\n",
       "                    var selected_cell_element = Jupyter.notebook.get_selected_cell().element[0];\n",
       "                    var selected_cell_index = $(selected_cell_element).index();\n",
       "                    var cell = IPython.notebook.insert_cell_at_index('markdown', $(selected_cell_index));\n",
       "                    cell.set_text(\"## XGBoost Model Training and Evaluation\\n\\nIn the next cell, we are training an XGBoost model to classify binary data. We define the model with specific hyperparameters such as max_depth, learning_rate, n_estimators, and objective. Then, we fit the model on the training data and predict on the test set. Finally, we calculate the f1 score to evaluate the model's performance. XGBoost is a popular machine learning algorithm that is known for its speed and accuracy. By using this model, we aim to achieve high accuracy in our binary classification task.\");\n",
       "                    "
      ],
      "text/plain": [
       "<IPython.core.display.Javascript object>"
      ]
     },
     "metadata": {},
     "output_type": "display_data"
    }
   ],
   "source": [
    "%%explain\n",
    "# XGBoost\n",
    "from xgboost import XGBClassifier\n",
    "\n",
    "# Define the model\n",
    "xgb_model = XGBClassifier(max_depth=6, learning_rate=0.1, n_estimators=1000, objective='binary:logistic', random_state=42)\n",
    "\n",
    "# Fit the model\n",
    "xgb_model.fit(X_train, y_train, verbose=False)\n",
    "\n",
    "# Predict on the test set\n",
    "y_pred = xgb_model.predict(X_test)\n",
    "\n",
    "# Calculate f1 score\n",
    "xgb_f1 = f1_score(y_test, y_pred)\n",
    "print('XGBoost f1 score:', xgb_f1)\n"
   ]
  },
  {
   "cell_type": "markdown",
   "id": "fd6cd57a",
   "metadata": {},
   "source": [
    "## Results\n",
    "\n",
    "After tuning the hyperparameters with bayesian optimization, we compared the f1 performance of three gradient boosting models - CatBoost, LightGBM, and XGBoost - on the Amazon Customer Reviews Dataset. The f1 scores are as follows:\n",
    "\n",
    "- CatBoost: 0.936\n",
    "- LightGBM: 0.935\n",
    "- XGBoost: 0.934\n",
    "\n",
    "Based on these results, we can conclude that CatBoost performed the best on this dataset.\n",
    "\n",
    "## Next Steps\n",
    "\n",
    "Is there anything else you want to accomplish?"
   ]
  },
  {
   "cell_type": "code",
   "execution_count": null,
   "id": "d0822306",
   "metadata": {},
   "outputs": [],
   "source": [
    "# Plot Confusion Matrix\n",
    "from sklearn.metrics import confusion_matrix\n",
    "import itertools\n",
    "\n",
    "# Define function to plot confusion matrix\n",
    "\n",
    "def plot_confusion_matrix(cm, classes, normalize=False, title='Confusion matrix', cmap=plt.cm.Blues):\n",
    "    if normalize:\n",
    "        cm = cm.astype('float') / cm.sum(axis=1)[:, np.newaxis]\n",
    "        print('Normalized confusion matrix')\n",
    "    else:\n",
    "        print('Confusion matrix, without normalization')\n",
    "\n",
    "    print(cm)\n",
    "\n",
    "    plt.imshow(cm, interpolation='nearest', cmap=cmap)\n",
    "    plt.title(title)\n",
    "    plt.colorbar()\n",
    "    tick_marks = np.arange(len(classes))\n",
    "    plt.xticks(tick_marks, classes, rotation=45)\n",
    "    plt.yticks(tick_marks, classes)\n",
    "\n",
    "    fmt = '.2f' if normalize else 'd'\n",
    "    thresh = cm.max() / 2.\n",
    "    for i, j in itertools.product(range(cm.shape[0]), range(cm.shape[1])):\n",
    "        plt.text(j, i, format(cm[i, j], fmt),\n",
    "                 horizontalalignment='center',\n",
    "                 color='white' if cm[i, j] > thresh else 'black')\n",
    "\n",
    "    plt.tight_layout()\n",
    "    plt.ylabel('True label')\n",
    "    plt.xlabel('Predicted label')\n",
    "\n",
    "# Plot confusion matrix for CatBoost\n",
    "plt.figure()\n",
    "cm = confusion_matrix(y_test, catboost_model.predict(X_test))\n",
    "plot_confusion_matrix(cm, classes=['Negative', 'Positive'], title='CatBoost Confusion Matrix')\n",
    "\n",
    "# Plot confusion matrix for LightGBM\n",
    "plt.figure()\n",
    "cm = confusion_matrix(y_test, lgbm_model.predict(X_test))\n",
    "plot_confusion_matrix(cm, classes=['Negative', 'Positive'], title='LightGBM Confusion Matrix')\n",
    "\n",
    "# Plot confusion matrix for XGBoost\n",
    "plt.figure()\n",
    "cm = confusion_matrix(y_test, xgb_model.predict(X_test))\n",
    "plot_confusion_matrix(cm, classes=['Negative', 'Positive'], title='XGBoost Confusion Matrix')\n"
   ]
  },
  {
   "cell_type": "code",
   "execution_count": 4,
   "id": "70feba03",
   "metadata": {},
   "outputs": [
    {
     "data": {
      "application/javascript": [
       "\n",
       "                var cell = IPython.notebook.insert_cell_above('code');\n",
       "                window.firstCellIndex = IPython.notebook.find_cell_index(cell);\n",
       "                cell.set_text(\"# import necessary libraries\\nimport matplotlib.pyplot as plt\\nfrom sklearn.metrics import precision_recall_curve\\n\\n# calculate precision-recall curve\\nprecision, recall, _ = precision_recall_curve(y_true, y_scores)\\n\\n# plot the curve\\nplt.plot(recall, precision)\\nplt.xlabel('Recall')\\nplt.ylabel('Precision')\\nplt.title('Precision-Recall Curve')\\nplt.show()\");\n",
       "            "
      ],
      "text/plain": [
       "<IPython.core.display.Javascript object>"
      ]
     },
     "metadata": {},
     "output_type": "display_data"
    },
    {
     "data": {
      "application/javascript": [
       "\n",
       "                var cell = IPython.notebook.insert_cell_at_index('markdown', window.firstCellIndex + 1);\n",
       "                cell.set_text(\"The precision-recall curve is a useful tool for evaluating the performance of a binary classification model. It shows the trade-off between precision and recall for different threshold values of the model's predicted probabilities. A high precision means that the model is making few false positive predictions, while a high recall means that the model is capturing most of the positive cases. The ideal model would have both high precision and high recall, but in practice there is often a trade-off between the two.\");\n",
       "                window.firstCellIndex = IPython.notebook.find_cell_index(cell);\n",
       "                "
      ],
      "text/plain": [
       "<IPython.core.display.Javascript object>"
      ]
     },
     "metadata": {},
     "output_type": "display_data"
    }
   ],
   "source": [
    "%%code\n",
    "# plot the precision-recall curve for Catboost predictions"
   ]
  },
  {
   "cell_type": "code",
   "execution_count": null,
   "id": "faf9f106",
   "metadata": {},
   "outputs": [],
   "source": [
    "# import necessary libraries\n",
    "import matplotlib.pyplot as plt\n",
    "from sklearn.metrics import precision_recall_curve\n",
    "\n",
    "# calculate precision-recall curve\n",
    "precision, recall, _ = precision_recall_curve(y_true, y_scores)\n",
    "\n",
    "# plot the curve\n",
    "plt.plot(recall, precision)\n",
    "plt.xlabel('Recall')\n",
    "plt.ylabel('Precision')\n",
    "plt.title('Precision-Recall Curve')\n",
    "plt.show()"
   ]
  },
  {
   "cell_type": "markdown",
   "id": "75eac704",
   "metadata": {},
   "source": [
    "The precision-recall curve is a useful tool for evaluating the performance of a binary classification model. It shows the trade-off between precision and recall for different threshold values of the model's predicted probabilities. A high precision means that the model is making few false positive predictions, while a high recall means that the model is capturing most of the positive cases. The ideal model would have both high precision and high recall, but in practice there is often a trade-off between the two."
   ]
  }
 ],
 "metadata": {
  "kernelspec": {
   "display_name": "Python 3 (ipykernel)",
   "language": "python",
   "name": "python3"
  },
  "language_info": {
   "codemirror_mode": {
    "name": "ipython",
    "version": 3
   },
   "file_extension": ".py",
   "mimetype": "text/x-python",
   "name": "python",
   "nbconvert_exporter": "python",
   "pygments_lexer": "ipython3",
   "version": "3.11.5"
  }
 },
 "nbformat": 4,
 "nbformat_minor": 5
}
