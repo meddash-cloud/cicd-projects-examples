{
 "cells": [
  {
   "cell_type": "code",
   "execution_count": 22,
   "id": "d5893318-0443-46e5-9faa-0c8baac7b948",
   "metadata": {},
   "outputs": [],
   "source": [
    "# %run 030-pipeline-builder.ipynb >/tmp/030-output.txt"
   ]
  },
  {
   "cell_type": "code",
   "execution_count": null,
   "id": "f2554f06-ce48-4dba-9ae3-ce8d614bb6da",
   "metadata": {},
   "outputs": [],
   "source": [
    "!cat /tmp/030-output.txt"
   ]
  },
  {
   "cell_type": "code",
   "execution_count": 2,
   "id": "13ece2f1-213d-4e15-b0a5-92fd5f6650c1",
   "metadata": {},
   "outputs": [
    {
     "data": {
      "text/html": [
       "\n",
       "        <iframe\n",
       "            width=\"1200\"\n",
       "            height=\"600\"\n",
       "            src=\"http://kf-ml-pipeline-ui.v1005r7c-bfef-4f0b-8028-99d5fdcf47de.hosted.meddash.cloud/#/runs/details/c2bf9a0c-eb80-4053-8492-abcf282b301b\"\n",
       "            frameborder=\"0\"\n",
       "            allowfullscreen\n",
       "            \n",
       "        ></iframe>\n",
       "        "
      ],
      "text/plain": [
       "<IPython.lib.display.IFrame at 0x7f269441e760>"
      ]
     },
     "execution_count": 2,
     "metadata": {},
     "output_type": "execute_result"
    }
   ],
   "source": [
    "import os\n",
    "from IPython.display import IFrame\n",
    "cluster_id= os.environ[\"MEDDASH_CLUSTER_ID\"]\n",
    "run_id=\"c2bf9a0c-eb80-4053-8492-abcf282b301b\"\n",
    "\n",
    "pipeline_vis_endpoint=\"http://kf-ml-pipeline-ui.{}.hosted.meddash.cloud/#/runs/details/{}\".format(cluster_id,run_id)\n",
    "IFrame(pipeline_vis_endpoint, width=1200, height=600)"
   ]
  },
  {
   "cell_type": "code",
   "execution_count": 23,
   "id": "ceb104d1-6770-4b04-8847-e92aaa710fbe",
   "metadata": {},
   "outputs": [],
   "source": [
    "import json\n",
    "\n",
    "# json_object = json.dumps(five)\n",
    " \n",
    "number_five=None\n",
    "# Writing to sample.json\n",
    "with open(\"five.json\", \"r\") as f:\n",
    "    five_content=f.read()\n",
    "    number_five=json.loads(five_content)\n"
   ]
  },
  {
   "cell_type": "code",
   "execution_count": 24,
   "id": "d554629e-1fd4-46d6-b484-bec436b9a71b",
   "metadata": {},
   "outputs": [
    {
     "name": "stdout",
     "output_type": "stream",
     "text": [
      "[8, 8]\n"
     ]
    }
   ],
   "source": [
    "import requests\n",
    "import numpy as np\n",
    "url = \"http://digits-recognizer-predictor-default.kubeflow.svc.cluster.local/v1/models/digits-recognizer:predict\"\n",
    "myobj = {'somekey': 'somevalue'}\n",
    "\n",
    "t = np.array([number_five, number_five])\n",
    "t = t.reshape(-1,28,28,1)\n",
    "\n",
    "inference_input = {\n",
    "  'instances': t.tolist()\n",
    "}\n",
    "\n",
    "x = requests.post(url, json = inference_input)\n",
    "predictions=x.json()[\"predictions\"]\n",
    "decoded_predictions=[np.argmax(i) for i in predictions]\n",
    "print(decoded_predictions)"
   ]
  },
  {
   "cell_type": "code",
   "execution_count": 25,
   "id": "0baa01ac-4679-44ae-ab70-30ccc30a6b1d",
   "metadata": {},
   "outputs": [
    {
     "name": "stdout",
     "output_type": "stream",
     "text": [
      "[8]\n"
     ]
    }
   ],
   "source": [
    "import requests\n",
    "import numpy as np\n",
    "url = \"http://digits-recognizer-predictor-default.kubeflow.svc.cluster.local/v1/models/digits-recognizer:predict\"\n",
    "myobj = {'somekey': 'somevalue'}\n",
    "\n",
    "t = np.array(number_five)\n",
    "t = t.reshape(-1,28,28,1)\n",
    "\n",
    "inference_input = {\n",
    "  'instances': t.tolist()\n",
    "}\n",
    "\n",
    "x = requests.post(url, json = inference_input)\n",
    "predictions=x.json()[\"predictions\"]\n",
    "decoded_predictions=[np.argmax(i) for i in predictions]\n",
    "print(decoded_predictions)"
   ]
  }
 ],
 "metadata": {
  "kernelspec": {
   "display_name": "Python 3 (ipykernel)",
   "language": "python",
   "name": "python3"
  },
  "language_info": {
   "codemirror_mode": {
    "name": "ipython",
    "version": 3
   },
   "file_extension": ".py",
   "mimetype": "text/x-python",
   "name": "python",
   "nbconvert_exporter": "python",
   "pygments_lexer": "ipython3",
   "version": "3.8.10"
  }
 },
 "nbformat": 4,
 "nbformat_minor": 5
}
