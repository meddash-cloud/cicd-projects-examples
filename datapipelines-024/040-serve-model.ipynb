{
 "cells": [
  {
   "cell_type": "code",
   "execution_count": 1,
   "id": "d5893318-0443-46e5-9faa-0c8baac7b948",
   "metadata": {},
   "outputs": [
    {
     "data": {
      "text/html": [
       "<a href=\"http://10.152.183.243:8888/#/experiments/details/9a389eac-0055-4563-aaaf-3df5bb6454d8\" target=\"_blank\" >Experiment details</a>."
      ],
      "text/plain": [
       "<IPython.core.display.HTML object>"
      ]
     },
     "metadata": {},
     "output_type": "display_data"
    },
    {
     "data": {
      "text/html": [
       "<a href=\"http://10.152.183.243:8888/#/runs/details/51cc4d24-007d-4c16-8373-be9bf63696c0\" target=\"_blank\" >Run details</a>."
      ],
      "text/plain": [
       "<IPython.core.display.HTML object>"
      ]
     },
     "metadata": {},
     "output_type": "display_data"
    },
    {
     "name": "stdout",
     "output_type": "stream",
     "text": [
      "pipeline.run_id: 51cc4d24-007d-4c16-8373-be9bf63696c0\n"
     ]
    }
   ],
   "source": [
    "%run 030-pipeline-builder.ipynb "
   ]
  },
  {
   "cell_type": "code",
   "execution_count": null,
   "id": "f2554f06-ce48-4dba-9ae3-ce8d614bb6da",
   "metadata": {},
   "outputs": [],
   "source": [
    "# Assign the run_id value above to the run_id variable below"
   ]
  },
  {
   "cell_type": "code",
   "execution_count": 2,
   "id": "13ece2f1-213d-4e15-b0a5-92fd5f6650c1",
   "metadata": {},
   "outputs": [
    {
     "data": {
      "text/html": [
       "\n",
       "        <iframe\n",
       "            width=\"1200\"\n",
       "            height=\"600\"\n",
       "            src=\"http://kf-ml-pipeline-ui.v1005r7c-bfef-4f0b-8028-99d5fdcf47de.hosted.meddash.cloud/#/runs/details/51cc4d24-007d-4c16-8373-be9bf63696c0\"\n",
       "            frameborder=\"0\"\n",
       "            allowfullscreen\n",
       "            \n",
       "        ></iframe>\n",
       "        "
      ],
      "text/plain": [
       "<IPython.lib.display.IFrame at 0x7f7b7c4b29d0>"
      ]
     },
     "execution_count": 2,
     "metadata": {},
     "output_type": "execute_result"
    }
   ],
   "source": [
    "import os\n",
    "from IPython.display import IFrame\n",
    "cluster_id= os.environ[\"MEDDASH_CLUSTER_ID\"]\n",
    "run_id=\"51cc4d24-007d-4c16-8373-be9bf63696c0\"\n",
    "\n",
    "pipeline_vis_endpoint=\"http://kf-ml-pipeline-ui.{}.hosted.meddash.cloud/#/runs/details/{}\".format(cluster_id,run_id)\n",
    "IFrame(pipeline_vis_endpoint, width=1200, height=600)"
   ]
  },
  {
   "cell_type": "code",
   "execution_count": 3,
   "id": "ceb104d1-6770-4b04-8847-e92aaa710fbe",
   "metadata": {},
   "outputs": [],
   "source": [
    "import json\n",
    "\n",
    "# json_object = json.dumps(five)\n",
    " \n",
    "number_five=None\n",
    "# Writing to sample.json\n",
    "with open(\"five.json\", \"r\") as f:\n",
    "    five_content=f.read()\n",
    "    number_five=json.loads(five_content)\n"
   ]
  },
  {
   "cell_type": "code",
   "execution_count": 8,
   "id": "8492d9ab-5395-48f7-96ea-9a7c6488b8b6",
   "metadata": {},
   "outputs": [],
   "source": [
    "def test_prediction(url, inference_input ):\n",
    "    import requests\n",
    "    import numpy as np\n",
    "    t = np.array([number_five, number_five])\n",
    "    t = t.reshape(-1,28,28,1)\n",
    "\n",
    "    inference_input = {\n",
    "      'instances': t.tolist()\n",
    "    }\n",
    "\n",
    "    x = requests.post(url, json = inference_input)\n",
    "    predictions=x.json()[\"predictions\"]\n",
    "    decoded_predictions=[np.argmax(i) for i in predictions]\n",
    "    print(decoded_predictions)"
   ]
  },
  {
   "cell_type": "markdown",
   "id": "10dc3460-c2f7-4ccd-ade2-911684571633",
   "metadata": {},
   "source": [
    "# Test prediction service from inside of the cluster"
   ]
  },
  {
   "cell_type": "code",
   "execution_count": 9,
   "id": "d554629e-1fd4-46d6-b484-bec436b9a71b",
   "metadata": {},
   "outputs": [
    {
     "name": "stdout",
     "output_type": "stream",
     "text": [
      "[8, 8]\n"
     ]
    }
   ],
   "source": [
    "t = np.array([number_five, number_five])\n",
    "t = t.reshape(-1,28,28,1)\n",
    "\n",
    "inference_input = {\n",
    "  'instances': t.tolist()\n",
    "}\n",
    "\n",
    "url = \"http://tf-model-service.kubeflow.svc.cluster.local/v1/models/detect-digits:predict\"\n",
    "test_prediction(url,inference_input)\n"
   ]
  },
  {
   "cell_type": "markdown",
   "id": "15e96269-e73f-4d47-85cd-34f41632545b",
   "metadata": {},
   "source": [
    "# Test prediction service from the internet"
   ]
  },
  {
   "cell_type": "code",
   "execution_count": 10,
   "id": "9c2f7c6e-9c4d-46b5-ba14-1a0fd49a1e3a",
   "metadata": {},
   "outputs": [
    {
     "name": "stdout",
     "output_type": "stream",
     "text": [
      "[8, 8]\n"
     ]
    }
   ],
   "source": [
    "\n",
    "url = \"http://app.v1005r7c-bfef-4f0b-8028-99d5fdcf47de.hosted.meddash.cloud/v1/models/detect-digits:predict\"\n",
    "test_prediction(url,inference_input)\n",
    "\n"
   ]
  }
 ],
 "metadata": {
  "kernelspec": {
   "display_name": "Python 3 (ipykernel)",
   "language": "python",
   "name": "python3"
  },
  "language_info": {
   "codemirror_mode": {
    "name": "ipython",
    "version": 3
   },
   "file_extension": ".py",
   "mimetype": "text/x-python",
   "name": "python",
   "nbconvert_exporter": "python",
   "pygments_lexer": "ipython3",
   "version": "3.8.10"
  }
 },
 "nbformat": 4,
 "nbformat_minor": 5
}
