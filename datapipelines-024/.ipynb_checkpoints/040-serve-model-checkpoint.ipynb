{
 "cells": [
  {
   "cell_type": "code",
   "execution_count": 1,
   "id": "d5893318-0443-46e5-9faa-0c8baac7b948",
   "metadata": {},
   "outputs": [
    {
     "data": {
      "text/html": [
       "<a href=\"http://10.152.183.66:8888/#/experiments/details/e40df800-a1c6-48a7-9302-aea840cc7f58\" target=\"_blank\" >Experiment details</a>."
      ],
      "text/plain": [
       "<IPython.core.display.HTML object>"
      ]
     },
     "metadata": {},
     "output_type": "display_data"
    },
    {
     "data": {
      "text/html": [
       "<a href=\"http://10.152.183.66:8888/#/runs/details/c2bf9a0c-eb80-4053-8492-abcf282b301b\" target=\"_blank\" >Run details</a>."
      ],
      "text/plain": [
       "<IPython.core.display.HTML object>"
      ]
     },
     "metadata": {},
     "output_type": "display_data"
    },
    {
     "name": "stdout",
     "output_type": "stream",
     "text": [
      "pipeline.run_id: c2bf9a0c-eb80-4053-8492-abcf282b301b\n"
     ]
    }
   ],
   "source": [
    "%run 030-pipeline-builder.ipynb"
   ]
  },
  {
   "cell_type": "code",
   "execution_count": 2,
   "id": "13ece2f1-213d-4e15-b0a5-92fd5f6650c1",
   "metadata": {},
   "outputs": [
    {
     "data": {
      "text/html": [
       "\n",
       "        <iframe\n",
       "            width=\"1200\"\n",
       "            height=\"600\"\n",
       "            src=\"http://kf-ml-pipeline-ui.v1005r7c-bfef-4f0b-8028-99d5fdcf47de.hosted.meddash.cloud/#/runs/details/c2bf9a0c-eb80-4053-8492-abcf282b301b\"\n",
       "            frameborder=\"0\"\n",
       "            allowfullscreen\n",
       "            \n",
       "        ></iframe>\n",
       "        "
      ],
      "text/plain": [
       "<IPython.lib.display.IFrame at 0x7f269441e760>"
      ]
     },
     "execution_count": 2,
     "metadata": {},
     "output_type": "execute_result"
    }
   ],
   "source": [
    "import os\n",
    "from IPython.display import IFrame\n",
    "cluster_id= os.environ[\"MEDDASH_CLUSTER_ID\"]\n",
    "run_id=\"c2bf9a0c-eb80-4053-8492-abcf282b301b\"\n",
    "\n",
    "pipeline_vis_endpoint=\"http://kf-ml-pipeline-ui.{}.hosted.meddash.cloud/#/runs/details/{}\".format(cluster_id,run_id)\n",
    "IFrame(pipeline_vis_endpoint, width=1200, height=600)"
   ]
  },
  {
   "cell_type": "code",
   "execution_count": 6,
   "id": "a56809a1-510a-4bb6-b92f-aa1455a86402",
   "metadata": {},
   "outputs": [
    {
     "name": "stdout",
     "output_type": "stream",
     "text": [
      "detect-digits\n"
     ]
    }
   ],
   "source": [
    "!ls tf_saved_model"
   ]
  },
  {
   "cell_type": "code",
   "execution_count": 18,
   "id": "fe6ec51c-7a0a-4366-b41d-3d7effd4029f",
   "metadata": {},
   "outputs": [],
   "source": [
    "\n",
    "from minio import Minio\n",
    "import os\n",
    "import glob\n",
    "import tempfile\n",
    "import os\n",
    "from minio import Minio\n",
    "import numpy as np\n",
    "import uuid\n",
    "import glob\n",
    "\n",
    "\n",
    "BUCKET_NAME=\"datapipeline-024\"\n",
    "\n",
    "def get_minio_url():\n",
    "    minio_host, minio_port = os.environ[\"MINIO_SERVICE_SERVICE_HOST\"], os.environ[\"MINIO_SERVICE_SERVICE_PORT_HTTP\"]\n",
    "    minio_url= \"{}:{}\".format(minio_host, minio_port)\n",
    "    return minio_url\n",
    "\n",
    "\n",
    "minio_url = get_minio_url()\n",
    "config = {\n",
    "    \"endpoint\": minio_url,\n",
    "    \"access_key\": \"minio\",\n",
    "    \"secret_key\": \"minio123\",\n",
    "    \"secure\": False,\n",
    "    }\n",
    "\n",
    "\n",
    "\n",
    "def upload_local_directory_to_minio(minio_client, local_path, bucket_name, minio_path):\n",
    "    assert os.path.isdir(local_path)\n",
    "\n",
    "    for local_file in glob.glob(local_path + '/**'):\n",
    "        local_file = local_file.replace(os.sep, \"/\") # Replace \\ with / on Windows\n",
    "        if not os.path.isfile(local_file):\n",
    "            upload_local_directory_to_minio(\n",
    "                minio_client, local_file, bucket_name, minio_path + \"/\" + os.path.basename(local_file))\n",
    "        else:\n",
    "            remote_path = os.path.join(\n",
    "                minio_path, local_file[1 + len(local_path):])\n",
    "            remote_path = remote_path.replace(\n",
    "                os.sep, \"/\")  # Replace \\ with / on Windows\n",
    "            minio_client.fput_object(bucket_name, remote_path, local_file)"
   ]
  },
  {
   "cell_type": "code",
   "execution_count": 15,
   "id": "ab105a27-eb71-49f7-97cd-57ea3a85dfcf",
   "metadata": {},
   "outputs": [
    {
     "name": "stdout",
     "output_type": "stream",
     "text": [
      "detect-digits\n"
     ]
    }
   ],
   "source": [
    "!ls tf_saved_model"
   ]
  },
  {
   "cell_type": "code",
   "execution_count": 20,
   "id": "17ac2773-ccb6-495e-b5e7-2d03620b5e06",
   "metadata": {},
   "outputs": [
    {
     "ename": "TypeError",
     "evalue": "upload_local_directory_to_minio() missing 1 required positional argument: 'minio_path'",
     "output_type": "error",
     "traceback": [
      "\u001b[0;31m---------------------------------------------------------------------------\u001b[0m",
      "\u001b[0;31mTypeError\u001b[0m                                 Traceback (most recent call last)",
      "Cell \u001b[0;32mIn[20], line 3\u001b[0m\n\u001b[1;32m      1\u001b[0m minio_client \u001b[38;5;241m=\u001b[39m Minio(\u001b[38;5;241m*\u001b[39m\u001b[38;5;241m*\u001b[39mconfig)\n\u001b[1;32m      2\u001b[0m local_path, bucket_name, minio_path \u001b[38;5;241m=\u001b[39m \u001b[38;5;124m\"\u001b[39m\u001b[38;5;124mtf_saved_model/detect-digits\u001b[39m\u001b[38;5;124m\"\u001b[39m, BUCKET_NAME, \u001b[38;5;124m\"\u001b[39m\u001b[38;5;124mmodels/trained/detect-digits\u001b[39m\u001b[38;5;124m\"\u001b[39m\n\u001b[0;32m----> 3\u001b[0m \u001b[43mupload_local_directory_to_minio\u001b[49m\u001b[43m(\u001b[49m\u001b[43mminio_client\u001b[49m\u001b[43m,\u001b[49m\u001b[43m \u001b[49m\u001b[43mlocal_path\u001b[49m\u001b[43m,\u001b[49m\u001b[43m \u001b[49m\u001b[43mbucket_name\u001b[49m\u001b[43m,\u001b[49m\u001b[43m \u001b[49m\u001b[43mminio_path\u001b[49m\u001b[43m)\u001b[49m\n",
      "Cell \u001b[0;32mIn[18], line 36\u001b[0m, in \u001b[0;36mupload_local_directory_to_minio\u001b[0;34m(minio_client, local_path, bucket_name, minio_path)\u001b[0m\n\u001b[1;32m     34\u001b[0m local_file \u001b[38;5;241m=\u001b[39m local_file\u001b[38;5;241m.\u001b[39mreplace(os\u001b[38;5;241m.\u001b[39msep, \u001b[38;5;124m\"\u001b[39m\u001b[38;5;124m/\u001b[39m\u001b[38;5;124m\"\u001b[39m) \u001b[38;5;66;03m# Replace \\ with / on Windows\u001b[39;00m\n\u001b[1;32m     35\u001b[0m \u001b[38;5;28;01mif\u001b[39;00m \u001b[38;5;129;01mnot\u001b[39;00m os\u001b[38;5;241m.\u001b[39mpath\u001b[38;5;241m.\u001b[39misfile(local_file):\n\u001b[0;32m---> 36\u001b[0m     \u001b[43mupload_local_directory_to_minio\u001b[49m\u001b[43m(\u001b[49m\n\u001b[1;32m     37\u001b[0m \u001b[43m        \u001b[49m\u001b[43mlocal_file\u001b[49m\u001b[43m,\u001b[49m\u001b[43m \u001b[49m\u001b[43mbucket_name\u001b[49m\u001b[43m,\u001b[49m\u001b[43m \u001b[49m\u001b[43mminio_path\u001b[49m\u001b[43m \u001b[49m\u001b[38;5;241;43m+\u001b[39;49m\u001b[43m \u001b[49m\u001b[38;5;124;43m\"\u001b[39;49m\u001b[38;5;124;43m/\u001b[39;49m\u001b[38;5;124;43m\"\u001b[39;49m\u001b[43m \u001b[49m\u001b[38;5;241;43m+\u001b[39;49m\u001b[43m \u001b[49m\u001b[43mos\u001b[49m\u001b[38;5;241;43m.\u001b[39;49m\u001b[43mpath\u001b[49m\u001b[38;5;241;43m.\u001b[39;49m\u001b[43mbasename\u001b[49m\u001b[43m(\u001b[49m\u001b[43mlocal_file\u001b[49m\u001b[43m)\u001b[49m\u001b[43m)\u001b[49m\n\u001b[1;32m     38\u001b[0m \u001b[38;5;28;01melse\u001b[39;00m:\n\u001b[1;32m     39\u001b[0m     remote_path \u001b[38;5;241m=\u001b[39m os\u001b[38;5;241m.\u001b[39mpath\u001b[38;5;241m.\u001b[39mjoin(\n\u001b[1;32m     40\u001b[0m         minio_path, local_file[\u001b[38;5;241m1\u001b[39m \u001b[38;5;241m+\u001b[39m \u001b[38;5;28mlen\u001b[39m(local_path):])\n",
      "\u001b[0;31mTypeError\u001b[0m: upload_local_directory_to_minio() missing 1 required positional argument: 'minio_path'"
     ]
    }
   ],
   "source": [
    "minio_client = Minio(**config)\n",
    "local_path, bucket_name, minio_path = \"tf_saved_model/detect-digits\", BUCKET_NAME, \"models/trained/detect-digits\"\n",
    "upload_local_directory_to_minio(minio_client, local_path, bucket_name, minio_path)\n"
   ]
  }
 ],
 "metadata": {
  "kernelspec": {
   "display_name": "Python 3 (ipykernel)",
   "language": "python",
   "name": "python3"
  },
  "language_info": {
   "codemirror_mode": {
    "name": "ipython",
    "version": 3
   },
   "file_extension": ".py",
   "mimetype": "text/x-python",
   "name": "python",
   "nbconvert_exporter": "python",
   "pygments_lexer": "ipython3",
   "version": "3.8.10"
  }
 },
 "nbformat": 4,
 "nbformat_minor": 5
}
