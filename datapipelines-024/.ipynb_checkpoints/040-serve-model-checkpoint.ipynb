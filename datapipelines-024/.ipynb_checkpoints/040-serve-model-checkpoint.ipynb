{
 "cells": [
  {
   "cell_type": "code",
   "execution_count": 1,
   "id": "ceb104d1-6770-4b04-8847-e92aaa710fbe",
   "metadata": {},
   "outputs": [],
   "source": [
    "import json\n",
    "\n",
    "# json_object = json.dumps(five)\n",
    " \n",
    "number_five=None\n",
    "# Writing to sample.json\n",
    "with open(\"five.json\", \"r\") as f:\n",
    "    five_content=f.read()\n",
    "    number_five=json.loads(five_content)\n"
   ]
  },
  {
   "cell_type": "code",
   "execution_count": 2,
   "id": "8492d9ab-5395-48f7-96ea-9a7c6488b8b6",
   "metadata": {},
   "outputs": [],
   "source": [
    "import requests\n",
    "import numpy as np\n",
    "    \n",
    "def test_prediction(url, inference_input ):\n",
    "    t = np.array([number_five, number_five])\n",
    "    t = t.reshape(-1,28,28,1)\n",
    "\n",
    "    inference_input = {\n",
    "      'instances': t.tolist()\n",
    "    }\n",
    "\n",
    "    x = requests.post(url, json = inference_input)\n",
    "    predictions=x.json()[\"predictions\"]\n",
    "    decoded_predictions=[np.argmax(i) for i in predictions]\n",
    "    print(decoded_predictions)"
   ]
  },
  {
   "cell_type": "markdown",
   "id": "10dc3460-c2f7-4ccd-ade2-911684571633",
   "metadata": {},
   "source": [
    "# Test prediction service from inside of the cluster"
   ]
  },
  {
   "cell_type": "code",
   "execution_count": 3,
   "id": "d554629e-1fd4-46d6-b484-bec436b9a71b",
   "metadata": {},
   "outputs": [
    {
     "name": "stdout",
     "output_type": "stream",
     "text": [
      "[8, 8]\n"
     ]
    }
   ],
   "source": [
    "t = np.array([number_five, number_five])\n",
    "t = t.reshape(-1,28,28,1)\n",
    "\n",
    "inference_input = {\n",
    "  'instances': t.tolist()\n",
    "}\n",
    "\n",
    "url = \"http://tf-model-service.kubeflow.svc.cluster.local/v1/models/detect-digits:predict\"\n",
    "test_prediction(url,inference_input)\n"
   ]
  },
  {
   "cell_type": "markdown",
   "id": "15e96269-e73f-4d47-85cd-34f41632545b",
   "metadata": {},
   "source": [
    "# Test prediction service from the internet"
   ]
  },
  {
   "cell_type": "code",
   "execution_count": 4,
   "id": "9c2f7c6e-9c4d-46b5-ba14-1a0fd49a1e3a",
   "metadata": {},
   "outputs": [
    {
     "name": "stdout",
     "output_type": "stream",
     "text": [
      "[8, 8]\n"
     ]
    }
   ],
   "source": [
    "\n",
    "url = \"http://app.v1005r7c-bfef-4f0b-8028-99d5fdcf47de.hosted.meddash.cloud/v1/models/detect-digits:predict\"\n",
    "test_prediction(url,inference_input)\n",
    "\n"
   ]
  }
 ],
 "metadata": {
  "kernelspec": {
   "display_name": "Python 3 (ipykernel)",
   "language": "python",
   "name": "python3"
  },
  "language_info": {
   "codemirror_mode": {
    "name": "ipython",
    "version": 3
   },
   "file_extension": ".py",
   "mimetype": "text/x-python",
   "name": "python",
   "nbconvert_exporter": "python",
   "pygments_lexer": "ipython3",
   "version": "3.8.10"
  }
 },
 "nbformat": 4,
 "nbformat_minor": 5
}
