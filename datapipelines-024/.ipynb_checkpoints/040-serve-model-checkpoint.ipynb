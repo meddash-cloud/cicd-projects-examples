{
 "cells": [
  {
   "cell_type": "code",
   "execution_count": 1,
   "id": "d5893318-0443-46e5-9faa-0c8baac7b948",
   "metadata": {},
   "outputs": [
    {
     "data": {
      "text/html": [
       "<a href=\"http://10.152.183.66:8888/#/experiments/details/e40df800-a1c6-48a7-9302-aea840cc7f58\" target=\"_blank\" >Experiment details</a>."
      ],
      "text/plain": [
       "<IPython.core.display.HTML object>"
      ]
     },
     "metadata": {},
     "output_type": "display_data"
    },
    {
     "data": {
      "text/html": [
       "<a href=\"http://10.152.183.66:8888/#/runs/details/c2bf9a0c-eb80-4053-8492-abcf282b301b\" target=\"_blank\" >Run details</a>."
      ],
      "text/plain": [
       "<IPython.core.display.HTML object>"
      ]
     },
     "metadata": {},
     "output_type": "display_data"
    },
    {
     "name": "stdout",
     "output_type": "stream",
     "text": [
      "pipeline.run_id: c2bf9a0c-eb80-4053-8492-abcf282b301b\n"
     ]
    }
   ],
   "source": [
    "%run 030-pipeline-builder.ipynb"
   ]
  },
  {
   "cell_type": "code",
   "execution_count": 2,
   "id": "13ece2f1-213d-4e15-b0a5-92fd5f6650c1",
   "metadata": {},
   "outputs": [
    {
     "data": {
      "text/html": [
       "\n",
       "        <iframe\n",
       "            width=\"1200\"\n",
       "            height=\"600\"\n",
       "            src=\"http://kf-ml-pipeline-ui.v1005r7c-bfef-4f0b-8028-99d5fdcf47de.hosted.meddash.cloud/#/runs/details/c2bf9a0c-eb80-4053-8492-abcf282b301b\"\n",
       "            frameborder=\"0\"\n",
       "            allowfullscreen\n",
       "            \n",
       "        ></iframe>\n",
       "        "
      ],
      "text/plain": [
       "<IPython.lib.display.IFrame at 0x7f269441e760>"
      ]
     },
     "execution_count": 2,
     "metadata": {},
     "output_type": "execute_result"
    }
   ],
   "source": [
    "import os\n",
    "from IPython.display import IFrame\n",
    "cluster_id= os.environ[\"MEDDASH_CLUSTER_ID\"]\n",
    "run_id=\"c2bf9a0c-eb80-4053-8492-abcf282b301b\"\n",
    "\n",
    "pipeline_vis_endpoint=\"http://kf-ml-pipeline-ui.{}.hosted.meddash.cloud/#/runs/details/{}\".format(cluster_id,run_id)\n",
    "IFrame(pipeline_vis_endpoint, width=1200, height=600)"
   ]
  },
  {
   "cell_type": "code",
   "execution_count": 6,
   "id": "a56809a1-510a-4bb6-b92f-aa1455a86402",
   "metadata": {},
   "outputs": [
    {
     "name": "stdout",
     "output_type": "stream",
     "text": [
      "detect-digits\n"
     ]
    }
   ],
   "source": [
    "!ls tf_saved_model"
   ]
  },
  {
   "cell_type": "code",
   "execution_count": 21,
   "id": "fe6ec51c-7a0a-4366-b41d-3d7effd4029f",
   "metadata": {},
   "outputs": [],
   "source": [
    "\n",
    "from minio import Minio\n",
    "import os\n",
    "import glob\n",
    "import tempfile\n",
    "import os\n",
    "from minio import Minio\n",
    "import numpy as np\n",
    "import uuid\n",
    "import glob\n",
    "\n",
    "\n",
    "BUCKET_NAME=\"datapipeline-024\"\n",
    "\n",
    "def get_minio_url():\n",
    "    minio_host, minio_port = os.environ[\"MINIO_SERVICE_SERVICE_HOST\"], os.environ[\"MINIO_SERVICE_SERVICE_PORT_HTTP\"]\n",
    "    minio_url= \"{}:{}\".format(minio_host, minio_port)\n",
    "    return minio_url\n",
    "\n",
    "\n",
    "minio_url = get_minio_url()\n",
    "config = {\n",
    "    \"endpoint\": minio_url,\n",
    "    \"access_key\": \"minio\",\n",
    "    \"secret_key\": \"minio123\",\n",
    "    \"secure\": False,\n",
    "    }\n",
    "\n",
    "\n",
    "\n",
    "def upload_local_directory_to_minio(minio_client, local_path, bucket_name, minio_path):\n",
    "    assert os.path.isdir(local_path)\n",
    "\n",
    "    for local_file in glob.glob(local_path + '/**'):\n",
    "        local_file = local_file.replace(os.sep, \"/\") # Replace \\ with / on Windows\n",
    "        if not os.path.isfile(local_file):\n",
    "            upload_local_directory_to_minio(\n",
    "                minio_client, local_file, bucket_name, minio_path + \"/\" + os.path.basename(local_file))\n",
    "        else:\n",
    "            remote_path = os.path.join(\n",
    "                minio_path, local_file[1 + len(local_path):])\n",
    "            remote_path = remote_path.replace(\n",
    "                os.sep, \"/\")  # Replace \\ with / on Windows\n",
    "            minio_client.fput_object(bucket_name, remote_path, local_file)"
   ]
  },
  {
   "cell_type": "code",
   "execution_count": 15,
   "id": "ab105a27-eb71-49f7-97cd-57ea3a85dfcf",
   "metadata": {},
   "outputs": [
    {
     "name": "stdout",
     "output_type": "stream",
     "text": [
      "detect-digits\n"
     ]
    }
   ],
   "source": [
    "!ls tf_saved_model"
   ]
  },
  {
   "cell_type": "code",
   "execution_count": 23,
   "id": "17ac2773-ccb6-495e-b5e7-2d03620b5e06",
   "metadata": {},
   "outputs": [],
   "source": [
    "minio_client = Minio(**config)\n",
    "local_path, bucket_name, minio_path = \"tf_saved_model/detect-digits\", BUCKET_NAME, \"models/trained/detect-digits/1\"\n",
    "upload_local_directory_to_minio(minio_client, local_path, bucket_name, minio_path)\n"
   ]
  },
  {
   "cell_type": "code",
   "execution_count": 33,
   "id": "ceb104d1-6770-4b04-8847-e92aaa710fbe",
   "metadata": {},
   "outputs": [
    {
     "name": "stdout",
     "output_type": "stream",
     "text": [
      "[[[[0, 0, 0, 0, 0, 0, 0, 0, 0, 0, 0, 0, 0, 0, 0, 0, 0, 0, 0, 0, 0, 0, 0, 0, 0, 0, 0, 0], [0, 0, 0, 0, 0, 0, 0, 0, 0, 0, 0, 0, 0, 0, 0, 0, 0, 0, 0, 0, 0, 0, 0, 0, 0, 0, 0, 0], [0, 0, 0, 0, 0, 0, 0, 0, 0, 0, 0, 0, 0, 0, 0, 0, 0, 0, 0, 0, 0, 0, 0, 0, 0, 0, 0, 0], [0, 0, 0, 0, 0, 0, 0, 0, 0, 0, 0, 0, 0, 0, 0, 0, 0, 0, 0, 0, 0, 0, 0, 0, 0, 0, 0, 0], [0, 0, 0, 0, 0, 0, 0, 0, 0, 0, 0, 0, 0, 0, 0, 0, 0, 0, 0, 0, 0, 0, 0, 0, 0, 0, 0, 0], [0, 0, 0, 0, 0, 0, 0, 0, 0, 0, 0, 0, 3, 18, 18, 18, 126, 136, 175, 26, 166, 255, 247, 127, 0, 0, 0, 0], [0, 0, 0, 0, 0, 0, 0, 0, 30, 36, 94, 154, 170, 253, 253, 253, 253, 253, 225, 172, 253, 242, 195, 64, 0, 0, 0, 0], [0, 0, 0, 0, 0, 0, 0, 49, 238, 253, 253, 253, 253, 253, 253, 253, 253, 251, 93, 82, 82, 56, 39, 0, 0, 0, 0, 0], [0, 0, 0, 0, 0, 0, 0, 18, 219, 253, 253, 253, 253, 253, 198, 182, 247, 241, 0, 0, 0, 0, 0, 0, 0, 0, 0, 0], [0, 0, 0, 0, 0, 0, 0, 0, 80, 156, 107, 253, 253, 205, 11, 0, 43, 154, 0, 0, 0, 0, 0, 0, 0, 0, 0, 0], [0, 0, 0, 0, 0, 0, 0, 0, 0, 14, 1, 154, 253, 90, 0, 0, 0, 0, 0, 0, 0, 0, 0, 0, 0, 0, 0, 0], [0, 0, 0, 0, 0, 0, 0, 0, 0, 0, 0, 139, 253, 190, 2, 0, 0, 0, 0, 0, 0, 0, 0, 0, 0, 0, 0, 0], [0, 0, 0, 0, 0, 0, 0, 0, 0, 0, 0, 11, 190, 253, 70, 0, 0, 0, 0, 0, 0, 0, 0, 0, 0, 0, 0, 0], [0, 0, 0, 0, 0, 0, 0, 0, 0, 0, 0, 0, 35, 241, 225, 160, 108, 1, 0, 0, 0, 0, 0, 0, 0, 0, 0, 0], [0, 0, 0, 0, 0, 0, 0, 0, 0, 0, 0, 0, 0, 81, 240, 253, 253, 119, 25, 0, 0, 0, 0, 0, 0, 0, 0, 0], [0, 0, 0, 0, 0, 0, 0, 0, 0, 0, 0, 0, 0, 0, 45, 186, 253, 253, 150, 27, 0, 0, 0, 0, 0, 0, 0, 0], [0, 0, 0, 0, 0, 0, 0, 0, 0, 0, 0, 0, 0, 0, 0, 16, 93, 252, 253, 187, 0, 0, 0, 0, 0, 0, 0, 0], [0, 0, 0, 0, 0, 0, 0, 0, 0, 0, 0, 0, 0, 0, 0, 0, 0, 249, 253, 249, 64, 0, 0, 0, 0, 0, 0, 0], [0, 0, 0, 0, 0, 0, 0, 0, 0, 0, 0, 0, 0, 0, 46, 130, 183, 253, 253, 207, 2, 0, 0, 0, 0, 0, 0, 0], [0, 0, 0, 0, 0, 0, 0, 0, 0, 0, 0, 0, 39, 148, 229, 253, 253, 253, 250, 182, 0, 0, 0, 0, 0, 0, 0, 0], [0, 0, 0, 0, 0, 0, 0, 0, 0, 0, 24, 114, 221, 253, 253, 253, 253, 201, 78, 0, 0, 0, 0, 0, 0, 0, 0, 0], [0, 0, 0, 0, 0, 0, 0, 0, 23, 66, 213, 253, 253, 253, 253, 198, 81, 2, 0, 0, 0, 0, 0, 0, 0, 0, 0, 0], [0, 0, 0, 0, 0, 0, 18, 171, 219, 253, 253, 253, 253, 195, 80, 9, 0, 0, 0, 0, 0, 0, 0, 0, 0, 0, 0, 0], [0, 0, 0, 0, 55, 172, 226, 253, 253, 253, 253, 244, 133, 11, 0, 0, 0, 0, 0, 0, 0, 0, 0, 0, 0, 0, 0, 0], [0, 0, 0, 0, 136, 253, 253, 253, 212, 135, 132, 16, 0, 0, 0, 0, 0, 0, 0, 0, 0, 0, 0, 0, 0, 0, 0, 0], [0, 0, 0, 0, 0, 0, 0, 0, 0, 0, 0, 0, 0, 0, 0, 0, 0, 0, 0, 0, 0, 0, 0, 0, 0, 0, 0, 0], [0, 0, 0, 0, 0, 0, 0, 0, 0, 0, 0, 0, 0, 0, 0, 0, 0, 0, 0, 0, 0, 0, 0, 0, 0, 0, 0, 0], [0, 0, 0, 0, 0, 0, 0, 0, 0, 0, 0, 0, 0, 0, 0, 0, 0, 0, 0, 0, 0, 0, 0, 0, 0, 0, 0, 0]]]]\n"
     ]
    }
   ],
   "source": [
    "import json\n",
    "\n",
    "json_object = json.dumps(five)\n",
    " \n",
    "number_five=None\n",
    "# Writing to sample.json\n",
    "with open(\"five.json\", \"r\") as f:\n",
    "    five_content=f.read()\n",
    "    number_five=json.loads(five_content)\n",
    "print(number_five)"
   ]
  },
  {
   "cell_type": "code",
   "execution_count": 57,
   "id": "d554629e-1fd4-46d6-b484-bec436b9a71b",
   "metadata": {},
   "outputs": [
    {
     "name": "stdout",
     "output_type": "stream",
     "text": [
      "[5, 5]\n"
     ]
    }
   ],
   "source": [
    "import requests\n",
    "import numpy as np\n",
    "url = \"http://digits-recognizer-predictor-default.kubeflow.svc.cluster.local/v1/models/digits-recognizer:predict\"\n",
    "myobj = {'somekey': 'somevalue'}\n",
    "\n",
    "t = np.array([number_five, number_five])\n",
    "t = t.reshape(-1,28,28,1)\n",
    "\n",
    "inference_input = {\n",
    "  'instances': t.tolist()\n",
    "}\n",
    "\n",
    "x = requests.post(url, json = inference_input)\n",
    "predictions=x.json()[\"predictions\"]\n",
    "decoded_predictions=[np.argmax(i) for i in predictions]\n",
    "print(decoded_predictions)"
   ]
  },
  {
   "cell_type": "code",
   "execution_count": 58,
   "id": "0baa01ac-4679-44ae-ab70-30ccc30a6b1d",
   "metadata": {},
   "outputs": [
    {
     "name": "stdout",
     "output_type": "stream",
     "text": [
      "[5]\n"
     ]
    }
   ],
   "source": [
    "import requests\n",
    "import numpy as np\n",
    "url = \"http://digits-recognizer-predictor-default.kubeflow.svc.cluster.local/v1/models/digits-recognizer:predict\"\n",
    "myobj = {'somekey': 'somevalue'}\n",
    "\n",
    "t = np.array(number_five)\n",
    "t = t.reshape(-1,28,28,1)\n",
    "\n",
    "inference_input = {\n",
    "  'instances': t.tolist()\n",
    "}\n",
    "\n",
    "x = requests.post(url, json = inference_input)\n",
    "predictions=x.json()[\"predictions\"]\n",
    "decoded_predictions=[np.argmax(i) for i in predictions]\n",
    "print(decoded_predictions)"
   ]
  }
 ],
 "metadata": {
  "kernelspec": {
   "display_name": "Python 3 (ipykernel)",
   "language": "python",
   "name": "python3"
  },
  "language_info": {
   "codemirror_mode": {
    "name": "ipython",
    "version": 3
   },
   "file_extension": ".py",
   "mimetype": "text/x-python",
   "name": "python",
   "nbconvert_exporter": "python",
   "pygments_lexer": "ipython3",
   "version": "3.8.10"
  }
 },
 "nbformat": 4,
 "nbformat_minor": 5
}
