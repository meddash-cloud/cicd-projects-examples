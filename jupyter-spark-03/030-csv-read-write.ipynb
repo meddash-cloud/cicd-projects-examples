{
 "cells": [
  {
   "cell_type": "code",
   "execution_count": 1,
   "id": "9255c3fd-b0e4-4b2a-920d-0ad8a98ae6ba",
   "metadata": {},
   "outputs": [],
   "source": [
    "import numpy as np\n",
    "import pandas as pd\n",
    "#generate 4-columns data\n",
    "data = np.random.rand(1000,5)\n",
    "\n",
    "df = pd.DataFrame(data)\n",
    "df.to_csv(\"random_data.csv\")"
   ]
  },
  {
   "cell_type": "code",
   "execution_count": 6,
   "id": "52f93717-be7e-46f3-a321-6dec0e970f23",
   "metadata": {},
   "outputs": [
    {
     "data": {
      "text/plain": [
       "'/home/jovyan/git-volume/src/jupyter-spark-01'"
      ]
     },
     "execution_count": 6,
     "metadata": {},
     "output_type": "execute_result"
    }
   ],
   "source": [
    "import os\n",
    "os.getcwd()"
   ]
  },
  {
   "cell_type": "code",
   "execution_count": 18,
   "id": "f635401f-25d9-4563-b39e-3a2226c75703",
   "metadata": {},
   "outputs": [
    {
     "name": "stdout",
     "output_type": "stream",
     "text": [
      "+----+-------------------+--------------------+--------------------+--------------------+--------------------+\n",
      "| _c0|                _c1|                 _c2|                 _c3|                 _c4|                 _c5|\n",
      "+----+-------------------+--------------------+--------------------+--------------------+--------------------+\n",
      "|null|                  0|                   1|                   2|                   3|                   4|\n",
      "|   0| 0.8286195017382711| 0.36718482396400975|  0.5968178705252924|  0.7121252441380334| 0.13356653083829662|\n",
      "|   1|0.11222412442395013|   0.531045251079936|  0.9068341011460046|  0.3159912978165912|  0.3419586521273452|\n",
      "|   2| 0.9258858899126116|   0.604527642177079|  0.7252652848265462|  0.8947768056679308|  0.7046314283027898|\n",
      "|   3| 0.4669791837264027|  0.6698241042353684| 0.32125190378566293|   0.771666567343342|  0.9464718483556313|\n",
      "|   4|  0.891932606278877|  0.6933449681696466| 0.10924180061867395|  0.6252331086367265|0.020384153797228466|\n",
      "|   5|0.10198931837663838|  0.0513930064950483|  0.2514185025926501|  0.7926601421128819| 0.30984443763786784|\n",
      "|   6|0.06319279289351654|  0.9876067234938539| 0.07011019589409373|  0.7529873996374897|  0.5753611995490272|\n",
      "|   7| 0.2649665428595762|  0.3501198515521713|  0.7797744980374175|  0.6369005137338775|  0.5960123081309839|\n",
      "|   8| 0.6781119886225216|  0.4431823317763435|  0.6226813789077981|  0.6184648472071331|  0.3759245191871817|\n",
      "|   9| 0.1383252653366397|  0.4396985324511814|  0.6806352429896164|  0.2438047333725527| 0.23507943207868787|\n",
      "|  10| 0.2914778766687579|0.006094055193793135|  0.6094652806568459|  0.7095941797324391|    0.73702871821707|\n",
      "|  11|0.21111945043546043|  0.6108084742159751|0.022307841319265553|  0.6844442187700194| 0.13104116807594068|\n",
      "|  12| 0.9977203333919047|  0.7223197411438488|  0.8784313934706419|  0.7953262200399381|  0.6628126731749138|\n",
      "|  13| 0.3628775362464587| 0.06334237130651266|  0.7747966887758329|  0.8832921111310268| 0.38253134930257915|\n",
      "|  14| 0.8801620033664301|  0.6224480647291184|  0.9830383496664367|  0.6520236710259458|0.049173419514081496|\n",
      "|  15| 0.9150271947717233| 0.46047051130186656| 0.24547048059986953| 0.37173856709483977|  0.8563344585675742|\n",
      "|  16| 0.4338184920606708|  0.5333192627773761|  0.9574631410571454| 0.30454836889465253|0.011907277322394938|\n",
      "|  17| 0.8077123293456069|  0.8689193602955191|  0.4359422967880906| 0.22561494174757724|  0.0683539656962796|\n",
      "|  18|0.35531220957694487| 0.28344241771568957|    0.14895113706231|0.014089746976504336|  0.7730912254934761|\n",
      "+----+-------------------+--------------------+--------------------+--------------------+--------------------+\n",
      "only showing top 20 rows\n",
      "\n"
     ]
    }
   ],
   "source": [
    "from pyspark.sql import SparkSession\n",
    "from pyspark.sql.functions import *\n",
    "from pyspark.sql.types import *\n",
    "from datetime import datetime\n",
    "from pyspark.sql import Window, functions as F\n",
    "\n",
    "csv_file_name=\"random_data.csv\"\n",
    "csv_file_path='{}/{}'.format(os.getcwd(), csv_file_name)\n",
    "spark = SparkSession.builder.appName(\"MinioTest\").getOrCreate()\n",
    "sc = spark.sparkContext\n",
    "df = spark.read.csv(csv_file_path,header=False)\n",
    "\n",
    "df.show()\n"
   ]
  },
  {
   "cell_type": "code",
   "execution_count": 19,
   "id": "ae654804-22af-456d-b224-c97b8257bdae",
   "metadata": {},
   "outputs": [
    {
     "name": "stdout",
     "output_type": "stream",
     "text": [
      "/home/jovyan/git-volume/src/jupyter-spark-01/random_data.csv.new.csv\n"
     ]
    }
   ],
   "source": [
    "new_csv_file_path = '{}.new.csv'.format(csv_file_path)\n",
    "print(new_csv_file_path)\n",
    "df.write.format('csv').options(delimiter=',').mode('overwrite').save(new_csv_file_path)\n"
   ]
  },
  {
   "cell_type": "code",
   "execution_count": 20,
   "id": "a0c5409b-b592-4f64-a84c-98286cc16cc5",
   "metadata": {},
   "outputs": [
    {
     "name": "stdout",
     "output_type": "stream",
     "text": [
      "total 116\n",
      "drwxr-xr-x 2 jovyan users   4096 Aug 25 15:58 .\n",
      "drwxrwxrwx 7 root   root    4096 Aug 25 15:58 ..\n",
      "-rw-r--r-- 1 jovyan users 100266 Aug 25 15:58 part-00000-63d4ad6c-459e-4f45-8361-86e78ff7fdde-c000.csv\n",
      "-rw-r--r-- 1 jovyan users    792 Aug 25 15:58 .part-00000-63d4ad6c-459e-4f45-8361-86e78ff7fdde-c000.csv.crc\n",
      "-rw-r--r-- 1 jovyan users      0 Aug 25 15:58 _SUCCESS\n",
      "-rw-r--r-- 1 jovyan users      8 Aug 25 15:58 ._SUCCESS.crc\n"
     ]
    }
   ],
   "source": [
    "!ls -al $new_csv_file_path"
   ]
  }
 ],
 "metadata": {
  "kernelspec": {
   "display_name": "Python 3 (ipykernel)",
   "language": "python",
   "name": "python3"
  },
  "language_info": {
   "codemirror_mode": {
    "name": "ipython",
    "version": 3
   },
   "file_extension": ".py",
   "mimetype": "text/x-python",
   "name": "python",
   "nbconvert_exporter": "python",
   "pygments_lexer": "ipython3",
   "version": "3.11.4"
  }
 },
 "nbformat": 4,
 "nbformat_minor": 5
}
