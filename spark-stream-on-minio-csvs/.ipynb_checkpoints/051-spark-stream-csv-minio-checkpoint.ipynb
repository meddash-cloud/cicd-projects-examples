{
 "cells": [
  {
   "cell_type": "markdown",
   "id": "e50c0824-c12b-4ad3-96ab-1e2f9b4f6229",
   "metadata": {},
   "source": [
    "# Initialization"
   ]
  },
  {
   "cell_type": "code",
   "execution_count": null,
   "id": "e5f97dd7-a0c6-424d-b98d-f63c9dcc5e0f",
   "metadata": {},
   "outputs": [],
   "source": [
    "%run 050-init.ipynb"
   ]
  },
  {
   "cell_type": "markdown",
   "id": "86355d4f-d25e-48fa-9c02-31495cc23872",
   "metadata": {},
   "source": [
    "# get csv file from remote"
   ]
  },
  {
   "cell_type": "code",
   "execution_count": null,
   "id": "82949879-2bd4-48a6-b8f1-08a6ec707100",
   "metadata": {},
   "outputs": [],
   "source": [
    "# Split CSV into chunks"
   ]
  },
  {
   "cell_type": "code",
   "execution_count": null,
   "id": "d1628af9-fefc-4140-a5db-1b0c18dcca4b",
   "metadata": {},
   "outputs": [],
   "source": [
    "%%bash\n",
    "rm -rf csv_chunks\n",
    "mkdir -p csv_chunks\n",
    "split -d -l 40 walmart_stock.csv csv_chunks/chunk_\n",
    "for f in `ls csv_chunks`; do\n",
    "mv csv_chunks/$f csv_chunks/$f.csv\n",
    "done"
   ]
  },
  {
   "cell_type": "code",
   "execution_count": null,
   "id": "f4180b56-c1f1-4cb4-a917-5c8f5765232a",
   "metadata": {},
   "outputs": [],
   "source": [
    "BUCKET_NAME=\"spark-stream-on-minio-csvs\"\n",
    "minio_url = \"minio-service.kubeflow.svc.cluster.local:9000\"\n",
    "minio_key = \"minio\"\n",
    "minio_secret = \"minio123\"\n",
    "minio_config = {\n",
    "        \"endpoint\": minio_url,\n",
    "        \"access_key\": \"minio\",\n",
    "        \"secret_key\": \"minio123\",\n",
    "        \"secure\": False,\n",
    "        }"
   ]
  },
  {
   "cell_type": "code",
   "execution_count": null,
   "id": "240151d6-9f06-4697-a896-46e350cedd57",
   "metadata": {},
   "outputs": [],
   "source": [
    "import time\n",
    "from threading import Thread\n",
    "from minio import Minio\n",
    "from minio.error import S3Error\n",
    "import os\n",
    "import glob\n",
    "\n",
    "class UploadCSVChunksToMinio(Thread):\n",
    "    def __init__(self, csv_dir_path=None):\n",
    "        super(UploadCSVChunksToMinio, self).__init__()\n",
    "\n",
    "        self.csv_files = sorted(glob.glob(\"{}/*.csv\".format(\"csv_chunks\")))\n",
    "        print(self.csv_files)\n",
    "        print (\"connecting to minio {}\".format(minio_url))\n",
    "        self.minio_client = Minio(**minio_config)\n",
    "        \n",
    "        print(\"try to find bucket {}\".format(BUCKET_NAME))\n",
    "        found = self.minio_client.bucket_exists(BUCKET_NAME)\n",
    "        print(\"found\", found)\n",
    "        if not found:\n",
    "            self.minio_client.make_bucket(BUCKET_NAME)\n",
    "        else:\n",
    "            print(\"Bucket '{}' already exists\".format(BUCKET_NAME))\n",
    "\n",
    "\n",
    "    def upload_file_to_minio(self, upload_file_path):\n",
    "        file_name = os.path.basename(upload_file_path)\n",
    "        self.minio_client.fput_object(BUCKET_NAME, file_name, upload_file_path)\n",
    "    def  deleteAllCSVs(self):\n",
    "        # Delete using \"remove_object\"\n",
    "        objects_to_delete = self.minio_client.list_objects(BUCKET_NAME, prefix=\"/\", recursive=True)\n",
    "        for obj in objects_to_delete:\n",
    "            self.minio_client.remove_object(BUCKET_NAME, obj.object_name)\n",
    "    def run(self):\n",
    "        i=0\n",
    "        self.deleteAllCSVs()\n",
    "        for csv_file in self.csv_files:\n",
    "            self.upload_file_to_minio(csv_file)\n",
    "            time.sleep(10)\n",
    "UploadCSVChunksToMinio(csv_dir_path=\"csv_chunks\").start()"
   ]
  },
  {
   "cell_type": "code",
   "execution_count": null,
   "id": "9f366ff4-e819-462e-a69d-106cb8158c3e",
   "metadata": {},
   "outputs": [],
   "source": [
    "%%bash\n",
    "rm -rf output checkpoint"
   ]
  },
  {
   "cell_type": "code",
   "execution_count": null,
   "id": "41c9b0a5-dbe3-4a57-8caf-fce621ecf8a3",
   "metadata": {},
   "outputs": [],
   "source": [
    "from pyspark.streaming import StreamingContext\n",
    "ssc = StreamingContext(sc, 1)\n",
    "ssc.textFileStream(minio_dir_path)\\\n",
    ".start()\\\n",
    ".awaitTermination()\n"
   ]
  },
  {
   "cell_type": "code",
   "execution_count": null,
   "id": "84b8c984-61a3-4b93-842c-d33fb9745ff9",
   "metadata": {},
   "outputs": [],
   "source": [
    "import os\n",
    "\n",
    "cwd_ = os.getcwd()\n",
    "minio_dir_path = \"s3a://{}/*\".format(BUCKET_NAME)\n",
    "print(minio_dir_path)\n",
    "\n",
    "spark.sql(\"set spark.sql.streaming.schemaInference=true\")\n",
    "\n",
    "data = spark\\\n",
    ".readStream\\\n",
    ".load(minio_dir_path)\\\n",
    ".writeStream\\\n",
    ".format(\"csv\")\\\n",
    ".option(\"checkpointLocation\", \"checkpoint/\")\\\n",
    ".start(\"output/\")\\\n",
    ".awaitTermination()"
   ]
  }
 ],
 "metadata": {
  "kernelspec": {
   "display_name": "Python 3 (ipykernel)",
   "language": "python",
   "name": "python3"
  },
  "language_info": {
   "codemirror_mode": {
    "name": "ipython",
    "version": 3
   },
   "file_extension": ".py",
   "mimetype": "text/x-python",
   "name": "python",
   "nbconvert_exporter": "python",
   "pygments_lexer": "ipython3",
   "version": "3.11.5"
  }
 },
 "nbformat": 4,
 "nbformat_minor": 5
}
