{
 "cells": [
  {
   "cell_type": "code",
   "execution_count": 1,
   "id": "f6927fa3-c7ca-41f8-b638-03935eb1812b",
   "metadata": {},
   "outputs": [],
   "source": [
    "%run 020-pipeline-step-01.ipynb"
   ]
  },
  {
   "cell_type": "code",
   "execution_count": 2,
   "id": "a5fca38c-2658-42ab-b508-e6c5d606d0f9",
   "metadata": {},
   "outputs": [
    {
     "name": "stdout",
     "output_type": "stream",
     "text": [
      "Overwriting py_src/mnist_model.py\n",
      "Overwriting py_src/handler.py\n"
     ]
    }
   ],
   "source": [
    "%run 020-pipeline-step-02.ipynb"
   ]
  },
  {
   "cell_type": "code",
   "execution_count": 3,
   "id": "a2768753-28c9-4413-8b16-27ca4de94432",
   "metadata": {},
   "outputs": [],
   "source": [
    "%run 020-pipeline-step-03.ipynb"
   ]
  },
  {
   "cell_type": "code",
   "execution_count": 4,
   "id": "5654edc2-2765-46cb-ad4a-82e1f7fb4764",
   "metadata": {},
   "outputs": [
    {
     "name": "stdout",
     "output_type": "stream",
     "text": [
      "mnist_model.py\n"
     ]
    }
   ],
   "source": [
    "%%bash\n",
    "py_src_path=/tmp/abc/test_py_src\n",
    "mkdir -p $py_src_path\n",
    "cp py_src/mnist_model.py $py_src_path\n",
    "ls $py_src_path"
   ]
  },
  {
   "cell_type": "code",
   "execution_count": 1,
   "id": "757cfaeb-5372-412e-846c-8596be13fa2e",
   "metadata": {},
   "outputs": [
    {
     "name": "stdout",
     "output_type": "stream",
     "text": [
      "datapipelines-029\n"
     ]
    }
   ],
   "source": [
    "!echo $MEDDASH_BRANCH_NAME"
   ]
  },
  {
   "cell_type": "code",
   "execution_count": 2,
   "id": "be28e504-a248-4a1e-beab-3610b206c5f7",
   "metadata": {},
   "outputs": [
    {
     "ename": "NameError",
     "evalue": "name 'put_public_mnist_to_local_minio' is not defined",
     "output_type": "error",
     "traceback": [
      "\u001b[0;31m---------------------------------------------------------------------------\u001b[0m",
      "\u001b[0;31mNameError\u001b[0m                                 Traceback (most recent call last)",
      "Cell \u001b[0;32mIn[2], line 25\u001b[0m\n\u001b[1;32m      1\u001b[0m \u001b[38;5;28;01mimport\u001b[39;00m \u001b[38;5;21;01mos\u001b[39;00m\n\u001b[1;32m      3\u001b[0m args \u001b[38;5;241m=\u001b[39m {\n\u001b[1;32m      4\u001b[0m     \u001b[38;5;124m\"\u001b[39m\u001b[38;5;124mepochs\u001b[39m\u001b[38;5;124m\"\u001b[39m: \u001b[38;5;241m1\u001b[39m,\n\u001b[1;32m      5\u001b[0m     \u001b[38;5;124m\"\u001b[39m\u001b[38;5;124moptimizer\u001b[39m\u001b[38;5;124m\"\u001b[39m: \u001b[38;5;124m\"\u001b[39m\u001b[38;5;124madam\u001b[39m\u001b[38;5;124m\"\u001b[39m,\n\u001b[0;32m   (...)\u001b[0m\n\u001b[1;32m     21\u001b[0m     \u001b[38;5;124m\"\u001b[39m\u001b[38;5;124mversion\u001b[39m\u001b[38;5;124m\"\u001b[39m: \u001b[38;5;124m\"\u001b[39m\u001b[38;5;124m22\u001b[39m\u001b[38;5;124m\"\u001b[39m\n\u001b[1;32m     22\u001b[0m }\n\u001b[0;32m---> 25\u001b[0m \u001b[43mput_public_mnist_to_local_minio\u001b[49m(args)\n\u001b[1;32m     26\u001b[0m train_model(args)\n\u001b[1;32m     27\u001b[0m test_model_and_save_metrics(args)\n",
      "\u001b[0;31mNameError\u001b[0m: name 'put_public_mnist_to_local_minio' is not defined"
     ]
    }
   ],
   "source": [
    "import os\n",
    "\n",
    "args = {\n",
    "    \"epochs\": 1,\n",
    "    \"optimizer\": \"adam\",\n",
    "    \"batch_size\":64,\n",
    "    \"test_batch_size\":1000,\n",
    "    \"device_name\":\"cpu\",\n",
    "    \"epochs\":1,\n",
    "    \"lr\":0.03,\n",
    "    \"gamma\":0.7,\n",
    "    \"seed\":1,\n",
    "    \"log_interval\":100,\n",
    "    \"model_save_prefix\": \"models/trained/detect-digits\",\n",
    "    \"bucket_name\": os.environ[\"MEDDASH_BRANCH_NAME\"],\n",
    "    \"take_nth_in_subset\":100,\n",
    "    # \"model_src_local_path\":\"/tmp/abc/test_py_src/mnist_model.py\",\n",
    "    # \"handler_src_local_path\":\"/tmp/abc/test_py_src/mnist_model.py\",\n",
    "    # \"model_src_minio_path\":\"mnist_model.py\", #it is concatenated as model_save_prefix+model_src_minio_path\n",
    "    # \"handler_src_minio_path\":\"handler.py\",#it is concatenated as model_save_prefix+model_src_minio_path\n",
    "    \"version\": \"22\"\n",
    "}\n",
    "\n",
    "\n",
    "put_public_mnist_to_local_minio(args)\n",
    "train_model(args)\n",
    "test_model_and_save_metrics(args)"
   ]
  },
  {
   "cell_type": "code",
   "execution_count": 6,
   "id": "9630e66e-3dd6-490b-bc5c-8acc1ad4aa51",
   "metadata": {},
   "outputs": [
    {
     "data": {
      "text/plain": [
       "Net(\n",
       "  (conv1): Conv2d(1, 32, kernel_size=(3, 3), stride=(1, 1))\n",
       "  (conv2): Conv2d(32, 64, kernel_size=(3, 3), stride=(1, 1))\n",
       "  (dropout1): Dropout(p=0.25, inplace=False)\n",
       "  (dropout2): Dropout(p=0.5, inplace=False)\n",
       "  (fc1): Linear(in_features=9216, out_features=128, bias=True)\n",
       "  (fc2): Linear(in_features=128, out_features=10, bias=True)\n",
       ")"
      ]
     },
     "execution_count": 6,
     "metadata": {},
     "output_type": "execute_result"
    }
   ],
   "source": [
    "import os\n",
    "import sys\n",
    "\n",
    "cwd_ = os.getcwd()    \n",
    "sys.path.append(cwd_+\"/py_src\") # go to parent dir\n",
    "import py_src.mnist_model as mnist_model\n",
    "\n",
    "Net = mnist_model.Net\n",
    "Net()"
   ]
  },
  {
   "cell_type": "code",
   "execution_count": 7,
   "id": "be1802fd-368b-458e-a4a4-000b6bc4e787",
   "metadata": {},
   "outputs": [
    {
     "name": "stdout",
     "output_type": "stream",
     "text": [
      "handler.py  mnist_model.py\n"
     ]
    }
   ],
   "source": []
  }
 ],
 "metadata": {
  "kernelspec": {
   "display_name": "Python 3 (ipykernel)",
   "language": "python",
   "name": "python3"
  },
  "language_info": {
   "codemirror_mode": {
    "name": "ipython",
    "version": 3
   },
   "file_extension": ".py",
   "mimetype": "text/x-python",
   "name": "python",
   "nbconvert_exporter": "python",
   "pygments_lexer": "ipython3",
   "version": "3.8.10"
  }
 },
 "nbformat": 4,
 "nbformat_minor": 5
}
