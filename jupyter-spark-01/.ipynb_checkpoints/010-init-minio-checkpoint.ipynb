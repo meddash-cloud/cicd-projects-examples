{
 "cells": [
  {
   "cell_type": "code",
   "execution_count": 1,
   "id": "2a9e7296-b87b-4f29-8977-f0c843eccd79",
   "metadata": {},
   "outputs": [
    {
     "name": "stdout",
     "output_type": "stream",
     "text": [
      "Requirement already satisfied: minio in /opt/conda/lib/python3.8/site-packages (7.1.15)\n",
      "Requirement already satisfied: urllib3 in /opt/conda/lib/python3.8/site-packages (from minio) (1.26.9)\n",
      "Requirement already satisfied: certifi in /opt/conda/lib/python3.8/site-packages (from minio) (2022.6.15)\n"
     ]
    }
   ],
   "source": [
    "!pip3 install minio"
   ]
  },
  {
   "cell_type": "code",
   "execution_count": 2,
   "id": "d44a4f6e-4d6a-41aa-ab98-af00b248697e",
   "metadata": {},
   "outputs": [
    {
     "name": "stdout",
     "output_type": "stream",
     "text": [
      "d9401376e4974ab6c3e1a607c4a6d1ac -\n",
      "8d7562f43ff45dc6b6627bcbf843abd9 -\n",
      "f96884db88be15fd669d2a969cd44dd5 -\n",
      "6abf4e5fa3ab7fbaf49bd31a29a50ebf -\n",
      "1323d3e33a1c486fadb7250813161551 -\n"
     ]
    }
   ],
   "source": [
    "%%bash\n",
    "## create dummy files (sleep 1 to generated random string)\n",
    "echo `date| md5sum` > /tmp/file01 && sleep 1\n",
    "echo `date| md5sum` > /tmp/file02 && sleep 1\n",
    "echo `date| md5sum` > /tmp/file03 && sleep 1\n",
    "echo `date| md5sum` > /tmp/file04 && sleep 1\n",
    "echo `date| md5sum` > /tmp/file05\n",
    "cat /tmp/file0*"
   ]
  },
  {
   "cell_type": "code",
   "execution_count": 4,
   "id": "d4d5379a-0d16-4e87-a47c-cf36133f0331",
   "metadata": {},
   "outputs": [
    {
     "name": "stdout",
     "output_type": "stream",
     "text": [
      "MINIO_SERVICE_SERVICE_PORT_HTTP=9000\n",
      "MINIO_SERVICE_PORT_9000_TCP_ADDR=10.152.183.226\n",
      "MINIO_SERVICE_PORT=tcp://10.152.183.226:9000\n",
      "MINIO_SERVICE_PORT_9000_TCP_PROTO=tcp\n",
      "MINIO_SERVICE_PORT_9000_TCP_PORT=9000\n",
      "MINIO_SERVICE_PORT_9000_TCP=tcp://10.152.183.226:9000\n",
      "MINIO_SERVICE_SERVICE_HOST=10.152.183.226\n",
      "MINIO_SERVICE_SERVICE_PORT=9000\n"
     ]
    }
   ],
   "source": [
    "%%bash\n",
    "env |grep -i minio"
   ]
  },
  {
   "cell_type": "code",
   "execution_count": 5,
   "id": "a9a97348-3c19-41f2-b02c-00036c11b91d",
   "metadata": {},
   "outputs": [
    {
     "name": "stdout",
     "output_type": "stream",
     "text": [
      "minio address:\n",
      "http://10.152.183.226:9000\n"
     ]
    }
   ],
   "source": [
    "%%bash\n",
    "echo minio address:\n",
    "echo http://$MINIO_SERVICE_SERVICE_HOST:$MINIO_SERVICE_SERVICE_PORT_HTTP"
   ]
  },
  {
   "cell_type": "code",
   "execution_count": 6,
   "id": "31924933-167c-409c-ae4d-614470c867d0",
   "metadata": {},
   "outputs": [
    {
     "name": "stdout",
     "output_type": "stream",
     "text": [
      "10.152.183.226:9000\n"
     ]
    }
   ],
   "source": [
    "import os\n",
    "minio_host, minio_port = os.environ[\"MINIO_SERVICE_SERVICE_HOST\"], os.environ[\"MINIO_SERVICE_SERVICE_PORT_HTTP\"]\n",
    "minio_url= \"{}:{}\".format(minio_host, minio_port)\n",
    "print(minio_url)"
   ]
  },
  {
   "cell_type": "code",
   "execution_count": 7,
   "id": "c97e3a2a-4cdf-451c-be3d-5ef8d066c3bd",
   "metadata": {},
   "outputs": [
    {
     "name": "stdout",
     "output_type": "stream",
     "text": [
      "connecting to minio 10.152.183.226:9000\n",
      "try to find bucket datapipeline-021\n",
      "found True\n",
      "Bucket 'datapipeline-021' already exists\n"
     ]
    }
   ],
   "source": [
    "from minio import Minio\n",
    "from minio.error import S3Error\n",
    "\n",
    "BUCKET_NAME=\"datapipeline-021\"\n",
    "\n",
    "config = {\n",
    "    \"endpoint\": minio_url,\n",
    "    \"access_key\": \"minio\",\n",
    "    \"secret_key\": \"minio123\",\n",
    "    \"secure\": False,\n",
    "    }\n",
    "\n",
    "\n",
    "# Create a client with the MinIO server playground, its access key\n",
    "# and secret key.\n",
    "print (\"connecting to minio {}\".format(minio_url))\n",
    "minio_client = Minio(**config)\n",
    "\n",
    "print(\"try to find bucket {}\".format(BUCKET_NAME))\n",
    "found = minio_client.bucket_exists(BUCKET_NAME)\n",
    "print(\"found\", found)\n",
    "if not found:\n",
    "    minio_client.make_bucket(BUCKET_NAME)\n",
    "else:\n",
    "    print(\"Bucket '{}' already exists\".format(BUCKET_NAME))\n",
    "\n",
    "# # Upload '/home/user/Photos/asiaphotos.zip' as object name\n",
    "# # 'asiaphotos-2015.zip' to bucket 'asiatrip'.\n",
    "# client.fput_object(\n",
    "# \"asiatrip\", \"asiaphotos-2015.zip\", \"/home/user/Photos/asiaphotos.zip\",\n",
    "# )\n",
    "# print(\n",
    "# \"'/home/user/Photos/asiaphotos.zip' is successfully uploaded as \"\n",
    "# \"object 'asiaphotos-2015.zip' to bucket 'asiatrip'.\"\n",
    "# )\n"
   ]
  },
  {
   "cell_type": "code",
   "execution_count": 8,
   "id": "b4d36626-9c50-42b7-849b-6fe5542031df",
   "metadata": {},
   "outputs": [],
   "source": [
    "import glob\n",
    "import os\n",
    "files=glob.glob(\"/tmp/file0*\")\n",
    "for filepath in files:\n",
    "    minio_client.fput_object(BUCKET_NAME, os.path.basename(filepath), filepath)"
   ]
  },
  {
   "cell_type": "code",
   "execution_count": 9,
   "id": "7e2f297f-09b4-4b44-9517-97954805b65d",
   "metadata": {},
   "outputs": [
    {
     "name": "stdout",
     "output_type": "stream",
     "text": [
      "file01\n",
      "<minio.datatypes.Object object at 0x7fc260582ca0>\n",
      "file02\n",
      "<minio.datatypes.Object object at 0x7fc260582df0>\n",
      "file03\n",
      "<minio.datatypes.Object object at 0x7fc260582f10>\n",
      "file04\n",
      "<minio.datatypes.Object object at 0x7fc260582dc0>\n",
      "file05\n",
      "<minio.datatypes.Object object at 0x7fc2605829a0>\n"
     ]
    }
   ],
   "source": [
    "\n",
    "def download_path(filename):\n",
    "    return \"/tmp/minio_download_{}\".format(filename)\n",
    "\n",
    "for item in minio_client.list_objects(BUCKET_NAME,recursive=False):\n",
    "    print(item.object_name)\n",
    "    obj=minio_client.fget_object(BUCKET_NAME,item.object_name,download_path(item.object_name))\n",
    "    print(obj)\n"
   ]
  },
  {
   "cell_type": "code",
   "execution_count": 10,
   "id": "1595df36-6597-422a-b398-363af151758f",
   "metadata": {},
   "outputs": [
    {
     "name": "stdout",
     "output_type": "stream",
     "text": [
      "/tmp/minio_download_file01\n",
      "d9401376e4974ab6c3e1a607c4a6d1ac -\n",
      "/tmp/minio_download_file02\n",
      "8d7562f43ff45dc6b6627bcbf843abd9 -\n",
      "/tmp/minio_download_file03\n",
      "f96884db88be15fd669d2a969cd44dd5 -\n",
      "/tmp/minio_download_file04\n",
      "6abf4e5fa3ab7fbaf49bd31a29a50ebf -\n",
      "/tmp/minio_download_file05\n",
      "1323d3e33a1c486fadb7250813161551 -\n"
     ]
    }
   ],
   "source": [
    "%%bash\n",
    "for f in `ls /tmp/minio_download*`; do\n",
    "    echo $f\n",
    "    cat $f\n",
    "done\n"
   ]
  }
 ],
 "metadata": {
  "kernelspec": {
   "display_name": "Python 3 (ipykernel)",
   "language": "python",
   "name": "python3"
  },
  "language_info": {
   "codemirror_mode": {
    "name": "ipython",
    "version": 3
   },
   "file_extension": ".py",
   "mimetype": "text/x-python",
   "name": "python",
   "nbconvert_exporter": "python",
   "pygments_lexer": "ipython3",
   "version": "3.8.10"
  }
 },
 "nbformat": 4,
 "nbformat_minor": 5
}
