{
 "cells": [
  {
   "cell_type": "code",
   "execution_count": 1,
   "id": "2a9e7296-b87b-4f29-8977-f0c843eccd79",
   "metadata": {},
   "outputs": [
    {
     "name": "stdout",
     "output_type": "stream",
     "text": [
      "Collecting minio\n",
      "  Obtaining dependency information for minio from https://files.pythonhosted.org/packages/9a/ae/c20305102e32f078ec5e77a5010378318307a2de213f61be6c5facb56f0f/minio-7.1.16-py3-none-any.whl.metadata\n",
      "  Downloading minio-7.1.16-py3-none-any.whl.metadata (4.2 kB)\n",
      "Requirement already satisfied: certifi in /opt/conda/lib/python3.11/site-packages (from minio) (2023.7.22)\n",
      "Requirement already satisfied: urllib3 in /opt/conda/lib/python3.11/site-packages (from minio) (2.0.4)\n",
      "Downloading minio-7.1.16-py3-none-any.whl (77 kB)\n",
      "\u001b[2K   \u001b[90m━━━━━━━━━━━━━━━━━━━━━━━━━━━━━━━━━━━━━━━━\u001b[0m \u001b[32m77.9/77.9 kB\u001b[0m \u001b[31m3.9 MB/s\u001b[0m eta \u001b[36m0:00:00\u001b[0m\n",
      "\u001b[?25hInstalling collected packages: minio\n",
      "Successfully installed minio-7.1.16\n"
     ]
    }
   ],
   "source": [
    "!pip3 install minio"
   ]
  },
  {
   "cell_type": "code",
   "execution_count": 2,
   "id": "d44a4f6e-4d6a-41aa-ab98-af00b248697e",
   "metadata": {},
   "outputs": [
    {
     "name": "stdout",
     "output_type": "stream",
     "text": [
      "2c4ed3c806fb15a8156d8e9fc23204df -\n",
      "f89b7ce5bb4a4e4e47feee0431370e4f -\n",
      "6488ae1d3a63d8c395742707122e3ba3 -\n",
      "b388f2274b7296a52f2b956691eec2a6 -\n",
      "14cdcd085bc3dce79e226c01745fbd83 -\n"
     ]
    }
   ],
   "source": [
    "%%bash\n",
    "## create dummy files (sleep 1 to generated random string)\n",
    "echo `date| md5sum` > /tmp/file01 && sleep 1\n",
    "echo `date| md5sum` > /tmp/file02 && sleep 1\n",
    "echo `date| md5sum` > /tmp/file03 && sleep 1\n",
    "echo `date| md5sum` > /tmp/file04 && sleep 1\n",
    "echo `date| md5sum` > /tmp/file05\n",
    "cat /tmp/file0*"
   ]
  },
  {
   "cell_type": "code",
   "execution_count": 17,
   "id": "31924933-167c-409c-ae4d-614470c867d0",
   "metadata": {},
   "outputs": [
    {
     "name": "stdout",
     "output_type": "stream",
     "text": [
      "minio url: minio-service.kubeflow.svc.cluster.local:9000\n"
     ]
    }
   ],
   "source": [
    "minio_url= \"minio-service.kubeflow.svc.cluster.local:9000\"\n",
    "print(\"minio url:\", minio_url)"
   ]
  },
  {
   "cell_type": "code",
   "execution_count": 13,
   "id": "c97e3a2a-4cdf-451c-be3d-5ef8d066c3bd",
   "metadata": {},
   "outputs": [
    {
     "name": "stdout",
     "output_type": "stream",
     "text": [
      "connecting to minio minio-service.kubeflow.svc.cluster.local:9000\n",
      "try to find bucket datapipeline-021\n",
      "found True\n",
      "Bucket 'datapipeline-021' already exists\n"
     ]
    }
   ],
   "source": [
    "from minio import Minio\n",
    "from minio.error import S3Error\n",
    "\n",
    "BUCKET_NAME=\"datapipeline-021\"\n",
    "\n",
    "config = {\n",
    "    \"endpoint\": minio_url,\n",
    "    \"access_key\": \"minio\",\n",
    "    \"secret_key\": \"minio123\",\n",
    "    \"secure\": False,\n",
    "    }\n",
    "\n",
    "\n",
    "# Create a client with the MinIO server playground, its access key\n",
    "# and secret key.\n",
    "print (\"connecting to minio {}\".format(minio_url))\n",
    "minio_client = Minio(**config)\n",
    "\n",
    "print(\"try to find bucket {}\".format(BUCKET_NAME))\n",
    "found = minio_client.bucket_exists(BUCKET_NAME)\n",
    "print(\"found\", found)\n",
    "if not found:\n",
    "    minio_client.make_bucket(BUCKET_NAME)\n",
    "else:\n",
    "    print(\"Bucket '{}' already exists\".format(BUCKET_NAME))\n",
    "\n",
    "# # Upload '/home/user/Photos/asiaphotos.zip' as object name\n",
    "# # 'asiaphotos-2015.zip' to bucket 'asiatrip'.\n",
    "# client.fput_object(\n",
    "# \"asiatrip\", \"asiaphotos-2015.zip\", \"/home/user/Photos/asiaphotos.zip\",\n",
    "# )\n",
    "# print(\n",
    "# \"'/home/user/Photos/asiaphotos.zip' is successfully uploaded as \"\n",
    "# \"object 'asiaphotos-2015.zip' to bucket 'asiatrip'.\"\n",
    "# )\n"
   ]
  },
  {
   "cell_type": "code",
   "execution_count": 14,
   "id": "b4d36626-9c50-42b7-849b-6fe5542031df",
   "metadata": {},
   "outputs": [],
   "source": [
    "import glob\n",
    "import os\n",
    "files=glob.glob(\"/tmp/file0*\")\n",
    "for filepath in files:\n",
    "    minio_client.fput_object(BUCKET_NAME, os.path.basename(filepath), filepath)"
   ]
  },
  {
   "cell_type": "code",
   "execution_count": 15,
   "id": "7e2f297f-09b4-4b44-9517-97954805b65d",
   "metadata": {},
   "outputs": [
    {
     "name": "stdout",
     "output_type": "stream",
     "text": [
      "file01\n",
      "<minio.datatypes.Object object at 0x7f8abc39bfd0>\n",
      "file02\n",
      "<minio.datatypes.Object object at 0x7f8abc60e690>\n",
      "file03\n",
      "<minio.datatypes.Object object at 0x7f8abc557650>\n",
      "file04\n",
      "<minio.datatypes.Object object at 0x7f8ac06fd1d0>\n",
      "file05\n",
      "<minio.datatypes.Object object at 0x7f8abc566190>\n"
     ]
    }
   ],
   "source": [
    "\n",
    "def download_path(filename):\n",
    "    return \"/tmp/minio_download_{}\".format(filename)\n",
    "\n",
    "for item in minio_client.list_objects(BUCKET_NAME,recursive=False):\n",
    "    print(item.object_name)\n",
    "    obj=minio_client.fget_object(BUCKET_NAME,item.object_name,download_path(item.object_name))\n",
    "    print(obj)\n"
   ]
  },
  {
   "cell_type": "code",
   "execution_count": 16,
   "id": "1595df36-6597-422a-b398-363af151758f",
   "metadata": {},
   "outputs": [
    {
     "name": "stdout",
     "output_type": "stream",
     "text": [
      "/tmp/minio_download_file01\n",
      "2c4ed3c806fb15a8156d8e9fc23204df -\n",
      "/tmp/minio_download_file02\n",
      "f89b7ce5bb4a4e4e47feee0431370e4f -\n",
      "/tmp/minio_download_file03\n",
      "6488ae1d3a63d8c395742707122e3ba3 -\n",
      "/tmp/minio_download_file04\n",
      "b388f2274b7296a52f2b956691eec2a6 -\n",
      "/tmp/minio_download_file05\n",
      "14cdcd085bc3dce79e226c01745fbd83 -\n"
     ]
    }
   ],
   "source": [
    "%%bash\n",
    "for f in `ls /tmp/minio_download*`; do\n",
    "    echo $f\n",
    "    cat $f\n",
    "done\n"
   ]
  }
 ],
 "metadata": {
  "kernelspec": {
   "display_name": "Python 3 (ipykernel)",
   "language": "python",
   "name": "python3"
  },
  "language_info": {
   "codemirror_mode": {
    "name": "ipython",
    "version": 3
   },
   "file_extension": ".py",
   "mimetype": "text/x-python",
   "name": "python",
   "nbconvert_exporter": "python",
   "pygments_lexer": "ipython3",
   "version": "3.11.4"
  }
 },
 "nbformat": 4,
 "nbformat_minor": 5
}
