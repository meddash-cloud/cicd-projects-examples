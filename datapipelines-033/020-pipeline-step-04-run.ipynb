{
 "cells": [
  {
   "cell_type": "code",
   "execution_count": 1,
   "id": "f6927fa3-c7ca-41f8-b638-03935eb1812b",
   "metadata": {},
   "outputs": [],
   "source": [
    "%run 020-pipeline-step-01.ipynb"
   ]
  },
  {
   "cell_type": "code",
   "execution_count": 2,
   "id": "a5fca38c-2658-42ab-b508-e6c5d606d0f9",
   "metadata": {},
   "outputs": [
    {
     "name": "stdout",
     "output_type": "stream",
     "text": [
      "Overwriting /tmp/py_src/iris_model.py\n"
     ]
    }
   ],
   "source": [
    "%run 020-pipeline-step-02.ipynb"
   ]
  },
  {
   "cell_type": "code",
   "execution_count": 3,
   "id": "a2768753-28c9-4413-8b16-27ca4de94432",
   "metadata": {},
   "outputs": [],
   "source": [
    "%run 020-pipeline-step-03.ipynb"
   ]
  },
  {
   "cell_type": "code",
   "execution_count": 4,
   "id": "5654edc2-2765-46cb-ad4a-82e1f7fb4764",
   "metadata": {},
   "outputs": [
    {
     "name": "stdout",
     "output_type": "stream",
     "text": [
      "iris_model.py\n"
     ]
    }
   ],
   "source": [
    "%%bash\n",
    "py_src_path=/tmp/abc/test_py_src\n",
    "mkdir -p $py_src_path\n",
    "cp py_src/iris_model.py $py_src_path\n",
    "ls $py_src_path"
   ]
  },
  {
   "cell_type": "code",
   "execution_count": null,
   "id": "757cfaeb-5372-412e-846c-8596be13fa2e",
   "metadata": {},
   "outputs": [],
   "source": []
  },
  {
   "cell_type": "code",
   "execution_count": 5,
   "id": "be28e504-a248-4a1e-beab-3610b206c5f7",
   "metadata": {},
   "outputs": [
    {
     "name": "stdout",
     "output_type": "stream",
     "text": [
      "minio url: 10.152.183.69:9000\n",
      "try to find bucket datapipelines-033\n",
      "found True\n",
      "Bucket 'datapipelines-033' already exists\n",
      "files ['iris_model.py']\n",
      "datapipelines-033 models/trained/iris/4/iris.model.classifier.joblib /tmp/models/trained/iris/4/iris.model.classifier.joblib\n"
     ]
    },
    {
     "data": {
      "text/plain": [
       "Output(mlpipeline_ui_metadata='{\"outputs\": [{\"type\": \"confusion_matrix\", \"format\": \"csv\", \"schema\": [{\"name\": \"target\", \"type\": \"CATEGORY\"}, {\"name\": \"predicted\", \"type\": \"CATEGORY\"}, {\"name\": \"count\", \"type\": \"NUMBER\"}], \"target_col\": \"actual\", \"predicted_col\": \"predicted\", \"source\": \"0,0,13\\\\n0,1,0\\\\n0,2,0\\\\n1,0,0\\\\n1,1,6\\\\n1,2,0\\\\n2,0,0\\\\n2,1,1\\\\n2,2,10\\\\n\", \"storage\": \"inline\", \"labels\": [0, 1, 2, 3, 4, 5, 6, 7, 8, 9]}, {\"type\": \"markdown\", \"storage\": \"inline\", \"source\": \"# Model Overview\\\\n## Model Summary\\\\n\\\\n```\\\\nIt is an SVM classifier.\\\\n```\\\\n\\\\n## Model Performance\\\\n\\\\n**Accuracy**: 0.9666666666666667\\\\n\\\\n\\\\n\"}]}', mlpipeline_metrics='{\"metrics\": [{\"name\": \"model_accuracy\", \"numberValue\": 0.9666666666666667, \"format\": \"PERCENTAGE\"}]}')"
      ]
     },
     "execution_count": 5,
     "metadata": {},
     "output_type": "execute_result"
    }
   ],
   "source": [
    "args = {\n",
    "    \"epochs\": 1,\n",
    "    \"optimizer\": \"adam\",\n",
    "    \"batch_size\":64,\n",
    "    \"test_batch_size\":1000,\n",
    "    \"device_name\":\"cpu\",\n",
    "    \"epochs\":1,\n",
    "    \"lr\":0.03,\n",
    "    \"gamma\":0.7,\n",
    "    \"seed\":1,\n",
    "    \"log_interval\":100,\n",
    "    \"model_save_prefix\": \"models/trained/iris\",\n",
    "    \"bucket_name\":\"datapipelines-033\",\n",
    "    \"take_nth_in_subset\":100,\n",
    "    # \"model_src_local_path\":\"/tmp/abc/test_py_src/mnist_model.py\",\n",
    "    # \"handler_src_local_path\":\"/tmp/abc/test_py_src/mnist_model.py\",\n",
    "    # \"model_src_minio_path\":\"mnist_model.py\", #it is concatenated as model_save_prefix+model_src_minio_path\n",
    "    # \"handler_src_minio_path\":\"handler.py\",#it is concatenated as model_save_prefix+model_src_minio_path\n",
    "    \"version\": \"4\"\n",
    "}\n",
    "\n",
    "\n",
    "put_public_iris_to_local_minio(args)\n",
    "train_model(args)\n",
    "test_model_and_save_metrics(args)"
   ]
  }
 ],
 "metadata": {
  "kernelspec": {
   "display_name": "Python 3 (ipykernel)",
   "language": "python",
   "name": "python3"
  },
  "language_info": {
   "codemirror_mode": {
    "name": "ipython",
    "version": 3
   },
   "file_extension": ".py",
   "mimetype": "text/x-python",
   "name": "python",
   "nbconvert_exporter": "python",
   "pygments_lexer": "ipython3",
   "version": "3.8.10"
  }
 },
 "nbformat": 4,
 "nbformat_minor": 5
}
